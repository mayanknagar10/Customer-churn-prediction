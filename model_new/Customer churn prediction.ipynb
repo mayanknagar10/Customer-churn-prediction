{
 "cells": [
  {
   "cell_type": "code",
   "execution_count": 1,
   "metadata": {},
   "outputs": [],
   "source": [
    "import numpy as np\n",
    "import pandas as pd\n",
    "import seaborn as sns\n",
    "import matplotlib.pyplot as plt\n",
    "%matplotlib inline\n",
    "\n",
    "from sklearn.model_selection import cross_val_predict\n",
    "from sklearn.metrics import confusion_matrix, classification_report, f1_score, precision_score, recall_score, roc_auc_score, roc_curve\n",
    "from sklearn.linear_model import LogisticRegression  \n",
    "from sklearn.neighbors import KNeighborsClassifier  \n",
    "from sklearn.svm import SVC\n",
    "from catboost import CatBoostClassifier\n",
    "from sklearn.ensemble import GradientBoostingClassifier\n",
    "from sklearn.tree import DecisionTreeClassifier \n",
    "from sklearn.ensemble import RandomForestClassifier\n",
    "from lightgbm import LGBMClassifier\n",
    "from sklearn.model_selection import train_test_split\n",
    "from sklearn import preprocessing\n",
    "from sklearn.metrics import accuracy_score,recall_score\n",
    "from xgboost import XGBClassifier\n",
    "from sklearn.model_selection import KFold\n",
    "from sklearn.model_selection import cross_val_score, GridSearchCV\n",
    "\n",
    "import warnings\n",
    "warnings.filterwarnings(\"ignore\", category=DeprecationWarning) \n",
    "warnings.filterwarnings(\"ignore\", category=FutureWarning) \n",
    "warnings.filterwarnings(\"ignore\", category=UserWarning) "
   ]
  },
  {
   "cell_type": "code",
   "execution_count": 2,
   "metadata": {},
   "outputs": [],
   "source": [
    "pd.set_option('display.max_columns', None);\n",
    "pd.set_option('display.max_rows', None);\n",
    "pd.set_option('display.float_format', lambda x: '%.2f' %x)"
   ]
  },
  {
   "cell_type": "code",
   "execution_count": 3,
   "metadata": {
    "scrolled": true
   },
   "outputs": [
    {
     "data": {
      "text/html": [
       "<div>\n",
       "<style scoped>\n",
       "    .dataframe tbody tr th:only-of-type {\n",
       "        vertical-align: middle;\n",
       "    }\n",
       "\n",
       "    .dataframe tbody tr th {\n",
       "        vertical-align: top;\n",
       "    }\n",
       "\n",
       "    .dataframe thead th {\n",
       "        text-align: right;\n",
       "    }\n",
       "</style>\n",
       "<table border=\"1\" class=\"dataframe\">\n",
       "  <thead>\n",
       "    <tr style=\"text-align: right;\">\n",
       "      <th></th>\n",
       "      <th>CustomerId</th>\n",
       "      <th>Surname</th>\n",
       "      <th>CreditScore</th>\n",
       "      <th>Geography</th>\n",
       "      <th>Gender</th>\n",
       "      <th>Age</th>\n",
       "      <th>Tenure</th>\n",
       "      <th>Balance</th>\n",
       "      <th>NumOfProducts</th>\n",
       "      <th>HasCrCard</th>\n",
       "      <th>IsActiveMember</th>\n",
       "      <th>EstimatedSalary</th>\n",
       "      <th>Exited</th>\n",
       "    </tr>\n",
       "    <tr>\n",
       "      <th>RowNumber</th>\n",
       "      <th></th>\n",
       "      <th></th>\n",
       "      <th></th>\n",
       "      <th></th>\n",
       "      <th></th>\n",
       "      <th></th>\n",
       "      <th></th>\n",
       "      <th></th>\n",
       "      <th></th>\n",
       "      <th></th>\n",
       "      <th></th>\n",
       "      <th></th>\n",
       "      <th></th>\n",
       "    </tr>\n",
       "  </thead>\n",
       "  <tbody>\n",
       "    <tr>\n",
       "      <th>1</th>\n",
       "      <td>15634602</td>\n",
       "      <td>Hargrave</td>\n",
       "      <td>619</td>\n",
       "      <td>France</td>\n",
       "      <td>Female</td>\n",
       "      <td>42</td>\n",
       "      <td>2</td>\n",
       "      <td>0.00</td>\n",
       "      <td>1</td>\n",
       "      <td>1</td>\n",
       "      <td>1</td>\n",
       "      <td>101348.88</td>\n",
       "      <td>1</td>\n",
       "    </tr>\n",
       "    <tr>\n",
       "      <th>2</th>\n",
       "      <td>15647311</td>\n",
       "      <td>Hill</td>\n",
       "      <td>608</td>\n",
       "      <td>Spain</td>\n",
       "      <td>Female</td>\n",
       "      <td>41</td>\n",
       "      <td>1</td>\n",
       "      <td>83807.86</td>\n",
       "      <td>1</td>\n",
       "      <td>0</td>\n",
       "      <td>1</td>\n",
       "      <td>112542.58</td>\n",
       "      <td>0</td>\n",
       "    </tr>\n",
       "    <tr>\n",
       "      <th>3</th>\n",
       "      <td>15619304</td>\n",
       "      <td>Onio</td>\n",
       "      <td>502</td>\n",
       "      <td>France</td>\n",
       "      <td>Female</td>\n",
       "      <td>42</td>\n",
       "      <td>8</td>\n",
       "      <td>159660.80</td>\n",
       "      <td>3</td>\n",
       "      <td>1</td>\n",
       "      <td>0</td>\n",
       "      <td>113931.57</td>\n",
       "      <td>1</td>\n",
       "    </tr>\n",
       "    <tr>\n",
       "      <th>4</th>\n",
       "      <td>15701354</td>\n",
       "      <td>Boni</td>\n",
       "      <td>699</td>\n",
       "      <td>France</td>\n",
       "      <td>Female</td>\n",
       "      <td>39</td>\n",
       "      <td>1</td>\n",
       "      <td>0.00</td>\n",
       "      <td>2</td>\n",
       "      <td>0</td>\n",
       "      <td>0</td>\n",
       "      <td>93826.63</td>\n",
       "      <td>0</td>\n",
       "    </tr>\n",
       "    <tr>\n",
       "      <th>5</th>\n",
       "      <td>15737888</td>\n",
       "      <td>Mitchell</td>\n",
       "      <td>850</td>\n",
       "      <td>Spain</td>\n",
       "      <td>Female</td>\n",
       "      <td>43</td>\n",
       "      <td>2</td>\n",
       "      <td>125510.82</td>\n",
       "      <td>1</td>\n",
       "      <td>1</td>\n",
       "      <td>1</td>\n",
       "      <td>79084.10</td>\n",
       "      <td>0</td>\n",
       "    </tr>\n",
       "  </tbody>\n",
       "</table>\n",
       "</div>"
      ],
      "text/plain": [
       "           CustomerId   Surname  CreditScore Geography  Gender  Age  Tenure  \\\n",
       "RowNumber                                                                     \n",
       "1            15634602  Hargrave          619    France  Female   42       2   \n",
       "2            15647311      Hill          608     Spain  Female   41       1   \n",
       "3            15619304      Onio          502    France  Female   42       8   \n",
       "4            15701354      Boni          699    France  Female   39       1   \n",
       "5            15737888  Mitchell          850     Spain  Female   43       2   \n",
       "\n",
       "            Balance  NumOfProducts  HasCrCard  IsActiveMember  \\\n",
       "RowNumber                                                       \n",
       "1              0.00              1          1               1   \n",
       "2          83807.86              1          0               1   \n",
       "3         159660.80              3          1               0   \n",
       "4              0.00              2          0               0   \n",
       "5         125510.82              1          1               1   \n",
       "\n",
       "           EstimatedSalary  Exited  \n",
       "RowNumber                           \n",
       "1                101348.88       1  \n",
       "2                112542.58       0  \n",
       "3                113931.57       1  \n",
       "4                 93826.63       0  \n",
       "5                 79084.10       0  "
      ]
     },
     "execution_count": 3,
     "metadata": {},
     "output_type": "execute_result"
    }
   ],
   "source": [
    "df = pd.read_csv(\"churn.csv\", index_col=0)\n",
    "df.head()"
   ]
  },
  {
   "cell_type": "code",
   "execution_count": 4,
   "metadata": {},
   "outputs": [
    {
     "data": {
      "text/plain": [
       "(10000, 13)"
      ]
     },
     "execution_count": 4,
     "metadata": {},
     "output_type": "execute_result"
    }
   ],
   "source": [
    "df.shape"
   ]
  },
  {
   "cell_type": "code",
   "execution_count": 5,
   "metadata": {},
   "outputs": [
    {
     "name": "stdout",
     "output_type": "stream",
     "text": [
      "<class 'pandas.core.frame.DataFrame'>\n",
      "Int64Index: 10000 entries, 1 to 10000\n",
      "Data columns (total 13 columns):\n",
      " #   Column           Non-Null Count  Dtype  \n",
      "---  ------           --------------  -----  \n",
      " 0   CustomerId       10000 non-null  int64  \n",
      " 1   Surname          10000 non-null  object \n",
      " 2   CreditScore      10000 non-null  int64  \n",
      " 3   Geography        10000 non-null  object \n",
      " 4   Gender           10000 non-null  object \n",
      " 5   Age              10000 non-null  int64  \n",
      " 6   Tenure           10000 non-null  int64  \n",
      " 7   Balance          10000 non-null  float64\n",
      " 8   NumOfProducts    10000 non-null  int64  \n",
      " 9   HasCrCard        10000 non-null  int64  \n",
      " 10  IsActiveMember   10000 non-null  int64  \n",
      " 11  EstimatedSalary  10000 non-null  float64\n",
      " 12  Exited           10000 non-null  int64  \n",
      "dtypes: float64(2), int64(8), object(3)\n",
      "memory usage: 1.1+ MB\n"
     ]
    }
   ],
   "source": [
    "df.info()"
   ]
  },
  {
   "cell_type": "code",
   "execution_count": 6,
   "metadata": {
    "scrolled": true
   },
   "outputs": [
    {
     "data": {
      "text/html": [
       "<div>\n",
       "<style scoped>\n",
       "    .dataframe tbody tr th:only-of-type {\n",
       "        vertical-align: middle;\n",
       "    }\n",
       "\n",
       "    .dataframe tbody tr th {\n",
       "        vertical-align: top;\n",
       "    }\n",
       "\n",
       "    .dataframe thead th {\n",
       "        text-align: right;\n",
       "    }\n",
       "</style>\n",
       "<table border=\"1\" class=\"dataframe\">\n",
       "  <thead>\n",
       "    <tr style=\"text-align: right;\">\n",
       "      <th></th>\n",
       "      <th>CustomerId</th>\n",
       "      <th>CreditScore</th>\n",
       "      <th>Age</th>\n",
       "      <th>Tenure</th>\n",
       "      <th>Balance</th>\n",
       "      <th>NumOfProducts</th>\n",
       "      <th>HasCrCard</th>\n",
       "      <th>IsActiveMember</th>\n",
       "      <th>EstimatedSalary</th>\n",
       "      <th>Exited</th>\n",
       "    </tr>\n",
       "  </thead>\n",
       "  <tbody>\n",
       "    <tr>\n",
       "      <th>count</th>\n",
       "      <td>10000.00</td>\n",
       "      <td>10000.00</td>\n",
       "      <td>10000.00</td>\n",
       "      <td>10000.00</td>\n",
       "      <td>10000.00</td>\n",
       "      <td>10000.00</td>\n",
       "      <td>10000.00</td>\n",
       "      <td>10000.00</td>\n",
       "      <td>10000.00</td>\n",
       "      <td>10000.00</td>\n",
       "    </tr>\n",
       "    <tr>\n",
       "      <th>mean</th>\n",
       "      <td>15690940.57</td>\n",
       "      <td>650.53</td>\n",
       "      <td>38.92</td>\n",
       "      <td>5.01</td>\n",
       "      <td>76485.89</td>\n",
       "      <td>1.53</td>\n",
       "      <td>0.71</td>\n",
       "      <td>0.52</td>\n",
       "      <td>100090.24</td>\n",
       "      <td>0.20</td>\n",
       "    </tr>\n",
       "    <tr>\n",
       "      <th>std</th>\n",
       "      <td>71936.19</td>\n",
       "      <td>96.65</td>\n",
       "      <td>10.49</td>\n",
       "      <td>2.89</td>\n",
       "      <td>62397.41</td>\n",
       "      <td>0.58</td>\n",
       "      <td>0.46</td>\n",
       "      <td>0.50</td>\n",
       "      <td>57510.49</td>\n",
       "      <td>0.40</td>\n",
       "    </tr>\n",
       "    <tr>\n",
       "      <th>min</th>\n",
       "      <td>15565701.00</td>\n",
       "      <td>350.00</td>\n",
       "      <td>18.00</td>\n",
       "      <td>0.00</td>\n",
       "      <td>0.00</td>\n",
       "      <td>1.00</td>\n",
       "      <td>0.00</td>\n",
       "      <td>0.00</td>\n",
       "      <td>11.58</td>\n",
       "      <td>0.00</td>\n",
       "    </tr>\n",
       "    <tr>\n",
       "      <th>25%</th>\n",
       "      <td>15628528.25</td>\n",
       "      <td>584.00</td>\n",
       "      <td>32.00</td>\n",
       "      <td>3.00</td>\n",
       "      <td>0.00</td>\n",
       "      <td>1.00</td>\n",
       "      <td>0.00</td>\n",
       "      <td>0.00</td>\n",
       "      <td>51002.11</td>\n",
       "      <td>0.00</td>\n",
       "    </tr>\n",
       "    <tr>\n",
       "      <th>50%</th>\n",
       "      <td>15690738.00</td>\n",
       "      <td>652.00</td>\n",
       "      <td>37.00</td>\n",
       "      <td>5.00</td>\n",
       "      <td>97198.54</td>\n",
       "      <td>1.00</td>\n",
       "      <td>1.00</td>\n",
       "      <td>1.00</td>\n",
       "      <td>100193.91</td>\n",
       "      <td>0.00</td>\n",
       "    </tr>\n",
       "    <tr>\n",
       "      <th>75%</th>\n",
       "      <td>15753233.75</td>\n",
       "      <td>718.00</td>\n",
       "      <td>44.00</td>\n",
       "      <td>7.00</td>\n",
       "      <td>127644.24</td>\n",
       "      <td>2.00</td>\n",
       "      <td>1.00</td>\n",
       "      <td>1.00</td>\n",
       "      <td>149388.25</td>\n",
       "      <td>0.00</td>\n",
       "    </tr>\n",
       "    <tr>\n",
       "      <th>max</th>\n",
       "      <td>15815690.00</td>\n",
       "      <td>850.00</td>\n",
       "      <td>92.00</td>\n",
       "      <td>10.00</td>\n",
       "      <td>250898.09</td>\n",
       "      <td>4.00</td>\n",
       "      <td>1.00</td>\n",
       "      <td>1.00</td>\n",
       "      <td>199992.48</td>\n",
       "      <td>1.00</td>\n",
       "    </tr>\n",
       "  </tbody>\n",
       "</table>\n",
       "</div>"
      ],
      "text/plain": [
       "       CustomerId  CreditScore      Age   Tenure   Balance  NumOfProducts  \\\n",
       "count    10000.00     10000.00 10000.00 10000.00  10000.00       10000.00   \n",
       "mean  15690940.57       650.53    38.92     5.01  76485.89           1.53   \n",
       "std      71936.19        96.65    10.49     2.89  62397.41           0.58   \n",
       "min   15565701.00       350.00    18.00     0.00      0.00           1.00   \n",
       "25%   15628528.25       584.00    32.00     3.00      0.00           1.00   \n",
       "50%   15690738.00       652.00    37.00     5.00  97198.54           1.00   \n",
       "75%   15753233.75       718.00    44.00     7.00 127644.24           2.00   \n",
       "max   15815690.00       850.00    92.00    10.00 250898.09           4.00   \n",
       "\n",
       "       HasCrCard  IsActiveMember  EstimatedSalary   Exited  \n",
       "count   10000.00        10000.00         10000.00 10000.00  \n",
       "mean        0.71            0.52        100090.24     0.20  \n",
       "std         0.46            0.50         57510.49     0.40  \n",
       "min         0.00            0.00            11.58     0.00  \n",
       "25%         0.00            0.00         51002.11     0.00  \n",
       "50%         1.00            1.00        100193.91     0.00  \n",
       "75%         1.00            1.00        149388.25     0.00  \n",
       "max         1.00            1.00        199992.48     1.00  "
      ]
     },
     "execution_count": 6,
     "metadata": {},
     "output_type": "execute_result"
    }
   ],
   "source": [
    "df.describe()"
   ]
  },
  {
   "cell_type": "code",
   "execution_count": 7,
   "metadata": {},
   "outputs": [
    {
     "data": {
      "text/html": [
       "<div>\n",
       "<style scoped>\n",
       "    .dataframe tbody tr th:only-of-type {\n",
       "        vertical-align: middle;\n",
       "    }\n",
       "\n",
       "    .dataframe tbody tr th {\n",
       "        vertical-align: top;\n",
       "    }\n",
       "\n",
       "    .dataframe thead th {\n",
       "        text-align: right;\n",
       "    }\n",
       "</style>\n",
       "<table border=\"1\" class=\"dataframe\">\n",
       "  <thead>\n",
       "    <tr style=\"text-align: right;\">\n",
       "      <th></th>\n",
       "      <th>CustomerId</th>\n",
       "      <th>Surname</th>\n",
       "      <th>CreditScore</th>\n",
       "      <th>Geography</th>\n",
       "      <th>Gender</th>\n",
       "      <th>Age</th>\n",
       "      <th>Tenure</th>\n",
       "      <th>Balance</th>\n",
       "      <th>NumOfProducts</th>\n",
       "      <th>HasCrCard</th>\n",
       "      <th>IsActiveMember</th>\n",
       "      <th>EstimatedSalary</th>\n",
       "      <th>Exited</th>\n",
       "    </tr>\n",
       "    <tr>\n",
       "      <th>RowNumber</th>\n",
       "      <th></th>\n",
       "      <th></th>\n",
       "      <th></th>\n",
       "      <th></th>\n",
       "      <th></th>\n",
       "      <th></th>\n",
       "      <th></th>\n",
       "      <th></th>\n",
       "      <th></th>\n",
       "      <th></th>\n",
       "      <th></th>\n",
       "      <th></th>\n",
       "      <th></th>\n",
       "    </tr>\n",
       "  </thead>\n",
       "  <tbody>\n",
       "    <tr>\n",
       "      <th>1</th>\n",
       "      <td>15634602</td>\n",
       "      <td>Hargrave</td>\n",
       "      <td>619</td>\n",
       "      <td>France</td>\n",
       "      <td>Female</td>\n",
       "      <td>42</td>\n",
       "      <td>2</td>\n",
       "      <td>0.00</td>\n",
       "      <td>1</td>\n",
       "      <td>1</td>\n",
       "      <td>1</td>\n",
       "      <td>101348.88</td>\n",
       "      <td>1</td>\n",
       "    </tr>\n",
       "    <tr>\n",
       "      <th>2</th>\n",
       "      <td>15647311</td>\n",
       "      <td>Hill</td>\n",
       "      <td>608</td>\n",
       "      <td>Spain</td>\n",
       "      <td>Female</td>\n",
       "      <td>41</td>\n",
       "      <td>1</td>\n",
       "      <td>83807.86</td>\n",
       "      <td>1</td>\n",
       "      <td>0</td>\n",
       "      <td>1</td>\n",
       "      <td>112542.58</td>\n",
       "      <td>0</td>\n",
       "    </tr>\n",
       "    <tr>\n",
       "      <th>3</th>\n",
       "      <td>15619304</td>\n",
       "      <td>Onio</td>\n",
       "      <td>502</td>\n",
       "      <td>France</td>\n",
       "      <td>Female</td>\n",
       "      <td>42</td>\n",
       "      <td>8</td>\n",
       "      <td>159660.80</td>\n",
       "      <td>3</td>\n",
       "      <td>1</td>\n",
       "      <td>0</td>\n",
       "      <td>113931.57</td>\n",
       "      <td>1</td>\n",
       "    </tr>\n",
       "    <tr>\n",
       "      <th>4</th>\n",
       "      <td>15701354</td>\n",
       "      <td>Boni</td>\n",
       "      <td>699</td>\n",
       "      <td>France</td>\n",
       "      <td>Female</td>\n",
       "      <td>39</td>\n",
       "      <td>1</td>\n",
       "      <td>0.00</td>\n",
       "      <td>2</td>\n",
       "      <td>0</td>\n",
       "      <td>0</td>\n",
       "      <td>93826.63</td>\n",
       "      <td>0</td>\n",
       "    </tr>\n",
       "    <tr>\n",
       "      <th>5</th>\n",
       "      <td>15737888</td>\n",
       "      <td>Mitchell</td>\n",
       "      <td>850</td>\n",
       "      <td>Spain</td>\n",
       "      <td>Female</td>\n",
       "      <td>43</td>\n",
       "      <td>2</td>\n",
       "      <td>125510.82</td>\n",
       "      <td>1</td>\n",
       "      <td>1</td>\n",
       "      <td>1</td>\n",
       "      <td>79084.10</td>\n",
       "      <td>0</td>\n",
       "    </tr>\n",
       "  </tbody>\n",
       "</table>\n",
       "</div>"
      ],
      "text/plain": [
       "           CustomerId   Surname  CreditScore Geography  Gender  Age  Tenure  \\\n",
       "RowNumber                                                                     \n",
       "1            15634602  Hargrave          619    France  Female   42       2   \n",
       "2            15647311      Hill          608     Spain  Female   41       1   \n",
       "3            15619304      Onio          502    France  Female   42       8   \n",
       "4            15701354      Boni          699    France  Female   39       1   \n",
       "5            15737888  Mitchell          850     Spain  Female   43       2   \n",
       "\n",
       "            Balance  NumOfProducts  HasCrCard  IsActiveMember  \\\n",
       "RowNumber                                                       \n",
       "1              0.00              1          1               1   \n",
       "2          83807.86              1          0               1   \n",
       "3         159660.80              3          1               0   \n",
       "4              0.00              2          0               0   \n",
       "5         125510.82              1          1               1   \n",
       "\n",
       "           EstimatedSalary  Exited  \n",
       "RowNumber                           \n",
       "1                101348.88       1  \n",
       "2                112542.58       0  \n",
       "3                113931.57       1  \n",
       "4                 93826.63       0  \n",
       "5                 79084.10       0  "
      ]
     },
     "execution_count": 7,
     "metadata": {},
     "output_type": "execute_result"
    }
   ],
   "source": [
    "df.head()"
   ]
  },
  {
   "cell_type": "code",
   "execution_count": 8,
   "metadata": {},
   "outputs": [
    {
     "data": {
      "text/plain": [
       "Index(['CustomerId', 'Surname', 'CreditScore', 'Geography', 'Gender', 'Age',\n",
       "       'Tenure', 'Balance', 'NumOfProducts', 'HasCrCard', 'IsActiveMember',\n",
       "       'EstimatedSalary', 'Exited'],\n",
       "      dtype='object')"
      ]
     },
     "execution_count": 8,
     "metadata": {},
     "output_type": "execute_result"
    }
   ],
   "source": [
    "df.columns"
   ]
  },
  {
   "cell_type": "code",
   "execution_count": 9,
   "metadata": {},
   "outputs": [
    {
     "data": {
      "text/plain": [
       "['Geography',\n",
       " 'Gender',\n",
       " 'Tenure',\n",
       " 'NumOfProducts',\n",
       " 'HasCrCard',\n",
       " 'IsActiveMember']"
      ]
     },
     "execution_count": 9,
     "metadata": {},
     "output_type": "execute_result"
    }
   ],
   "source": [
    "categorical_variables = [col for col in df.columns if col in \"O\"\n",
    "                        or df[col].nunique() <=11\n",
    "                        and col not in \"Exited\"]\n",
    "\n",
    "categorical_variables"
   ]
  },
  {
   "cell_type": "code",
   "execution_count": 10,
   "metadata": {},
   "outputs": [
    {
     "data": {
      "text/plain": [
       "['CreditScore', 'Age', 'Balance', 'EstimatedSalary']"
      ]
     },
     "execution_count": 10,
     "metadata": {},
     "output_type": "execute_result"
    }
   ],
   "source": [
    "numeric_variables = [col for col in df.columns if df[col].dtype != \"object\"\n",
    "                        and df[col].nunique() >11\n",
    "                        and col not in \"CustomerId\"]\n",
    "numeric_variables"
   ]
  },
  {
   "cell_type": "code",
   "execution_count": 11,
   "metadata": {},
   "outputs": [
    {
     "data": {
      "text/plain": [
       "0    7963\n",
       "1    2037\n",
       "Name: Exited, dtype: int64"
      ]
     },
     "execution_count": 11,
     "metadata": {},
     "output_type": "execute_result"
    }
   ],
   "source": [
    "df[\"Exited\"].value_counts()"
   ]
  },
  {
   "cell_type": "code",
   "execution_count": 12,
   "metadata": {},
   "outputs": [],
   "source": [
    "churn = df.loc[df[\"Exited\"]==1]"
   ]
  },
  {
   "cell_type": "code",
   "execution_count": 13,
   "metadata": {},
   "outputs": [],
   "source": [
    "not_churn = df.loc[df[\"Exited\"]==0]"
   ]
  },
  {
   "cell_type": "code",
   "execution_count": 14,
   "metadata": {},
   "outputs": [
    {
     "data": {
      "text/plain": [
       "0     318\n",
       "10    389\n",
       "9     771\n",
       "6     771\n",
       "4     786\n",
       "3     796\n",
       "1     803\n",
       "5     803\n",
       "8     828\n",
       "2     847\n",
       "7     851\n",
       "Name: Tenure, dtype: int64"
      ]
     },
     "execution_count": 14,
     "metadata": {},
     "output_type": "execute_result"
    }
   ],
   "source": [
    "# Frequency of not_churn group according to Tenure\n",
    "not_churn[\"Tenure\"].value_counts().sort_values()"
   ]
  },
  {
   "cell_type": "code",
   "execution_count": 15,
   "metadata": {},
   "outputs": [
    {
     "data": {
      "text/plain": [
       "0      95\n",
       "10    101\n",
       "7     177\n",
       "6     196\n",
       "8     197\n",
       "2     201\n",
       "4     203\n",
       "5     209\n",
       "3     213\n",
       "9     213\n",
       "1     232\n",
       "Name: Tenure, dtype: int64"
      ]
     },
     "execution_count": 15,
     "metadata": {},
     "output_type": "execute_result"
    }
   ],
   "source": [
    "churn[\"Tenure\"].value_counts().sort_values()"
   ]
  },
  {
   "cell_type": "code",
   "execution_count": 16,
   "metadata": {},
   "outputs": [
    {
     "data": {
      "text/plain": [
       "3      46\n",
       "1    3675\n",
       "2    4242\n",
       "Name: NumOfProducts, dtype: int64"
      ]
     },
     "execution_count": 16,
     "metadata": {},
     "output_type": "execute_result"
    }
   ],
   "source": [
    "# Frequency of not_churn group according to NumOfProducts\n",
    "not_churn[\"NumOfProducts\"].value_counts().sort_values()"
   ]
  },
  {
   "cell_type": "code",
   "execution_count": 17,
   "metadata": {},
   "outputs": [
    {
     "data": {
      "text/plain": [
       "4      60\n",
       "3     220\n",
       "2     348\n",
       "1    1409\n",
       "Name: NumOfProducts, dtype: int64"
      ]
     },
     "execution_count": 17,
     "metadata": {},
     "output_type": "execute_result"
    }
   ],
   "source": [
    "# Frequency of churn group according to NumOfProducts\n",
    "churn[\"NumOfProducts\"].value_counts().sort_values()"
   ]
  },
  {
   "cell_type": "code",
   "execution_count": 18,
   "metadata": {},
   "outputs": [
    {
     "data": {
      "text/plain": [
       "1    5631\n",
       "0    2332\n",
       "Name: HasCrCard, dtype: int64"
      ]
     },
     "execution_count": 18,
     "metadata": {},
     "output_type": "execute_result"
    }
   ],
   "source": [
    "not_churn[\"HasCrCard\"].value_counts()"
   ]
  },
  {
   "cell_type": "code",
   "execution_count": 19,
   "metadata": {},
   "outputs": [
    {
     "data": {
      "text/plain": [
       "1    1424\n",
       "0     613\n",
       "Name: HasCrCard, dtype: int64"
      ]
     },
     "execution_count": 19,
     "metadata": {},
     "output_type": "execute_result"
    }
   ],
   "source": [
    "churn[\"HasCrCard\"].value_counts()"
   ]
  },
  {
   "cell_type": "code",
   "execution_count": 20,
   "metadata": {},
   "outputs": [
    {
     "data": {
      "text/plain": [
       "1    4416\n",
       "0    3547\n",
       "Name: IsActiveMember, dtype: int64"
      ]
     },
     "execution_count": 20,
     "metadata": {},
     "output_type": "execute_result"
    }
   ],
   "source": [
    "not_churn[\"IsActiveMember\"].value_counts()"
   ]
  },
  {
   "cell_type": "code",
   "execution_count": 21,
   "metadata": {},
   "outputs": [
    {
     "data": {
      "text/plain": [
       "0    1302\n",
       "1     735\n",
       "Name: IsActiveMember, dtype: int64"
      ]
     },
     "execution_count": 21,
     "metadata": {},
     "output_type": "execute_result"
    }
   ],
   "source": [
    "churn[\"IsActiveMember\"].value_counts()"
   ]
  },
  {
   "cell_type": "code",
   "execution_count": 22,
   "metadata": {},
   "outputs": [
    {
     "data": {
      "text/plain": [
       "Germany    1695\n",
       "Spain      2064\n",
       "France     4204\n",
       "Name: Geography, dtype: int64"
      ]
     },
     "execution_count": 22,
     "metadata": {},
     "output_type": "execute_result"
    }
   ],
   "source": [
    "# Frequency of not_churn group according to Geography\n",
    "not_churn.Geography.value_counts().sort_values()"
   ]
  },
  {
   "cell_type": "code",
   "execution_count": 23,
   "metadata": {},
   "outputs": [
    {
     "data": {
      "text/plain": [
       "Spain      413\n",
       "France     810\n",
       "Germany    814\n",
       "Name: Geography, dtype: int64"
      ]
     },
     "execution_count": 23,
     "metadata": {},
     "output_type": "execute_result"
    }
   ],
   "source": [
    "# Frequency of churn group according to Geography\n",
    "churn.Geography.value_counts().sort_values()"
   ]
  },
  {
   "cell_type": "code",
   "execution_count": 24,
   "metadata": {},
   "outputs": [
    {
     "data": {
      "text/plain": [
       "Male      4559\n",
       "Female    3404\n",
       "Name: Gender, dtype: int64"
      ]
     },
     "execution_count": 24,
     "metadata": {},
     "output_type": "execute_result"
    }
   ],
   "source": [
    "# Frequency of not_churn group according to Gender\n",
    "not_churn.Gender.value_counts()"
   ]
  },
  {
   "cell_type": "code",
   "execution_count": 25,
   "metadata": {},
   "outputs": [
    {
     "data": {
      "text/plain": [
       "Female    1139\n",
       "Male       898\n",
       "Name: Gender, dtype: int64"
      ]
     },
     "execution_count": 25,
     "metadata": {},
     "output_type": "execute_result"
    }
   ],
   "source": [
    "churn.Gender.value_counts()"
   ]
  },
  {
   "cell_type": "code",
   "execution_count": 26,
   "metadata": {},
   "outputs": [
    {
     "data": {
      "text/plain": [
       "count   7963.00\n",
       "mean     651.85\n",
       "std       95.65\n",
       "min      405.00\n",
       "5%       492.00\n",
       "25%      585.00\n",
       "50%      653.00\n",
       "75%      718.00\n",
       "90%      778.00\n",
       "95%      812.00\n",
       "99%      850.00\n",
       "max      850.00\n",
       "Name: CreditScore, dtype: float64"
      ]
     },
     "execution_count": 26,
     "metadata": {},
     "output_type": "execute_result"
    }
   ],
   "source": [
    "# Let's examine the credit score of the not_churn group\n",
    "not_churn[\"CreditScore\"].describe([0.05,0.25,0.50,0.75,0.90,0.95,0.99])"
   ]
  },
  {
   "cell_type": "code",
   "execution_count": 27,
   "metadata": {},
   "outputs": [
    {
     "data": {
      "text/html": [
       "<div>\n",
       "<style scoped>\n",
       "    .dataframe tbody tr th:only-of-type {\n",
       "        vertical-align: middle;\n",
       "    }\n",
       "\n",
       "    .dataframe tbody tr th {\n",
       "        vertical-align: top;\n",
       "    }\n",
       "\n",
       "    .dataframe thead th {\n",
       "        text-align: right;\n",
       "    }\n",
       "</style>\n",
       "<table border=\"1\" class=\"dataframe\">\n",
       "  <thead>\n",
       "    <tr style=\"text-align: right;\">\n",
       "      <th></th>\n",
       "      <th>CustomerId</th>\n",
       "      <th>Surname</th>\n",
       "      <th>CreditScore</th>\n",
       "      <th>Geography</th>\n",
       "      <th>Gender</th>\n",
       "      <th>Age</th>\n",
       "      <th>Tenure</th>\n",
       "      <th>Balance</th>\n",
       "      <th>NumOfProducts</th>\n",
       "      <th>HasCrCard</th>\n",
       "      <th>IsActiveMember</th>\n",
       "      <th>EstimatedSalary</th>\n",
       "      <th>Exited</th>\n",
       "    </tr>\n",
       "    <tr>\n",
       "      <th>RowNumber</th>\n",
       "      <th></th>\n",
       "      <th></th>\n",
       "      <th></th>\n",
       "      <th></th>\n",
       "      <th></th>\n",
       "      <th></th>\n",
       "      <th></th>\n",
       "      <th></th>\n",
       "      <th></th>\n",
       "      <th></th>\n",
       "      <th></th>\n",
       "      <th></th>\n",
       "      <th></th>\n",
       "    </tr>\n",
       "  </thead>\n",
       "  <tbody>\n",
       "    <tr>\n",
       "      <th>1</th>\n",
       "      <td>15634602</td>\n",
       "      <td>Hargrave</td>\n",
       "      <td>619</td>\n",
       "      <td>France</td>\n",
       "      <td>Female</td>\n",
       "      <td>42</td>\n",
       "      <td>2</td>\n",
       "      <td>0.00</td>\n",
       "      <td>1</td>\n",
       "      <td>1</td>\n",
       "      <td>1</td>\n",
       "      <td>101348.88</td>\n",
       "      <td>1</td>\n",
       "    </tr>\n",
       "    <tr>\n",
       "      <th>2</th>\n",
       "      <td>15647311</td>\n",
       "      <td>Hill</td>\n",
       "      <td>608</td>\n",
       "      <td>Spain</td>\n",
       "      <td>Female</td>\n",
       "      <td>41</td>\n",
       "      <td>1</td>\n",
       "      <td>83807.86</td>\n",
       "      <td>1</td>\n",
       "      <td>0</td>\n",
       "      <td>1</td>\n",
       "      <td>112542.58</td>\n",
       "      <td>0</td>\n",
       "    </tr>\n",
       "    <tr>\n",
       "      <th>3</th>\n",
       "      <td>15619304</td>\n",
       "      <td>Onio</td>\n",
       "      <td>502</td>\n",
       "      <td>France</td>\n",
       "      <td>Female</td>\n",
       "      <td>42</td>\n",
       "      <td>8</td>\n",
       "      <td>159660.80</td>\n",
       "      <td>3</td>\n",
       "      <td>1</td>\n",
       "      <td>0</td>\n",
       "      <td>113931.57</td>\n",
       "      <td>1</td>\n",
       "    </tr>\n",
       "    <tr>\n",
       "      <th>4</th>\n",
       "      <td>15701354</td>\n",
       "      <td>Boni</td>\n",
       "      <td>699</td>\n",
       "      <td>France</td>\n",
       "      <td>Female</td>\n",
       "      <td>39</td>\n",
       "      <td>1</td>\n",
       "      <td>0.00</td>\n",
       "      <td>2</td>\n",
       "      <td>0</td>\n",
       "      <td>0</td>\n",
       "      <td>93826.63</td>\n",
       "      <td>0</td>\n",
       "    </tr>\n",
       "    <tr>\n",
       "      <th>5</th>\n",
       "      <td>15737888</td>\n",
       "      <td>Mitchell</td>\n",
       "      <td>850</td>\n",
       "      <td>Spain</td>\n",
       "      <td>Female</td>\n",
       "      <td>43</td>\n",
       "      <td>2</td>\n",
       "      <td>125510.82</td>\n",
       "      <td>1</td>\n",
       "      <td>1</td>\n",
       "      <td>1</td>\n",
       "      <td>79084.10</td>\n",
       "      <td>0</td>\n",
       "    </tr>\n",
       "  </tbody>\n",
       "</table>\n",
       "</div>"
      ],
      "text/plain": [
       "           CustomerId   Surname  CreditScore Geography  Gender  Age  Tenure  \\\n",
       "RowNumber                                                                     \n",
       "1            15634602  Hargrave          619    France  Female   42       2   \n",
       "2            15647311      Hill          608     Spain  Female   41       1   \n",
       "3            15619304      Onio          502    France  Female   42       8   \n",
       "4            15701354      Boni          699    France  Female   39       1   \n",
       "5            15737888  Mitchell          850     Spain  Female   43       2   \n",
       "\n",
       "            Balance  NumOfProducts  HasCrCard  IsActiveMember  \\\n",
       "RowNumber                                                       \n",
       "1              0.00              1          1               1   \n",
       "2          83807.86              1          0               1   \n",
       "3         159660.80              3          1               0   \n",
       "4              0.00              2          0               0   \n",
       "5         125510.82              1          1               1   \n",
       "\n",
       "           EstimatedSalary  Exited  \n",
       "RowNumber                           \n",
       "1                101348.88       1  \n",
       "2                112542.58       0  \n",
       "3                113931.57       1  \n",
       "4                 93826.63       0  \n",
       "5                 79084.10       0  "
      ]
     },
     "execution_count": 27,
     "metadata": {},
     "output_type": "execute_result"
    }
   ],
   "source": [
    "df.head()"
   ]
  },
  {
   "cell_type": "code",
   "execution_count": 28,
   "metadata": {},
   "outputs": [
    {
     "data": {
      "image/png": "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\n",
      "text/plain": [
       "<Figure size 576x432 with 1 Axes>"
      ]
     },
     "metadata": {
      "needs_background": "light"
     },
     "output_type": "display_data"
    }
   ],
   "source": [
    "plt.figure(figsize=(8,6))\n",
    "plt.xlabel('CreditScore')\n",
    "plt.hist(not_churn[\"CreditScore\"],bins=15, alpha=0.7, label='Not Churn')\n",
    "plt.legend(loc='upper right')\n",
    "plt.show()"
   ]
  },
  {
   "cell_type": "code",
   "execution_count": 29,
   "metadata": {},
   "outputs": [
    {
     "data": {
      "text/plain": [
       "count   2037.00\n",
       "mean     645.35\n",
       "std      100.32\n",
       "min      350.00\n",
       "5%       479.00\n",
       "25%      578.00\n",
       "50%      646.00\n",
       "75%      716.00\n",
       "90%      776.40\n",
       "95%      812.20\n",
       "99%      850.00\n",
       "max      850.00\n",
       "Name: CreditScore, dtype: float64"
      ]
     },
     "execution_count": 29,
     "metadata": {},
     "output_type": "execute_result"
    }
   ],
   "source": [
    "# Let's examine the credit score of the churn group\n",
    "churn[\"CreditScore\"].describe([0.05,0.25,0.50,0.75,0.90,0.95,0.99])"
   ]
  },
  {
   "cell_type": "code",
   "execution_count": 30,
   "metadata": {},
   "outputs": [
    {
     "data": {
      "image/png": "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\n",
      "text/plain": [
       "<Figure size 576x432 with 1 Axes>"
      ]
     },
     "metadata": {
      "needs_background": "light"
     },
     "output_type": "display_data"
    }
   ],
   "source": [
    "# distribution of the Credit Score for churn\n",
    "plt.figure(figsize=(8,6))\n",
    "plt.xlabel('CreditScore')\n",
    "plt.hist(churn[\"CreditScore\"],bins=15, alpha=0.7, label='Churn')\n",
    "plt.legend(loc='upper right')\n",
    "plt.show()"
   ]
  },
  {
   "cell_type": "code",
   "execution_count": 31,
   "metadata": {
    "scrolled": true
   },
   "outputs": [
    {
     "data": {
      "text/plain": [
<<<<<<< HEAD
       "<seaborn.axisgrid.FacetGrid at 0x2acedab7970>"
=======
       "<seaborn.axisgrid.FacetGrid at 0x2baad2b3130>"
>>>>>>> c1bd09d305199d2a762fcc762efee491142a3f2b
      ]
     },
     "execution_count": 31,
     "metadata": {},
     "output_type": "execute_result"
    },
    {
     "data": {
<<<<<<< HEAD
      "image/png": "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\n",
=======
      "image/png": "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\n",
>>>>>>> c1bd09d305199d2a762fcc762efee491142a3f2b
      "text/plain": [
       "<Figure size 360x360 with 1 Axes>"
      ]
     },
     "metadata": {
      "needs_background": "light"
     },
     "output_type": "display_data"
    }
   ],
   "source": [
    "sns.catplot(\"Exited\", \"CreditScore\", data = df)"
   ]
  },
  {
   "cell_type": "code",
   "execution_count": 32,
   "metadata": {},
   "outputs": [
    {
     "data": {
      "text/plain": [
       "count   7963.00\n",
       "mean      37.41\n",
       "std       10.13\n",
       "min       18.00\n",
       "5%        24.00\n",
       "25%       31.00\n",
       "50%       36.00\n",
       "75%       41.00\n",
       "90%       49.00\n",
       "95%       59.00\n",
       "99%       73.00\n",
       "max       92.00\n",
       "Name: Age, dtype: float64"
      ]
     },
     "execution_count": 32,
     "metadata": {},
     "output_type": "execute_result"
    }
   ],
   "source": [
    "# examining the age of the not_churn group\n",
    "not_churn[\"Age\"].describe([0.05,0.25,0.50,0.75,0.90,0.95,0.99])"
   ]
  },
  {
   "cell_type": "code",
   "execution_count": 33,
   "metadata": {},
   "outputs": [
    {
     "data": {
      "image/png": "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\n",
      "text/plain": [
       "<Figure size 576x432 with 1 Axes>"
      ]
     },
     "metadata": {
      "needs_background": "light"
     },
     "output_type": "display_data"
    }
   ],
   "source": [
    "# distribution of the Age for not_churn\n",
    "plt.figure(figsize=(8,6))\n",
    "plt.xlabel('Age')\n",
    "plt.hist(not_churn[\"Age\"],bins=15, alpha=0.7, label='Not Churn')\n",
    "plt.legend(loc='upper right')\n",
    "plt.show()"
   ]
  },
  {
   "cell_type": "code",
   "execution_count": 34,
   "metadata": {},
   "outputs": [
    {
     "data": {
      "text/plain": [
       "count   2037.00\n",
       "mean      44.84\n",
       "std        9.76\n",
       "min       18.00\n",
       "5%        29.00\n",
       "25%       38.00\n",
       "50%       45.00\n",
       "75%       51.00\n",
       "90%       58.00\n",
       "95%       61.00\n",
       "99%       68.00\n",
       "max       84.00\n",
       "Name: Age, dtype: float64"
      ]
     },
     "execution_count": 34,
     "metadata": {},
     "output_type": "execute_result"
    }
   ],
   "source": [
    "# examine the age of the churn group\n",
    "churn[\"Age\"].describe([0.05,0.25,0.50,0.75,0.90,0.95,0.99])"
   ]
  },
  {
   "cell_type": "code",
   "execution_count": 35,
   "metadata": {},
   "outputs": [
    {
     "data": {
      "image/png": "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\n",
      "text/plain": [
       "<Figure size 576x432 with 1 Axes>"
      ]
     },
     "metadata": {
      "needs_background": "light"
     },
     "output_type": "display_data"
    }
   ],
   "source": [
    "# distribution of the Age for not_churn\n",
    "plt.figure(figsize=(8,6))\n",
    "plt.xlabel('Age')\n",
    "plt.hist(churn[\"Age\"],bins=15, alpha=0.7, label='Churn')\n",
    "plt.legend(loc='upper right')\n",
    "plt.show()"
   ]
  },
  {
   "cell_type": "code",
   "execution_count": 36,
   "metadata": {},
   "outputs": [
    {
     "data": {
      "text/plain": [
<<<<<<< HEAD
       "<seaborn.axisgrid.FacetGrid at 0x2acedb24460>"
=======
       "<seaborn.axisgrid.FacetGrid at 0x2baad3f2f40>"
>>>>>>> c1bd09d305199d2a762fcc762efee491142a3f2b
      ]
     },
     "execution_count": 36,
     "metadata": {},
     "output_type": "execute_result"
    },
    {
     "data": {
<<<<<<< HEAD
      "image/png": "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\n",
=======
      "image/png": "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\n",
>>>>>>> c1bd09d305199d2a762fcc762efee491142a3f2b
      "text/plain": [
       "<Figure size 360x360 with 1 Axes>"
      ]
     },
     "metadata": {
      "needs_background": "light"
     },
     "output_type": "display_data"
    }
   ],
   "source": [
    "sns.catplot(\"Exited\", \"Age\", data = df)"
   ]
  },
  {
   "cell_type": "code",
   "execution_count": 37,
   "metadata": {},
   "outputs": [
    {
     "data": {
      "text/plain": [
       "count     7963.00\n",
       "mean     72745.30\n",
       "std      62848.04\n",
       "min          0.00\n",
       "5%           0.00\n",
       "25%          0.00\n",
       "50%      92072.68\n",
       "75%     126410.28\n",
       "90%     148730.30\n",
       "95%     161592.60\n",
       "99%     183753.91\n",
       "max     221532.80\n",
       "Name: Balance, dtype: float64"
      ]
     },
     "execution_count": 37,
     "metadata": {},
     "output_type": "execute_result"
    }
   ],
   "source": [
    "# examining the Balance of the not_churn group\n",
    "not_churn[\"Balance\"].describe([0.05,0.25,0.50,0.75,0.90,0.95,0.99])"
   ]
  },
  {
   "cell_type": "code",
   "execution_count": 38,
   "metadata": {
    "scrolled": true
   },
   "outputs": [
    {
     "data": {
      "image/png": "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\n",
      "text/plain": [
       "<Figure size 576x432 with 1 Axes>"
      ]
     },
     "metadata": {
      "needs_background": "light"
     },
     "output_type": "display_data"
    }
   ],
   "source": [
    "# distribution of the Balance for not_churn\n",
    "plt.figure(figsize=(8,6))\n",
    "plt.xlabel('Balance')\n",
    "plt.hist(not_churn[\"Balance\"],bins=15, alpha=0.7, label='Not_Churn')\n",
    "plt.legend(loc='upper right')\n",
    "plt.show()"
   ]
  },
  {
   "cell_type": "code",
   "execution_count": 39,
   "metadata": {},
   "outputs": [
    {
     "data": {
      "text/plain": [
       "count     2037.00\n",
       "mean     91108.54\n",
       "std      58360.79\n",
       "min          0.00\n",
       "5%           0.00\n",
       "25%      38340.02\n",
       "50%     109349.29\n",
       "75%     131433.33\n",
       "90%     152080.62\n",
       "95%     167698.24\n",
       "99%     197355.29\n",
       "max     250898.09\n",
       "Name: Balance, dtype: float64"
      ]
     },
     "execution_count": 39,
     "metadata": {},
     "output_type": "execute_result"
    }
   ],
   "source": [
    "# examining the Balance of the churn group\n",
    "churn[\"Balance\"].describe([0.05,0.25,0.50,0.75,0.90,0.95,0.99])"
   ]
  },
  {
   "cell_type": "code",
   "execution_count": 40,
   "metadata": {},
   "outputs": [
    {
     "data": {
      "image/png": "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\n",
      "text/plain": [
       "<Figure size 576x432 with 1 Axes>"
      ]
     },
     "metadata": {
      "needs_background": "light"
     },
     "output_type": "display_data"
    }
   ],
   "source": [
    "# distribution of the Balance for churn\n",
    "plt.figure(figsize=(8,6))\n",
    "plt.xlabel('Balance')\n",
    "plt.hist(churn[\"Balance\"],bins=15, alpha=0.7, label='Churn')\n",
    "plt.legend(loc='upper right')\n",
    "plt.show()"
   ]
  },
  {
   "cell_type": "code",
   "execution_count": 41,
   "metadata": {},
   "outputs": [
    {
     "data": {
      "text/plain": [
<<<<<<< HEAD
       "<seaborn.axisgrid.FacetGrid at 0x2acedce9cd0>"
=======
       "<seaborn.axisgrid.FacetGrid at 0x2baad74c520>"
>>>>>>> c1bd09d305199d2a762fcc762efee491142a3f2b
      ]
     },
     "execution_count": 41,
     "metadata": {},
     "output_type": "execute_result"
    },
    {
     "data": {
<<<<<<< HEAD
      "image/png": "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\n",
=======
      "image/png": "iVBORw0KGgoAAAANSUhEUgAAAW4AAAFuCAYAAAChovKPAAAAOXRFWHRTb2Z0d2FyZQBNYXRwbG90bGliIHZlcnNpb24zLjMuMiwgaHR0cHM6Ly9tYXRwbG90bGliLm9yZy8vihELAAAACXBIWXMAAAsTAAALEwEAmpwYAABLKElEQVR4nO3dd3xb1fn48c8jecd2ljMcZ2+yQ0wICSMlkIQNBUqYYbS0jG+h9NcWSltaaAsdjAIto+xRVpkFAoQN2YPs6WxnOHacON7z/P64cixZsi3Hkq+k+7xfL71inbsegf34+txzniPGGJRSSkUPl90BKKWUah1N3EopFWU0cSulVJTRxK2UUlFGE7dSSkWZOLsDiBQzZ840H330kd1hKKWUNwnUqHfcHgUFBXaHoJRSQdHErZRSUUYTt1JKRRlN3EopFWU0cSulVJTRxK2UUlFGE7dSSkUZTdxKKRVlNHErpVSU0cStlFJRRhO3UkpFGa1VopRqPzsWwM75kJUNA0+xO5qoFbY7bhHpIyJfiMh6EVkrIrd42n8vIrtFZIXndabXMXeISI6IbBSRGV7tE0RktWfbwyIinvZEEXnN075IRPp7HTNbRDZ7XrPD9TmVUkFa9AQ8OxM+uxteOBe+ud/uiKJWOLtKaoCfG2OOASYBN4nICM+2B40x4zyvDwE822YBI4GZwL9ExO3Z/zHgemCI5zXT034dcNAYMxh4EPiL51xdgLuA44GJwF0i0jmMn1Up1ZJvH2z0/h/2xBEDwpa4jTF7jTHLPV8XA+uBrGYOOQ941RhTaYzZBuQAE0UkE0g3xiww1srGLwDnex3zvOfr/wLTPHfjM4C5xphCY8xBYC4NyV4pZQe/hclNgDYVjHZ5OOnpwhgPLPI03Swiq0TkGa874Sxgl9dhuZ62LM/Xjdt9jjHG1ABFQNdmztU4rutFZKmILM3Pzz/6D6iUatmUn/q+n/x/IAHLTasWhP3hpIikAm8CtxpjDovIY8A9gPH8ez9wLYELhptm2jnKYxoajHkSeBIgOztbf/UrFU4n3AQ9x8DOBZA1AQZPszuiqBXWxC0i8VhJ+2VjzFsAxpg8r+3/Bt73vM0F+ngd3hvY42nvHaDd+5hcEYkDOgKFnvapjY75MhSfSSnVBgNOsl6qTcI5qkSAp4H1xpgHvNozvXa7AFjj+fo9YJZnpMgArIeQi40xe4FiEZnkOedVwLtex9SPGLkI+NzTD/4xMF1EOnu6YqZ72pRSKuqF8457CnAlsFpEVnjafg1cKiLjsLoutgM/BjDGrBWR14F1WCNSbjLG1HqOuwF4DkgG5nheYP1ieFFEcrDutGd5zlUoIvcASzz73W2MKQzLp1RKqXYmRp/qAlYf99KlS+0OQymlvOliwUopFQs0cSulVJTRxK2UUlFGE7dSSkUZTdxKKRVlNHErpSJXZTG8cxP8fSi8cD4UbLY7ooigiVspFbk++S2seAlK8mDrF/DaFXZHFBE0cSulItfWL33f52+A4n22hBJJNHErpSJX5hjf92m9oEM3e2KJIJq4lVKRa8a90Od46+tOfeH7T4LL3fwxDqBrTiqlIlfHLLjuE6g4DAmp4NJ7TdDErZSKBknpdkcQUfTXl1JKRRlN3EopFWU0cSulVJTRxK2UUlFGE7dSSkUZTdxKKRVlNHErpVSU0cStlFJRRhO3UkpFGU3cSikVZTRxK6VUlNHErZSKPCX5UHrA7igilhaZUiG1ZncR5dW1TOjbGZdL7A5HRZu6Wnj3Jlj5KogLJlwNZ90Pot9L3jRxq5AwxnDjy8uZs8ZaneSYzHRevX4SHZPjbY5MRZW1b8PKV6yvTS0sfRqGnQlDTrM3rgijXSUqJOblHDiStAHW7z3MK4t32hiRikr5GwO0bWj/OCKcJm4VEvuLK/zbDlfaEImKakNnAF7dIuKGIafbFk6k0sStQuLU4d3plNLQLeJ2CeeO62VjRCoq9c6Gi56B3sdB3xNg1svQbZjdUUUcMcbYHUNEyM7ONkuXLrU7jKiWs7+Ep7/dSmllLZcd35dJA7vaHZJS0S7gU1lN3B6auJVSEShg4tauEqVU25QegFcvhz9lwlOnQ95auyOKeZq4lVJt89HtsOF9qC6D3MXw+mzQv+TDSsdxq6BU1tRy74cb+HD1Xvp1TeG3Z49gTO9OdoelIsHOBb7vD2yGsgPQIcOeeBxA77hVUP75eQ7Pzd/O/uJKlmw/yHXPL6Wqpu7I9sLSKmrr9C7LkXpn+77vPABSWvlgeuNH8PkfYcsXoYsrhukdt8PsK6rgF/9dyYItBxjduyN/u2gMg7untXjcvC2+dSPyiyvZlFdMx+R4rnt+CZvySqif4T5zVE/+cuEY0pJ01qQjzPwLVBRZSbfHSDjv0dZNUf/8T/D1Xz1v/gbT/wSTbw5LqLFC77gd5s63V/PN5gJq6gzf7TzET19ZEdRxo3ql+7xPTYxjQEYH7nhrNZvySgCoM9brw9X7uP+TTaEOXUWqtB5w5dtw10G4YR70Gh/8sXV1sPBfvm1zfwePToTV/w1tnDFEE7fDLNt50Of9ur2HqaiubfG4n50+lJOHdgOge1oi9/9gLB0S41iVeyjwdXYcDNiuYlBNFWycA1s+s4pEtYaIVUzKm6mFgo3w1o9gv053D0S7ShxmQt/OfLZh/5H3IzLTSYp3t3hcp5QEXrh2IqWVNSTFu3F7+kUGd09l+c5D/tfp1zlkMasIVn4Inp5uJVqA3hPhqndh32rr4WTXQQ37FmyG716C+GQ4djakZ1qJ+8SfwWd/8D+3qYPt30D34e3yUaKJ3nE7zJ8uGM1JQzKIcwnj+3bi4UvHter4DolxR5I2wCOXjqdDom/inzGyBz+fPjQU4apIt/KVhqQN1nDAR8bDM9PhkWNhzq+s9gNb4MmpMO8h+PJe+PepVr84wEm3wdUfwuiL/c+fOTbcnyAq6R23w/TsmMSL1x0fsvNldU5h0a9P4+M1+3C7hBkje5Kc0PIdvIoR9cnXW3FDlUgWPQ4TroE1/4WqEq999sCGD2Hcpdb7/lOs2iTJnWHZc+BOgBNvhT4Twxl91NLErdosNTGOCyf0Bqx6JUnxLnp3TrE5KtUuRl8M8x6G6lLrvTsBaqt89zm827rjbiwuyfe9ywVn/g1Ov8fq945LCE/MMUATtwPV1Nbxpw/X8+ayXDJSE7n9jOFMH9mzTecsr6rluueXMN8zbPDs0Zk8evmxoQhXRbKug+BHn8Gy58EdD+m94aNfNmxP6wX9T4T5D/sfW9Mowe9fDwmp0KlPeGOOAdrH7UAvLtzBs/O2c7iihq0Fpdz8ynfkF7etdvZrS3YeSdoA76/ey8i7PmJLfnFbw1WRrvsxcMZ9MP0eWPuW77bv3QlxiVZCbmzLXOvfymJ4egb8axI8NBrevy38MUc5TdwOtGR7oc/7qpq6I8P6CkurOFxR3epz7iws92srrazlxy8uP6oYVRTauwp2LfRt2/iB9e+o7/vvLy4oPwhv3+B1nLGWK9u1JKyhRjtN3A40vo/vUL14tzCsZxq3vPodE/44lwn3zOXeD9cHPPalhTs4/YGvOOeRb/l4bcNDqDNGB+5qyT1YFrrAVeSqLremrTcW73nWMeIC6DGqod0VByO/D4+dCBv+53/coR3hiTNGaOJ2oNmT+zPruD4kuF30TE/i/h+MY/6WA7y7Yg/GQHWt4Ymvt7J4m++d+Veb8vnNO2vYvL+E1buLuPHl5WzNt0YKHNe/C4/OGud3rcHdAvyJrGLPSxfCl3/ybUtIgyk/tb52ueDqD6wHjyfcDD/8FAq3wOFc/3MlpsOgU8MfcxTTh5MOlBDn4r4Lx3Dv90cjnpoSf/pgnd9+m/KKmTigy5H332zK99leW2eYt+UAAz3J+fhBGQzq1oEt+dYIg25piTw9+7hwfQwVKfasgB3zfNt6jYfL3oDENKs+d9chkNypIZEDbPs6wMkEzn4IUroE2Kbq6R23g4lXIaDvDevusy3eLZw8pJtP2zGZvvVKAEZkNhSounfO+iNJG8AYQ+cOOqQr5rkDFBPrOhjy1sADw+GxyfDgSMj5DFa9AVu/sup1j7nEurv2YSBX+7dbErbELSJ9ROQLEVkvImtF5BZPexcRmSsimz3/dvY65g4RyRGRjSIyw6t9gois9mx7WDwZR0QSReQ1T/siEenvdcxszzU2i8jscH3OWDF5cAZ/v3gso7LSye7Xmb9fPJbVu4vI2d8waeL88Vn8ILs3bpeQFO/ip9OGMKFfw53Rwq2+FQQLSqrYV+S/+ruKMT1GwrCzGt7Hd4ATboL3f2Y9fAQo3Q8vXwxv/RBeOBfemA0leZDQwf98idq91pKwrTkpIplApjFmuYikAcuA84GrgUJjzH0icjvQ2RjzKxEZAbwCTAR6AZ8CQ40xtSKyGLgFWAh8CDxsjJkjIjcCY4wxPxGRWcAFxphLRKQLsBTIBozn2hOMMU1WPtI1JxvMzyng2ueXUFFt1du+44zh/PiUhpoTxRXVxLlcPjMkX1iwnd+967tkVd8uKXz5/6bicrWixKeKTnW1sOkjOLwHhp0BaZlwT4ZVb6QpnQfAwW2+bWm9rHHh6b3CG2/0aN81J40xe40xyz1fFwPrgSzgPOB5z27PYyVzPO2vGmMqjTHbgBxgoucXQLoxZoGxfsu80OiY+nP9F5jmuRufAcw1xhR6kvVcYGa4Pmu0auqX9gNzNx1J2gAPfbqZ8qqGqm/7iytZlXuImtqGfZ6bv93vPPddOFqTtlO43DD8LOg+Apa/YFULHNLCj1zjpB2fAjcv0aQdhHZ5OOnpwhgPLAJ6GGP2gpXcRaS+czUL6466Xq6nrdrzdeP2+mN2ec5VIyJFQFfv9gDHeMd1PXA9QN++fY/+A0aZwtIqfv76Cr7clM/gbqncd+EYn2p+h8p9x3FX1NRSUV1LcoKb376zhhcXWkO1BmR04NXrJ9EjPYmaGv87q7W7i5g8SJevcoylz8L7tza8z74ORl1k1SlprMcoK1HnLm5oGzxNu0mCFPaHkyKSCrwJ3GqMOdzcrgHaTDPtR3tMQ4MxTxpjso0x2d26dQtwSOwpKq/mvEe/5YuN+RgDm/eXcPN/lvssOzbrON8pxzNG9KRzhwQWbj1wJGkDbCsoZdaTC1iwpYDSKv86zP/8covPnbqKcQse9X3/3Usw488NY7nrZY6Hq9+HC5+Cwadby5yNOM8aTaKCEtY7bhGJx0raLxtj6ufC5olIpuduOxOoLw6dC3hnjN7AHk977wDt3sfkikgc0BEo9LRPbXTMlyH6WFHt3g/Xs+ug7yzHvUUV7C0qP1IY6ocnDaRHehJfbcpneM80rpjUj6Lyam58aZnf+bYVlHHl04sIcMPNobJqPtuQx9lj9E9fR5BGVSHFZQ0BPPsh+PAXUFlkDROc9YpVBTC5M1yhq9wcjbAlbk9f89PAemPMA16b3gNmA/d5/n3Xq/0/IvIA1sPJIcBiz8PJYhGZhNXVchXwSKNzLQAuAj43xhgR+Rj4s9eIlenAHWH6qFGl8cgPgMyOSfTqmOzTds7YXpwztiHhvrtiN4VlgafCB0ra9RLcOuLUMU66Dd7+CUf+uD3hJqtOydhLYMS51srvHXs3e4omHdhilYitLoMJ10LvCSELOxqF8457CnAlsFpEVnjafo2VsF8XkeuAncDFAMaYtSLyOrAOqAFuMsbU/519A/AckAzM8bzA+sXwoojkYN1pz/Kcq1BE7gHqB4TebYzxnQboUGP7dGL7gYZp6PFu4fErJrT4EDEhrvUJeEzvjnxvePeWd1SxYews6DbcmliTOQYGTm3YFp98dEm7qgw+udOqPlifDla+Btd/AT1HhyTsaBS24YDRxgnDAfcWlfOTF5exMtcqfp+S4OaWaYO5/uRBPpNxAimvquX8f85jY17gan/Z/TqTmhRHUpyb4T3TGNwjldNH9CAxThdVUG3w/m1W0anGJv/UqkYY+wL+YOqUdwe55/11R5I2QFlVLffO2ciOwnL+fEHzdy/JCW7evXkKLyzYztaCUtbtOcwqz7kS3C5uP2M42f2tyTgV1bV8vSmfVblFHNdfpy6rNtgUoHAVQAdnDCZoiiZuB1m9O8AyU8Bri3fx/6YPo0uj6elfbNzPR6v30bdrCled0I/3Vu7h3jkbMMa6Dbji+H50T0/kzNE9qayp4463VlFWVcv8nALyS6wi+dNH9ODJq7LD/dFUNCrYDN8+CGWFMP5yGDoT1r4Dh7ZDn0nw9d+s1XMa6zYcjr2yvaONKJq4HWTywAxeK9zl115rDDsLS/k2p4Bj+3aid+cU3lu5h5++8t2Rff75xWYEob5nzQCvL9vFgttPpbSylnMemUd5tf/Qv0/W5fHpujxOG9EjXB9LRaPKEnj2DCj1FC7bNAd6H+dVp0TwG8Gb2BGm3GK93M5OXdrH7eGEPu7DFdWc8tcvOBhgdEj9j4kInH5MD/JLKvlu56EWz3nu2F4ck5nOXz7a0Ox+U4d149HLjiU10dk/cDGpeB988HPYtQj6HA9n/t2q7rfkadi3ynpIOfICa3X3zXOtFXMGnAzv/V/rrvPTFdBlQDg+QSQL2MetidvDCYkb4FBJJeP++GmL+7kE6oL41oh3CxdP6M1/FvvfyTd22+lD+em0IcGEqaLJSxdCjtf31KBTrUk1q99oaOs7CXZ6TYzOGGJ1lQSrU3+4ZYV1Z+Es7VurREWeujrDD1/0n0QTcN8gf59X1xpeaZS0k5oYOtjUiBQVxfatgS1f+rZt+RLWvOnbltvopqhgM4y9rOF995Ew9IyG99Loe6i6zOoLV4AmbkdZsPUAS3c0WSDxqLjFv5ZARRMzck4Z6uyRADGlfoHfx6eAqfHdljkm8OLA3pK7wDn/gBsXwrgrICnd6gY5/3E47Q/+szBL98NrV4T2M0Qx7XB0kOKKmoDtPdISufT4vvzrixyqaoPvOuvaIZ7M9CTW7A3uTlqHBsaQ5S/4LwwMVnXA8x+D7d/CnF80tNd5fe8ldbSSdlyCNRtyxUtW+84FEJdsdbPUBZilu3M+lB6ADl1D+1mikN5xO8jUYd3I6pTs155XXIkAvz1rRNDn6p6awMGy6qCTtksIeG0VpQ4FeKZx1oNw4wLoMQKOvx5+8KL/PknpMP2P1hR4gHXv+m6vKQ+8DiVY3SeLnoC6ZmosOIQmbgdJinfz4nUT6RpgObEHP93M0/O2BTgqsP0lVUH3gwP069rhqKbNqwg14jx8npslpEGvcfDG1fDYFPjsHs+q7o2erVUctkaTrH/fet+5f/DXNHXw9V9g8RNtCj0W6E+Sw9z+5moOlFYF3OZdwyTUCksryTusy5jFjH4nwGWvWZNmRpxvVfl75wZY+7a11uQ3f4dlz1pjrgNZ/57178z7Wu4Pb2zz3DaFHgs0cTvI9oJSFm9v/sn88J6phGPRmqLyGv7xaSuGf6nIN3SGNR57y+fw3FmQ32gs//yHYfcyuOBJ/2Pr77SzJoArwGLDzel+zFGFG0s0cTtIWlIccS1k5W0FZQzrkUZyfOiLQ726ZCcrdh0K+XmVTfLWwse/hsrDvg8fvW3/BnbMgxN/1jBSJGsCTLrB+rqyGCoajXSKS7G6XeIDLCTcbwqc9POQfYRopYnbQbqmJnLj1EHN7lNZU8f6fcUBp6+3VZ2BFxfsaHlHFR32rPBvkwAD1fathtN+D7ets4b//ehzaxEFsGZYDjjZd/+aMuvc1aX+5zrmXOsYh9PE7TC3TR/G3J+dzNRh9oypjnc7buZb7Oo/Bb+Hj8kd/ferr8ud1jNwN0cHr5rtjSfeNBZoCKIDaeJ2oMQ4F6tyD7X7dVPi3Vw9pX+7X1eFiTsBv+lXZf4rLDXbtZG71HcxYdPCUL9exwYdXizTCTgOcrC0iiueXsTaPc2t2ewrQI22ozZtRHeG90wP0dmU7eKTrQeLgSbL1OtzvDXrce8K6D3RmnTjrXif/zHibljtxps7EcbMalPIsULvuB3kX1/mtCppQ+iSNsAHq/bacqevwiS5M4y7rOntXQdby4s9fKw16uSBY+DF78O7NzUUmBo41berBOD8f8G0u/zPV1sJj4yHL+6DmsqQfYxopInbQeZtKbD1+nUGnp+vDydjxrcPwfLnm95euA2WPMWRX/9lBbDlM/juJXhmhjWiJDEVrv3I+gWQkmHt997NUH4IXAE6BKpK4Kt74ZPfhPjDRBdN3A6yM4wTbIIVjjHiygY1ldYKNc0J1N1Rr+wAfPhLa/X2roMgqbOV2AFqq2H+P2DyLf7Fpuqtffvo4o4RmrgdpKY1c9TDZPbk/naHoEKhthqqy33bkjr571d/Fx3Iyv/Ao9mw7j3Y+KH/9qROcNyPCJimOvVtRbCxRxO3g5w8xP6yqrpuR4xITIUxl/i2Tf4/6H9Sw/uModD/ROjY26oamN7b/zymzurzTkjx3/bpb2Hx40CjkSZJnWDGvW39BFFNE7eDPH7FBBJtHkft1r6S2DH1dph0I/QYaY0u+eov1sPIqz+EK96y7srXvQNFubB/nVXXpFM///NUHoZjzg/+uiMvhL7Hh+pTRCUdDuggdcZQ2Yp626E2oV8nRvTS4YAxYclTMOdX/lPdF/7LusuOS4aDjapNLn2q6fNVl8GgadbDy5YU7Wx9vDFG77gdxO46IT88caCt11chUlUGc+9quj7Jp3+Aly5o3Tn3r4VzHoLUni3vWz8T08H0jttBbnl1hW3XjnMJU4d1b3lHFfmqSqxXUwo2+rel94LDe5o+5tAueO1Ka/Wb3tmQfa21xuSy56zV4+sn+XQeANnXtCn8WKCJ20HsrIddU2e46701/OXCMYjzVuqOLandYcApsO2r4PY/8TY44WZ4/2ew4f3AwwTz1zd8vX+tVXkwPtlasOEHz1v1u90JVu3vhABVAx1GE7eD9OmSwraCABXX2snrS3PpmZ7EbdOH2RaDCpHT74YnTwlu328fhG8faN356/vH96+DuESrLKw6Qvu4HeTOM+0vQP/GsgBrFaroU9ma0gltfCC+YQ5s/RKKdrftPDFEE7eDvLRwu90hEO8O/QINygZ9joe0zPa51t4V8MJ58NBoa7FgpYnbKYwxfJtjb60SgN+dY/9dvwqBuES4Zg6MvQwyx0LPMSG+gNdzkFpPQSlTa41YqWzmwahDaOJ2iCXbD1LTQqnjcDtxUFdOOyaI4V4qOnQZABc8BuOvhH2rQntudxPrUFaXWsWpHE4Tt0OEYymy1lq1u8juEFQ4rHg5dOcSlzVOu7Yq8Pb+J0F6O3XRRDBN3A4xeVBXkuPt/d99uKKGuggodKVCrEMrauB0H9n8dlMH+zc0vb0oFxYFWDXeYTRxO8R3Ow9RXm1zXwnw1aZ8u0NQoTb1DkgKsNZkIPvXWnVNmlMSYFWcege3wZxfWDW9HUwTt0N8sSHP7hAAWLbjoN0hqFDLOhZ+thYuex2u+QgSUpvfv7mlzoK1IUAZWAfRCTgOcVz/Ljz21Va7w+AH2QFKe6rotvEjmPNLa0p7Unrz0+FDpeug8F8jgmnidohOKS38edpOEuL0j7yYUn4I/nuNVd0PAq/y3mYCyV2g4qDVB54xFKbcGobrRA/9KXKISFj9BuCTtZHRZaNCJG9tQ9IOB3HBtR9D7wlW0gYo2BR8nZQYpYlbtatP1mnijik9R7fcp90qjQqQmTp4/UrY/Ilv+5Jmans7gCZuh0hPjoyukt0H7V+wWLWRMfDZ3XD/MfD0dBj1/dCdOz3Lv60kwC/7+ABLnTmI9nE7xLAeabjwW72v3Q3tqSvgRL0v/gzf3G99XbzHtyRrIPEdPN0pQXTXHc5teZ+4RDjp5y3vF8P0jtshRIRHLx9vdxjcMm2I3SGotlr1auv2ry6lzRUCvfWdAv1OCN35opAmbgc5c3QvbF4rmKxOyfYGoNouPoiFDHplN789sQ1/eRXvPfpjY4Qmbodx2bz6zEuLdth6fRUCfSe1vM+epU1vGzMLZr9v/Tt0Zuuvn5jW+mNijPZxO0xW5yS2Hyi37fr7bVw+TYVI/xNh2bNHf/zuZfDkyUd/fJEuxqF33A7y8qLttiZtgNNG9LD1+ioERpwHGW1Yfu7A5rZdv87uR+z208TtEHV1ht+8vdbuMDhpSCsqyanI5I63t7uiSutxa+J2iBcXbg/lc33ldMFWAwyH6jL4LoQ1wKNQ2BK3iDwjIvtFZI1X2+9FZLeIrPC8zvTadoeI5IjIRhGZ4dU+QURWe7Y9LGI9XRORRBF5zdO+SET6ex0zW0Q2e16zw/UZo8kXG/bbHQIAVXYvw6NC42geKobSJ3dCTROLLThAOO+4nwMC/d990BgzzvP6EEBERgCzgJGeY/4lIvWryj4GXA8M8bzqz3kdcNAYMxh4EPiL51xdgLuA44GJwF0i0jn0Hy+6TOgfGf8J3lmhK3XHhDE/ALFxbEP5wfDWSIlwYUvcxpivgcIgdz8PeNUYU2mM2QbkABNFJBNIN8YsMMYY4AXgfK9jnvd8/V9gmudufAYw1xhTaIw5CMwl8C8QR5k5MjLWetxeUGp3CCoUkjtZydsu/U+yYnAoO/q4bxaRVZ6ulPrbwCzAe4xPrqcty/N143afY4wxNUAR0LWZczla55REu0MAYFzfTnaHoEKhsgT2tzDVPZzCUj42erR34n4MGASMA/YCnoIHjUuCAdYc2abaj/YYHyJyvYgsFZGl+fmxvaTWqt2H7A4BgAWbC+wOQbVVTSU8dgLs/c6+GPavg5LIeG5jh3ZN3MaYPGNMrTGmDvg3Vh80WHfFfbx27Q3s8bT3DtDuc4yIxAEdsbpmmjpXoHieNMZkG2Oyu3WL7WFqIzI72j7dHeB/qwL+r1DRZM1bcGinvTGk9rQWV3Codk3cnj7rehcA9SNO3gNmeUaKDMB6CLnYGLMXKBaRSZ7+66uAd72OqR8xchHwuacf/GNguoh09nTFTPe0OVrPjkmMzrJxCJdHhY4qiX6F9i+Bx8Dvgdu5E7/D9slF5BVgKpAhIrlYIz2misg4rK6L7cCPAYwxa0XkdWAdUAPcZIyp9ZzqBqwRKsnAHM8L4GngRRHJwbrTnuU5V6GI3AMs8ex3tzEm2IekMW3V7iK7Q2BC38gY3aLa4Nir4Ou/EdKKf6218QP7rh0BxLpJVdnZ2Wbp0mYK40Q5YwwD7rB/Zezlvz2dLh0S7A5DtdUrl8PG9+27fmI63OGImiUBOzh15qRDiAjd0+xNmG5Bk3YsWPW6vUkb4Fhnz6vTxO0QG/cWs7/Y3plm8W79dosJq/9rdwQw6Qa7I7CV/iQ5xKtLbR4FgPVgMlfXnIx+XQfbe/2xl0FHZ0/N0MTtECcM7Gp3CIDV166iXN/J9l07vTeUF0Ke/ZUu7eTc8TQOMyAjiOWm2kFyvH7LRb3Vr9l37cO51mvPCrh1NcQ585mJ3nE7RKSsPPPE1xEwBli1TYcMuyOAkn2wd6XdUdgm6MQtIieKyDWer7t5JsqoKLGjMDL6lv+3UmdORr3JPw1uweBwcidAF+emoKASt4jcBfwKuMPTFA+8FK6gVOidMSqz5Z3aQVVNbcs7qcjmckO1jVUeE1LhjL9Gxp2/TYK9474AOBcoBTDG7AF0qeUoUlpVY3cIAKQnx9sdgmqr4n32XdsVD2MvhXGX2xdDBAg2cVd56oAYABGJjCddKmjfRkhVvu8N6253CKqtsibYd+26aljyb/j6r/bFEAGCTdyvi8gTQCcR+RHwKVZ1PxUl+kfIqJLaOh0OGPVcbohPtTeGTc6uGxdU4jbG/B1rlZk3gWHA74wxj4QzMBVa4yNkAYM5a2z8M1uFxpq3oLrE3hjiImNhELsENajWM4LkG2PMXM/7ZBHpb4zZHs7gVOgkRMh081qjZV2j3qLH7Y4Ahp5hdwS2Cvan+Q3A+yeu1tOmokRVbWQkTJ04GQMiYTRHzqd2R2CrYBN3nDHmSIUiz9fOnLIUpRLj3HaHAEC1LqQQ/eKS7Y7A0ZNvIPjEnS8i59a/EZHzgMgYpqCCUhchDwX7d4uMh6SqDfYstzsCR6/wDsHXKvkJ8LKIPIpV2HsX1jJiKkq4XEK8W6iutTeBx7siYOFL1TapPe1fvqzbMHuvb7OgErcxZgswSURSsVbNKQ5vWCrUamrriHe7qK61d+bimj2Hbb2+CoHUHnZH4OiFgiH4USWJwIVAfyDOWrcXjDF3hy0yFVILtxZSVmX/dHMdxx0DqmweCgjWWHIHC7aP+13gPKyFfEu9XipK5ORHxh9Jbu0piX5jLrE7Aug52u4IbBVsH3dvY8zMsEaiwqq4vNruEACIi5Dx5KoNxlwMn90NRTauqtTtGPuuHQGC/SmaLyLO/hUX5Xp3jozRHF11seDol7fW3qQN8OrlUF1ubww2CjZxnwgsE5GNIrJKRFaLyKpwBqZCq2NKZKw80y8jxe4QVFtFwuSX2grY69wUFOxPs7Pnl8aAbzZFxrD7w+WRUV5WtUGkdFN07G13BLYJtsjUDmPMDqAcq7TrkRKvKjqYCPnfteNAZKzEo9rAzrKu3jY7t0JgsCvgnCsim4FtwFfAdmBOGONSITZzZASMvSVyFnRQbfDOj+2OwFIaGX9F2iHYPu57gEnAJmPMAGAaMC9sUamQG57Z0e4QAEjUUSXRb9u3dkdgmXCN3RHYJtifompjzAHAJSIuY8wXwLjwhaVCbfXuIrtDAKBXpwgoUKTaKAK63XodC6nd7I7CNsEm7kOe6e5fY9Us+QfWZBwVJXqkJtkdAgB9u2rijnpZ2XZHABc9a3cEtgo2cZ+H9WDyZ8BHwBbgnHAFpULvre9y7Q4BgIVbCu0OQbXVRc+A2Nzl9b9b7L2+zYItMuU9vf35MMWiwqi4KjJmTpZVaz3uqJfU0f4VMbZ9CXV14HLmM5NmP7WIFIvI4QCvYhHRMm9RZNaEvnaHoGKFO57g/1gPF3Fs0oYW7riNMWntFYgKrwNlVS3v1A4S47TKVNQ7uANr9UIbpWXae32btWoetIh0B4485TLG2FywQAWrR1pkrIo9oldkDEtUbbB7id0RQHWF3RHYSifgOMTqPZExHLBzSrzdIai2qomA5yUVhVAbAXHYRCfgOETO/ggofg9k9+tsdwiqrfoeb3cE0KGbp6/dmXQCjkOcMiQyJiv07KjjuKNexz4QZ/O8gNICqKm0NwYbBdvH3XgCzn50Ak5UWb8vMlbA2XPIuTWUY8bq16HG5j7mlK7g0jvulpwHlKETcKJWpwjpWy4oce5dUszYscDuCCBjiKOHAwZb1rXUGFNnjKkBPgAe8XSdqChx/rgs20feAny0Zp/dIai26jHS7ghg9zKojIznNnZoaQLOJBH5UkTeEpHxIrIGWAPkiYiuQRlF4tyuSCgNRGK8s1fnjgkFm+yOAGqrYP3/7I7CNi31cT8K/BroCHwOnGGMWSgiw4FXsLpNVBSoq4uMpRSmDe9udwiqrSJlrUfj3PIJLf31HGeM+cQY8wawzxizEMAYsyH8oalQcrkiY8ZiSqLecUe9DR/YHYFlwCl2R2CblhK396+0xr9mI+EGTkWZNbla4ibq2T2iBAAXpDt32ntLXSVjPcWkBEj2KiwleE19V5Fv5a5DdocAwJJt+kw76qV0gdJ8e2PodwK4nPvXW0tFppz7XybGlFfZXBTIo47I6LJRbZCQbn/innKrvde3WSSMEFPt4MuN++0OAYDRWVpkKup1joASwYnOLlyqidsh+mek2B0CAMUVzi0MFDMmR8DqMw4eCgiauB1jQEaq3SEAUFXj3CFcMaNoh90RwKLH4NAuu6OwjSZuh4iUKe8dklpVAl5FouI8uyOwxnCXO3f90rAlbhF5RkT2e2Zb1rd1EZG5IrLZ829nr213iEiOiGwUkRle7RNEZLVn28MiIp72RBF5zdO+SET6ex0z23ONzSIyO1yfMZr06RIZXSWR8pBUtcGYH4DdD5ndidBzjL0x2Cicd9zPAY2nxd8OfGaMGQJ85nmPiIwAZgEjPcf8S0TqR7Q8BlwPDPG86s95HXDQGDMYeBD4i+dcXYC7gOOBicBd3r8gnKq2LjKG3Q/v6eyHSjGhywBwJ9gbQ20lFG61NwYbhS1xG2O+Bhr/LXMeDavEPw+c79X+qjGm0hizDcgBJopIJpBujFlgjDHAC42OqT/Xf4FpnrvxGcBcY0yhMeYgMBf/XyCOU1IRGVV4zxzj3EkTMaM4z6oVYjcH1+Nu7z7uHsaYvQCef+sLV2QB3k8acj1tWZ6vG7f7HOOpWlgEdG3mXH5E5HoRWSoiS/PzbR6XGmaJcZHxOKN7hKx9qdogZy4RMXE6b53dEdgmMn6aA3eYmWbaj/YY30ZjnjTGZBtjsrt1i4wVYsKlS2oi8RFQrySrU2T0tas26NjH7ggslZGxjqod2jtx53m6P/D8Wz8rJBfw/m7oDezxtPcO0O5zjIjEYVUwLGzmXI7XMdn+ER3PznNuv2TMGHAyjLvc7iig3xS7I7BNeyfu94D6UR6zgXe92md5RooMwHoIudjTnVLsqQsuwFWNjqk/10XA555+8I+B6SLS2fNQcrqnzfGKI6Cf+8WFO+0OQbWVCJzyK3sfUHbqD92H23d9m4XtFkxEXgGmAhkikos10uM+4HURuQ7YCVwMYIxZKyKvA+uw1rK8yRhTP27sBqwRKsnAHM8L4GngRRHJwbrTnuU5V6GI3AMs8ex3tzHGuQM+PVbnFlFZa3+/pA4HjBHfPmDvA8qqYqirc+zyZWFL3MaYS5vYNK2J/f8E/ClA+1JgVID2CjyJP8C2Z4Bngg7WAT5as9fuEABI1Qk4saHY5iXoyg9BXTW4nPmw25m/rhxoQEYHu0MA4Pj+jh9SHxt6HWvv9fscB3HOTNqgidsx+kdI4p6/1fG9VrGhcJu914+Eafc20sTtEH0jZMp7RbX2cceEcpsXxKhy7grvoInbMbqnJxEJC6xHwFByFQrDz7b3+gO/Z+/1baaJ20H6dbW/tGtSJPz2UG039lLold1+10ts9Gxk7dtQkNN+148wmrgd5ECJ/bUd+nWNjL521UZxCdBtSJA7hyDNVB70fV9XDZs/aft5o5QmbodYsesgB8vsX32mLkKqFKo2KtoNK19teT+JA8K0eEbXweE5bxTQxO0Qy3ccbHmndlBaZf/sTRUCK18hqEJTJkz/v1N7wpDTw3PuKKCJ2yFG9YqMRXrj9OlkbHCFaSJVQhDPYcQNP/zUmnrvUJq4HaJjis2F7z3G9u5kdwgqFMZdZq1CE2rBDPMztTDvodBfO4po4naIYT3TIuJu94RBGXaHoEIhtTtkBPtwMghJXZq5ixdITPdtWvY8VJWG7vpRRhO3QxQUV1ATAQ8GdxY694ct5gycGprz9BoPp/0OpFE6SkiD8VfA5W9ATYXvNpfL6jJxKE3cDlEbpgf7rVVZozMnY8a4K0Jznj3fwfu3Qm2jB5m9j4OyQnj5Iv9KhEldID4pNNePQpq4HaJ7emJELBu2bk+x3SGoUMhbC8+eEeKTNrq72LcCNn4YeNeSvXBgS4ivHz00cTuEiDBzVE+7w2DXwTK7Q1Ch8OV9UBHmIaYVLfySP+TcRTk0cTuEMYY3lu1qeccw69tFZ07GhJL9Le/TVnXNTBhL7Ql9Twh/DBFKE7dDlFbWUF5lf0f35ZP62h2CCoVRF9pwUa9RUSPP1z5uFfs+Xd8Od0hByOhgfz+7CoHjr2/llPM2DkVNSMNnpubSZ61VcBxKE7dDJMTZP4YbYGu+s+sox5RZr7S8T2I6dB1CUNPjxQVDZ+KX5F1xUNuoQFptJVQ793mJJm6HmDEyk6Q4+/93v7Bwh90hqFDpNhSSAyxFN+wsOPmXMOYS6DESDmwO7nymDnYtwS/J19X4Dwd0xUN6r6MKOxboyq0O4XYJF07I4uVF9j6grImUAeWqbYpyYd7D1krrje1bDTvmQcWh1p832JV1Moa1/twxRBO3g+wqLLc7BEZESLEr1Qa11fDMTChq4iagKMzD9BLSYOafw3uNCKeJ20Hi3fZ3lVw4PsvuEFRb7VwQOGmnZEBZQevOVT9t3QQxozb7hzDyPMgcB0npLe4ey+z/SVbt5pLj+th6/aR4FycO7WZrDCoEyprozigvbP25TK31Su0BaS38Uk/uCDVVjk/aoInbUcqq7K0TUlNrqNY+7ujXc0zgdtOG/7c1lc1PuAH45n54+UL48i9Hf50YoYnbQdKT7e0Zq6kz/OPTIEcYqMjVdRBMuLrp7QNOJuC4bVc8nPRLayRK40qAPUdDYlrg8zUu97rgUTD2V7q0kyZuBxnSvYkfjHb05cbImAik2ujMv0Nyl8Dbdi6GC56ADo26xU66DabdCbdtgAufgY6errvOA+Cs++GUXwU+X13j5c/E0avfgD6cdJQVuw7ZHQKpSfotFxN2zG+6T7u2Ala/Dr/IsaoIbpwDIy+wtr31Y1j/njV5pn6ZsoPb4N2b4Yr/wo0L4f2fWQ9Am3LirSH9KNFIf4ocZOl2+xcM7pgcGUuoqTYwxuquaE7BJuvfHiOt1+KnYM6vfBcP9l6mLHcxLH4Sxl3e9DkT06G63Dp3dTnEJx/9Z4hymrgd5HBFCw9/2kF2vwAz7VR02fIZbP6k+X0GnGw9TDy0C9a+HdxknJWvwfZ5Td9tVx727PcKdOwNp/6mVWHHEk3cDvKD7N68/d1uW2M4Z2ymrddXIXCohdm3aZmw4QMob+VfeAc2Q2GAxRHcif61SnYtat25Y4w+nHSQEwZlcFzfTrZdPyXBTbc055bijBlDZ0J8o7rqbq//r8V7W07a8cnWKJPGGo826T4Sxs7y36/PpOBijVGauB1mc4F9i/WeOCQDdwSsNK/aKD0Trn4fjjnXmsU49vKWx2A3Ji4Yd5l/e1ySlawBeoyCSTfA8ud99+l7gjVCxcE0cTtIXZ2hqMy+fu5P1uYxf0srp0SryNRlAOStgb0rYOXLwU1Z91ZVCjmfWtPYvdXVWVX/Tv4lXPgUFGz0P7bvJEc/mATt43aUez5YF0xV5LDauK+YyYMybI5CtdnK16Bwa9vOcXgPzPgTdBkIn/zaaqspg5y51uvrvwY+bsj0tl03BmjidoiismpemL/d1hhcAicN0aQdE4r3Nr0tIQ0GTYX1/2v+HEOmw5vXNb2Su7e0TKueyaQbod/kVoUaizRxO0StMdTafLt96vAeDI6A2ZsqBHYtDtyelgk3LbYKQX3yW8/09EY1TBLTIaUr5G+AQ0EurNF3Elz8XJtCjiXax+0QbX0kmJoYR4cEd5vOUVrZeOqyilpN1eIu3mt1oVQWw9KnfZN2p77W1PbqMmu2ZLBJG2xanDhy6R23Q6Qnx5OWFEdxxdElz5IQJN1RWXq3HTP6TYZVrwXe9t4tVgKvajSCqUM3KNkfoPZII6k9rbvy1Axr2OHYWVY3ycd3WvVNjr0SEjo0f44Yp4nbIdwu4TdnHsOv3lptWwx7Dtm/Ao8KkRl/hrJCa2SIiO+d9b4VgY8ZMh3SW6i5nZoJP/4S0no2tG36BJ6Z0XCN9e/BNUH0i8cwTdwOcsnEvnRIdPN/r6ywZXTJB6vzuGjDfr43vLsNV1ch1SHDKgpljDWd/Y2rYeuXgfd1J8AJN8FJP4e6WljzJmz9wto24jyYcpu1RmWHrjDsTKsbZv4j1l139jWw5CnfXww75lnFq3qMDPOHjFyauB1mS0GJrUMCH5i7SRN3LBGxRpGkNDNaKLkL5G+Evaug9wS46h3IXWqNAx9wsjUcMGucte++1fDUaVBTYb1f/AR0G+5/Th3HrZyitLKGhz/LsTWGkggodKVCKG8tvPwDOJzrvy0+xXoQWbLPGvK37Ru4ZaV1R/3iBQ1Fo6bd1TAT8ruXG5I2WMuk7ZhnTY+vn5059lIr2TuYjipxkF+8sZLWrBwWjsnps6f0D8NZlW0++U3gpA3QfYTv+6piq4vknRsakjbAF39qqG3S1EPHuho47W646j04/7G2xx3lNHE7yIKtTSzyGkCHBFeTXSonDm59zZHEOBe3nT6EqycPaNVxKsIVbgvcHp8Mu5f6t3fqZ3WbeKurgTVvWf3k5YXQoUeAExoYOgMGnuL41W9Au0ocpUd6EgeDqFUiQGlV07fmm/cXU1vXup7yP5w7klkT+7bqGBUFjjkH5j/s3x6fYi124G3c5dbako1vCcQNH9zm+75DDyjNa2jrOxm6B+jrdii943aQy473TZw90xNxCcS7fe9gWkrJRzMW/OO1+1p9jIoC034HU+/wrB/pSSddB0NWtu9+7gSY/keIT4Ixjcq0duzt+97UWknbnWAtLJyVDd9/ImwfIRrpHbeDvLXcdxGFfYet4vR1rZgLH+cSThnajTlrWpeI+3ZJadX+Kkq442Hq7darJB8O74aeY+BAjjVCpHiPdQc97S5I8SwufM4/IHOsVVlwwCmw7cvAsyhrq6C8yupy+eAX1sSb/ethyGnQa3x7fsqII8bhy9zXy87ONkuXBuiTiyGDf/0hNS10ccS7hepmEvnAjA7sPlRGZU3w3zf9uiTz+k8m0yNdF1GIKYXb4LM/QEEODD8LTv4FuL3uBWuqYM9yq1/70E5Y+5Y1AWfC1VYtk3oFOfDcmVCS53eJwAQuetop0+ADdujb0lUiIttFZLWIrBCRpZ62LiIyV0Q2e/7t7LX/HSKSIyIbRWSGV/sEz3lyRORhEeuphYgkishrnvZFItK/3T9khCkqqw6qX7q5pJ0U7+LM0T1blbQBag0cLtdhgDHFGHj5Yms9ybzV8NV91hqT3uISrOJQ+9fCszNh0eMw97fw0veh1uv7IWOwNUzwBy9AvylWm6u5zgBjTdBxMDv7uL9njBlnjKnvDLsd+MwYMwT4zPMeERkBzAJGAjOBf4lIfbWjx4DrgSGe10xP+3XAQWPMYOBB4C/t8Hki2uGK6qAm3rhFSEnw/7ZwCbgM5OSX+G07aXAGT151LB2TA/+w5R4sZ9aTC7XIVCw5kGOtEemtqfKsS5/1nfmYuwTuyYDnz4FiT5dbfLI1i/KaD+HXe+CajyCtl7UtJcPqbvHh7JElkfRw8jygfo2i54HzvdpfNcZUGmO2ATnARBHJBNKNMQuM1d/zQqNj6s/1X2Ba/d24U/XpksLE/l1a3K/WGBLi3FwwPosUr2qAdQbKaur4aE0ekwd1JSXBjQjMGNmDf8/OZvqITP591XF+DzrrHSitYsGW4IcjqgiXlgkJqb5tGUMD7xvfxPONbV/DR3f4tyd0gD7Hwa2r4eZlcNt6a+p7PXHBlJ8eXdwxwq6Hkwb4REQM8IQx5kmghzFmL4AxZq+I1M+LzgIWeh2b62mr9nzduL3+mF2ec9WISBHQFfBZN0tErse6Y6dv39gfqvbv2dn8++stfLWpgJKKarYdKAu436GyagZmdCAlIY6yKv8lqcqra1n2m9OpqK6lc4eEI+3Ldhxstqtlw77DnDYi0BhdFXUSU+G0P8And1ozHbsNh2m/9d3HGKtC4JRbYNPHUFnkf57dy5q+hjvO6kYBOPPvMPg02L/O+jdzbOg+SxSy6457ijHmWOAM4CYRObmZfQPdwplm2ps7xrfBmCeNMdnGmOxu3bq1FHPU65gcj8vlYvXuoiaTdr2HPt1M55QAq3AD1bV1JCe4fZI2wBtLm6jR7HXOfUUVze6jokThNmvGY/309PiUhq4NgF1L4B/j4N4sePvHMPs9OO8x/+qA/U8M7noleVYZ2WXPwcLHrMqEDmbLHbcxZo/n3/0i8jYwEcgTkUzP3XYmsN+zey7Qx+vw3sAeT3vvAO3ex+SKSBzQEXD2/2mP15fsDGq/WmPYml9CQpyLqhrfyTjFjeqNbM0voVNKAp0aJXq3S3weiNbUGdbtLaJnRx1dEvWWPWvNcqy3Z7k1nX3I6dad9utXNixvlrcG3roebl4MvcZZk23y1sHgU601J5uyaxEsfNyqS7JzPuyYb7Uf2mn9wnDwijjtnrhFpAPgMsYUe76eDtwNvAfMBu7z/Puu55D3gP+IyANAL6yHkIuNMbUiUiwik4BFwFXAI17HzAYWABcBnxsd9wjQ4nBAb7UGzh3Vk7dX7PFpH5HZEYCDpVVc89wSVuw6RLxbuGBcFuv2Hqaiug4RmD6ih89476R4F+P7dEbFgLoAq7qvedNK3BVF/mtSFmyEyhLoMQKu/ajl8698Dd6+vuntOZ+1Lt4YY8cddw/gbc+zwjjgP8aYj0RkCfC6iFwH7AQuBjDGrBWR14F1QA1wkzGm/rvmBuA5IBmY43kBPA28KCI5WHfajaZqOdfg7qkUlAT3x0dWp2TSGo0USUlw8eOTB3KwtIonvt7Kil2HAGsY4RvLc3nnxsnsLapgWM90+nVJ4a8fb+TN5blkpCZy+xnD/bpXVJQ6drY1WqTaa5Wbla9YxaLOuh/iknyr/IFVKTAxFXYuhE9/b40oGXMJnPIrcLmgtgZyF1ujSD6/p/nr9xgV8o8UTXQCjocTJuAAvLxwB3e+s6bZfTJSExjSPZWc/FLyiyv9touAS4SsTsnsLPTtK3/h2omcPDT2nxcorKXEFjzq357SFUZdDIsfb2gbOBWuetdai/KBEb7VAc/8u1Xz5LmzrGGGYA0PbFzrJKWrVeY1Y6g15rv7MSH/SBEo4DAtnfLuIA99uomHPm0Ye5uS4KaqupbG82n+cO4obnn1uya7VYyx+sAbJ+2uHRI4LoghhypGNLV4QtkB6NwPvv8UbP7YGnFy/E+sb5wlT/kmbYAtn1tT3uuTNvgn7cQ0+PlmKD8AqboQhyZuhyivquXxr7b4tA3unsqhsmqfBBznEhLcEnRf+BmjerApr4TUpHh+f84Iktu4EryKIuMuhS//bNUUaWz/Wjj3URhzcUPba1fA+v/579tjlLXqe2MTroXcRdaU+TPvB7dbk7ZHJE3AUWFUU1fnN8Z6/+EKuqUl+vwt9tuzRzAiq6Pf8YlxgWdT7jxQxpb8UlbuOsSNLy/nux0H0e43h0jraT1oHDrTfymx717y7afesyJw0u5/Euz4FtZ/0OjcvWDmvXDDfLj0FejYy/9YB9PE7RBpSfGcNMT3T9t9hytZtuMgBuiWmsBHt5zE7Mn9yeqUzGnH+N7ZTOjnPxqkzsDavcVH3u8tquCCx+Yz7f6v2BJgaryKQVkT4LLX4BdbwZ3ou23J0w1fVweYNzDiPKgqsYb51Xi2p2VC9nVw7RyrBKwKSBO3g8Q1s2pNfok1SmRV7iEApg7zTdzztxzgxqmDyOqU7DMVPpCtBaVc9u+FbMorbnY/FUMSUqxV2b151yfpMwl6jG54L25rZMqe73yPqa2Csx+Azv3DFmos0MTtIC1VB3z7u92c/895fL4hj7V7DvttH9w9lXm3nxpUbe28w5Vc+uRCyqq0sJRjDDjJ933lYdjnGcHkcsHV71vT5CfdBD+cC4On+a/g3uvYwOcuyYdXL4d7+1rFqQ5sCbyfQ2jidpCrpwxoca3IOgPPzd/h163iEmtcN+C3rSkHSqtYtFUnrDpGYqp/W/6Ghq+TO8GJt8LMP1tdLADff7JhUeE+k6wx4IF8cBtseN+qd7Lta3jzulBGHnU0cTvIKUO78e5NU+jVqfm+wwS3cOboTK6c1O9IW52BG19eTkllDT+fPoyrTuhHr45JZKQ2P6Gmd+fkZrerGFCcB29cAxsalXWNS7IePjYncyzcuAB+kw/XfWwNIwxkxzzf93u+swpYOZQmbocZldWRH544sMntCW7h+pMHAVDXaHTIgdIqvt6UT1VtHb87ewTz75jG0t+czqBuHfzOI1h35n/9eCMPzN1Eidbijl1v/9ha3abMU3wzMc1a3Pey1yEtyGqQcS3MqG3chdJtuFX+1aF0HLcDXTOlPwZ48ust5B32nRk5KqsjEwdYk2i6p/nfmT/x1RZufHk5GakJ/OHcUZw1JpM3fjKZx7/awtb8UgZ260BReTX5xZV8vsGqEzZ3XR5rdhfxzNXHhf2zqXZmDGz90retrtYaFRJKZz8Ab/4Idi2E7iPhgsdbPiaG6ZR3D6dMefdWVVPH8N/OwfuZpQhs/fOZiAgHS6u45MkFbMqzhvYNzOjA1oKGP0+T490sunMa6UlWVcBXF+/k9rdWN3m9Fb87nU4pWqsk5vxrsjXhpl7vidbDx8Yqi6263EmdYNCp1gPL1qqpavnuPLbolHfla/G2QhoPNBnULZX6xYI6d0hgzi0ns2zHQdKT4/jdu2t9End5dS3b8ksZ26cTAE9/G2D2m0daUpzOqoxV5z0K/70GDm6HrkPg7Af99ynKhadOa6gaOHAqXPmOdafQGs5K2k3SxO1g3+YU+LU1nnjjdsmRrpMTB2eweFvDKJGM1ASGZ6YB8PWmfPYcalRfwiPOJdxxxjEkxmnijklZx8L/fWfVKOmQETgZL/63b6nXrV9ao0MGntJuYcYSTdwONrJXul/btGOafph0w9RBFFdU88GqvfTuksKdZ1rJeHNeMdc+t8SvvsmPThrAyUO7MaR7mi6eEOtcLkhtpipkVYCZtIHaVFA0cTvYWaMzWbq9kFcW78LtEn58ysBmq/vFu13cedYI7jxrhE/7p+v3+yXtS7L7+O2nHGz8lbD8hYaCVJ37w6BptoYUzTRxO5jLJfzhvFHcceYxiHDUXRn9u/rPpDxpaHCTdJRD9BoHP/ocVr5qLaBQvM+aRHPSbQ2TcVTQNHErkuKDS9h1dYbXlu5i/pYDjM5KZ/bk/iTGuZk+sifnju3FeyutJc7OHpPJzJE9wxmyikY9R0PFYWvBhPq1u7d8Abes0HKtraSJ26Gqa+v4NqeABLeLEwZ2xdXCVHiABz/dxCOfW8Xu/7dyD+v2HOahWeNxu4SHLx3Pr84YjjGG3p1TKCqrJi1JgjqvcpD173EkaYO19NmiJ2Dab633W76AD35uLaxwzLlw7sPWhB7lQxO3Ax2uqObixxaw0VO9L7tfZ/7zo0kkBKi57e2Npbk+7/+3ai/3XTjmyB17Vqdkdhwo5exHvmHN7sP06ZLMgz8YR7auiqPqBar6980DVsGpzHHwxmxrsWGwZmN2zILpf2zPCKOCTnl3oDeX5R5J2gBLdxxk7rq8Fo/r0mih3/SkOOLdvt9Cd723ljW7rcqCuwrL+dnrK3RhBdXg2KsCLPRbB8tfhIJNDUm73q4l7RZaNNHE7UCHyqr928oDLD/VyC9nDjuyEo5L4PYzhvtVG1zXqBzsrsJyirVOiaqX0MHq/mgsuRN0GwbJjRbs6DupXcKKNpq4Hei8cb1I9nog2SklnhlBPEycOqw7828/lSevnMA3vzqVS47r67fPiYN9R5OM7d3xyJR45RAHtsDmT5uu3pc1weq/rpfa01pMOD4ZLnnJKvManwJjL4VTftU+MUcZrVXi4bRaJRv2HeY/i3aS4HZx5Qn96Nc1NJXWisqruft/65iXU8DIXun8/tyR9Ali4QUV5fZ8Zy1VlremYVWb5C4w+z1rNEkgO+ZDaT4MPs3Rlf5aEPDpviZuD6clbqVCpmAzPH4i1FT4bxt+Nsx6uf1jih0BE7d2lSil2mbNW4GTNlh31CrkNHErpdqmQ9emt429tP3icBBN3EqpthkzyxqDXa9jH+vh44VPQ/Y1toUVy3QCjlKqbRJT4UdfWOtCuuOhz/Gtr7OtWkUTt1Kq7VwuGNDCwsAqZLSrRCmloozecSvAql/y67dW89n6/Qzq3oE/nj+acZ4lyZRSkUXvuBUAf/1oA++v2kt5dS1rdh/mhpeWUVNbZ3dYSqkANHErAJZuP+jzfm9RBbkHA68hqZSylyZuFfDOultaIlmdk22IRinVEk3cin9/s40N+xrKvLoEHrpknF/JVqVUZNCfTMW8nAKf93UGkuL1W0NFkOoKmHsXPHEyvPd/UOLsqfQ6qkQxslc633ol78Q4F4O6pdoYkVKNfHInLHnK+nrvSijcBle/b29MNtLbKsVNpw7m1OHdEYGuHRL428Vj6ZSS0PKBSrWXDR/6vt/+jbXwsEPpHbciPSmeZ64+jpLKGpLiXMRp37aKNF0HQfGehvdpmY6u4a0/oeqI1MQ4TdoqMs281ypeBZDUCc75B7jczR4Sy/SOWykV+XqOhltWwoEc6NTXWubMwTRxK6Wig8ttLSistKtEKaWijSZupZSKMpq4lVIqymgft1Kq7SoOw/xHIH89DJkOx15ld0QxTRO3UqrtXr8Ktn5hfb3+f1B+EKbcYm9MMUy7SpRSbVOc15C066181Z5YHEITt1KqbRJTIT7Fty21uz2xOERMd5WIyEzgH4AbeMoYc5/NIdmu/+0f2HbtcT3cvPOzmbZdX4XQ1m/hhbOa2f4l/L5jeK6d0gN+uSk8544SMXvHLSJu4J/AGcAI4FIRGWFvVPapqqqxNWkDrMirtT0GFQLPn9980g63sjzrl0J1pX0x2CxmEzcwEcgxxmw1xlQBrwLn2RyTbYb+7mO7Q1CxYtsXLe/THp44xe4IbBPLiTsL2OX1PtfTdoSIXC8iS0VkaX6+swuzKxV1vKsFOkwsJ24J0GZ83hjzpDEm2xiT3a1bt3YKyx63fq+/3SGoWCHxdkdguegZuyOwTSwn7lygj9f73oBjf0XfOmOk3SEAsOVP+nAy6t1VgO2p45jzYMhp9sZgIzHGtLxXFBKROGATMA3YDSwBLjPGrA20f3Z2tlm6dGk7RqiUUi0K1HMQu8MBjTE1InIz8DHWcMBnmkraSikVTWI2cQMYYz4EPmxxR6WUiiKx3MetlFIxSRO3UkpFGU3cSikVZTRxK6VUlNHErZRSUUYTt1JKRRlN3EopFWU0cSulVJTRxK2UUlEmZmuVtJaI5AM77I4jCmQABXYHoaKefh8Fp8AY41eZTRO3ahURWWqMybY7DhXd9PuobbSrRCmloowmbqWUijKauFVrPWl3ACom6PdRG2gft1JKRRm941ZKqSijiVsppaKMJm4VFBGZKSIbRSRHRG63Ox4VnUTkGRHZLyJr7I4lmmniVi0SETfwT+AMYARwqYiMsDcqFaWeA/wmlKjW0cStgjERyDHGbDXGVAGvAufZHJOKQsaYr4FCu+OIdpq4VTCygF1e73M9bUopG2jiVsGQAG06jlQpm2jiVsHIBfp4ve8N7LEpFqUcTxO3CsYSYIiIDBCRBGAW8J7NMSnlWJq4VYuMMTXAzcDHwHrgdWPMWnujUtFIRF4BFgDDRCRXRK6zO6ZopFPelVIqyugdt1JKRRlN3EopFWU0cSulVJTRxK2UUlFGE7dSSkUZTdxKBSAitSKywuvVbEVEEflQRDp5XjcexfV+LyL/7+gjVk4SZ3cASkWocmPMuGB3NsacCSAi/YEbgX+FJyyl9I5bqaCJSEdPTfJhnveviMiPPF9vF5EM4D5gkOcu/W+ebb8QkSUiskpE/uB1vjs95/sUGGbDR1JRSu+4lQosWURWeL2/1xjzmojcDDwnIv8AOhtj/t3ouNuBUfV36yIyHRiCVRpXgPdE5GSgFKt0wHisn8PlwLIwfh4VQzRxKxVYwK4SY8xcEbkYa2GJsUGcZ7rn9Z3nfSpWIk8D3jbGlAGIiNZ+UUHTrhKlWkFEXMAxQDnQJZhDsO7Wx3leg40xT3u2ab0JdVQ0cSvVOj/DKrR1KfCMiMQ32l6MdTdd72PgWhFJBRCRLBHpDnwNXCAiySKSBpwT/tBVrNCuEqUCa9zH/RHwDPBDYKIxplhEvgZ+A9xVv5Mx5oCIzPMshjvHGPMLETkGWCAiACXAFcaY5SLyGrAC2AF80x4fSsUGrQ6olFJRRrtKlFIqymjiVkqpKKOJWymloowmbqWUijKauJVSKspo4lZKqSijiVsppaLM/wce3GDvXvp0SAAAAABJRU5ErkJggg==\n",
>>>>>>> c1bd09d305199d2a762fcc762efee491142a3f2b
      "text/plain": [
       "<Figure size 360x360 with 1 Axes>"
      ]
     },
     "metadata": {
      "needs_background": "light"
     },
     "output_type": "display_data"
    }
   ],
   "source": [
    "sns.catplot(\"Exited\", \"Balance\", data = df)"
   ]
  },
  {
   "cell_type": "code",
   "execution_count": 42,
   "metadata": {},
   "outputs": [
    {
     "data": {
      "text/plain": [
       "count     7963.00\n",
       "mean     99738.39\n",
       "std      57405.59\n",
       "min         90.07\n",
       "5%        9773.54\n",
       "25%      50783.49\n",
       "50%      99645.04\n",
       "75%     148609.96\n",
       "90%     179453.21\n",
       "95%     190107.56\n",
       "99%     198131.47\n",
       "max     199992.48\n",
       "Name: EstimatedSalary, dtype: float64"
      ]
     },
     "execution_count": 42,
     "metadata": {},
     "output_type": "execute_result"
    }
   ],
   "source": [
    "# examining the EstimatedSalary of the not_churn group\n",
    "not_churn[\"EstimatedSalary\"].describe([0.05,0.25,0.50,0.75,0.90,0.95,0.99])"
   ]
  },
  {
   "cell_type": "code",
   "execution_count": 43,
   "metadata": {},
   "outputs": [
    {
     "data": {
      "image/png": "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\n",
      "text/plain": [
       "<Figure size 576x432 with 1 Axes>"
      ]
     },
     "metadata": {
      "needs_background": "light"
     },
     "output_type": "display_data"
    }
   ],
   "source": [
    "# distribution of the Balance for churn\n",
    "plt.figure(figsize=(8,6))\n",
    "plt.xlabel('EstimatedSalary')\n",
    "plt.hist(not_churn[\"EstimatedSalary\"],bins=15, alpha=0.7, label='Not Churn')\n",
    "plt.legend(loc='upper right')\n",
    "plt.show()"
   ]
  },
  {
   "cell_type": "code",
   "execution_count": 44,
   "metadata": {},
   "outputs": [
    {
     "data": {
      "text/plain": [
       "count     2037.00\n",
       "mean    101465.68\n",
       "std      57912.42\n",
       "min         11.58\n",
       "5%       10030.76\n",
       "25%      51907.72\n",
       "50%     102460.84\n",
       "75%     152422.91\n",
       "90%     180169.39\n",
       "95%     190328.98\n",
       "99%     197717.30\n",
       "max     199808.10\n",
       "Name: EstimatedSalary, dtype: float64"
      ]
     },
     "execution_count": 44,
     "metadata": {},
     "output_type": "execute_result"
    }
   ],
   "source": [
    "# examining the EstimatedSalary of the churn group\n",
    "churn[\"EstimatedSalary\"].describe([0.05,0.25,0.50,0.75,0.90,0.95,0.99])"
   ]
  },
  {
   "cell_type": "code",
   "execution_count": 45,
   "metadata": {},
   "outputs": [
    {
     "data": {
      "image/png": "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\n",
      "text/plain": [
       "<Figure size 576x432 with 1 Axes>"
      ]
     },
     "metadata": {
      "needs_background": "light"
     },
     "output_type": "display_data"
    }
   ],
   "source": [
    "# distribution of the EstimatedSalary for churn\n",
    "plt.figure(figsize=(8,6))\n",
    "plt.xlabel('EstimatedSalary')\n",
    "plt.hist(churn[\"EstimatedSalary\"],bins=15, alpha=0.7, label='Churn')\n",
    "plt.legend(loc='upper right')\n",
    "plt.show()"
   ]
  },
  {
   "cell_type": "code",
   "execution_count": 46,
   "metadata": {},
   "outputs": [
    {
     "data": {
      "text/plain": [
<<<<<<< HEAD
       "<seaborn.axisgrid.FacetGrid at 0x2aceddfbac0>"
=======
       "<seaborn.axisgrid.FacetGrid at 0x2baad76b2e0>"
>>>>>>> c1bd09d305199d2a762fcc762efee491142a3f2b
      ]
     },
     "execution_count": 46,
     "metadata": {},
     "output_type": "execute_result"
    },
    {
     "data": {
<<<<<<< HEAD
      "image/png": "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\n",
=======
      "image/png": "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\n",
>>>>>>> c1bd09d305199d2a762fcc762efee491142a3f2b
      "text/plain": [
       "<Figure size 360x360 with 1 Axes>"
      ]
     },
     "metadata": {
      "needs_background": "light"
     },
     "output_type": "display_data"
    }
   ],
   "source": [
    "sns.catplot(\"Exited\", \"EstimatedSalary\", data = df)"
   ]
  },
  {
   "cell_type": "code",
   "execution_count": 47,
   "metadata": {
    "scrolled": true
   },
   "outputs": [
    {
     "data": {
      "text/plain": [
       "<AxesSubplot:>"
      ]
     },
     "execution_count": 47,
     "metadata": {},
     "output_type": "execute_result"
    },
    {
     "data": {
      "image/png": "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\n",
      "text/plain": [
       "<Figure size 720x432 with 2 Axes>"
      ]
     },
     "metadata": {
      "needs_background": "light"
     },
     "output_type": "display_data"
    }
   ],
   "source": [
    "k=10\n",
    "cols=df.corr().nlargest(k, 'Exited')['Exited'].index\n",
    "cm = df[cols].corr()\n",
    "plt.figure(figsize=(10,6))\n",
    "sns.heatmap(cm,annot=True, cmap='Blues')"
   ]
  },
  {
   "cell_type": "code",
   "execution_count": 48,
   "metadata": {},
   "outputs": [
    {
     "name": "stdout",
     "output_type": "stream",
     "text": [
      "CustomerId         0\n",
      "Surname            0\n",
      "CreditScore        0\n",
      "Geography          0\n",
      "Gender             0\n",
      "Age                0\n",
      "Tenure             0\n",
      "Balance            0\n",
      "NumOfProducts      0\n",
      "HasCrCard          0\n",
      "IsActiveMember     0\n",
      "EstimatedSalary    0\n",
      "Exited             0\n",
      "dtype: int64\n",
      "(10000, 13)\n"
     ]
    }
   ],
   "source": [
    "print(df.isnull().sum())\n",
    "print(df.shape)"
   ]
  },
  {
   "cell_type": "code",
   "execution_count": 49,
   "metadata": {},
   "outputs": [
    {
     "data": {
      "text/html": [
       "<div>\n",
       "<style scoped>\n",
       "    .dataframe tbody tr th:only-of-type {\n",
       "        vertical-align: middle;\n",
       "    }\n",
       "\n",
       "    .dataframe tbody tr th {\n",
       "        vertical-align: top;\n",
       "    }\n",
       "\n",
       "    .dataframe thead th {\n",
       "        text-align: right;\n",
       "    }\n",
       "</style>\n",
       "<table border=\"1\" class=\"dataframe\">\n",
       "  <thead>\n",
       "    <tr style=\"text-align: right;\">\n",
       "      <th></th>\n",
       "      <th>CustomerId</th>\n",
       "      <th>Surname</th>\n",
       "      <th>CreditScore</th>\n",
       "      <th>Geography</th>\n",
       "      <th>Gender</th>\n",
       "      <th>Age</th>\n",
       "      <th>Tenure</th>\n",
       "      <th>Balance</th>\n",
       "      <th>NumOfProducts</th>\n",
       "      <th>HasCrCard</th>\n",
       "      <th>IsActiveMember</th>\n",
       "      <th>EstimatedSalary</th>\n",
       "      <th>Exited</th>\n",
       "    </tr>\n",
       "    <tr>\n",
       "      <th>RowNumber</th>\n",
       "      <th></th>\n",
       "      <th></th>\n",
       "      <th></th>\n",
       "      <th></th>\n",
       "      <th></th>\n",
       "      <th></th>\n",
       "      <th></th>\n",
       "      <th></th>\n",
       "      <th></th>\n",
       "      <th></th>\n",
       "      <th></th>\n",
       "      <th></th>\n",
       "      <th></th>\n",
       "    </tr>\n",
       "  </thead>\n",
       "  <tbody>\n",
       "    <tr>\n",
       "      <th>1</th>\n",
       "      <td>15634602</td>\n",
       "      <td>Hargrave</td>\n",
       "      <td>619</td>\n",
       "      <td>France</td>\n",
       "      <td>Female</td>\n",
       "      <td>42</td>\n",
       "      <td>2</td>\n",
       "      <td>0.00</td>\n",
       "      <td>1</td>\n",
       "      <td>1</td>\n",
       "      <td>1</td>\n",
       "      <td>101348.88</td>\n",
       "      <td>1</td>\n",
       "    </tr>\n",
       "    <tr>\n",
       "      <th>2</th>\n",
       "      <td>15647311</td>\n",
       "      <td>Hill</td>\n",
       "      <td>608</td>\n",
       "      <td>Spain</td>\n",
       "      <td>Female</td>\n",
       "      <td>41</td>\n",
       "      <td>1</td>\n",
       "      <td>83807.86</td>\n",
       "      <td>1</td>\n",
       "      <td>0</td>\n",
       "      <td>1</td>\n",
       "      <td>112542.58</td>\n",
       "      <td>0</td>\n",
       "    </tr>\n",
       "    <tr>\n",
       "      <th>3</th>\n",
       "      <td>15619304</td>\n",
       "      <td>Onio</td>\n",
       "      <td>502</td>\n",
       "      <td>France</td>\n",
       "      <td>Female</td>\n",
       "      <td>42</td>\n",
       "      <td>8</td>\n",
       "      <td>159660.80</td>\n",
       "      <td>3</td>\n",
       "      <td>1</td>\n",
       "      <td>0</td>\n",
       "      <td>113931.57</td>\n",
       "      <td>1</td>\n",
       "    </tr>\n",
       "    <tr>\n",
       "      <th>4</th>\n",
       "      <td>15701354</td>\n",
       "      <td>Boni</td>\n",
       "      <td>699</td>\n",
       "      <td>France</td>\n",
       "      <td>Female</td>\n",
       "      <td>39</td>\n",
       "      <td>1</td>\n",
       "      <td>0.00</td>\n",
       "      <td>2</td>\n",
       "      <td>0</td>\n",
       "      <td>0</td>\n",
       "      <td>93826.63</td>\n",
       "      <td>0</td>\n",
       "    </tr>\n",
       "    <tr>\n",
       "      <th>5</th>\n",
       "      <td>15737888</td>\n",
       "      <td>Mitchell</td>\n",
       "      <td>850</td>\n",
       "      <td>Spain</td>\n",
       "      <td>Female</td>\n",
       "      <td>43</td>\n",
       "      <td>2</td>\n",
       "      <td>125510.82</td>\n",
       "      <td>1</td>\n",
       "      <td>1</td>\n",
       "      <td>1</td>\n",
       "      <td>79084.10</td>\n",
       "      <td>0</td>\n",
       "    </tr>\n",
       "  </tbody>\n",
       "</table>\n",
       "</div>"
      ],
      "text/plain": [
       "           CustomerId   Surname  CreditScore Geography  Gender  Age  Tenure  \\\n",
       "RowNumber                                                                     \n",
       "1            15634602  Hargrave          619    France  Female   42       2   \n",
       "2            15647311      Hill          608     Spain  Female   41       1   \n",
       "3            15619304      Onio          502    France  Female   42       8   \n",
       "4            15701354      Boni          699    France  Female   39       1   \n",
       "5            15737888  Mitchell          850     Spain  Female   43       2   \n",
       "\n",
       "            Balance  NumOfProducts  HasCrCard  IsActiveMember  \\\n",
       "RowNumber                                                       \n",
       "1              0.00              1          1               1   \n",
       "2          83807.86              1          0               1   \n",
       "3         159660.80              3          1               0   \n",
       "4              0.00              2          0               0   \n",
       "5         125510.82              1          1               1   \n",
       "\n",
       "           EstimatedSalary  Exited  \n",
       "RowNumber                           \n",
       "1                101348.88       1  \n",
       "2                112542.58       0  \n",
       "3                113931.57       1  \n",
       "4                 93826.63       0  \n",
       "5                 79084.10       0  "
      ]
     },
     "execution_count": 47,
     "metadata": {},
     "output_type": "execute_result"
    }
   ],
   "source": [
    "df.head()"
   ]
  },
  {
   "cell_type": "code",
   "execution_count": 48,
   "metadata": {},
   "outputs": [],
   "source": [
    "#determine the threshold value\n",
    "def outlier_thresholds(dataframe, variable, low_quantile=0.05, up_quantile=0.95):\n",
    "    quantile_one = dataframe[variable].quantile(low_quantile)\n",
    "    quantile_three = dataframe[variable].quantile(up_quantile)\n",
    "    interquantile_range = quantile_three - quantile_one\n",
    "    up_limit = quantile_three + 1.5 * interquantile_range\n",
    "    low_limit = quantile_one - 1.5 * interquantile_range\n",
    "    return low_limit, up_limit"
   ]
  },
  {
   "cell_type": "code",
<<<<<<< HEAD
   "execution_count": 50,
=======
   "execution_count": 49,
>>>>>>> c1bd09d305199d2a762fcc762efee491142a3f2b
   "metadata": {},
   "outputs": [],
   "source": [
    "#any outliers\n",
    "def has_outliers(dataframe, numeric_columns, plot=False):\n",
    "   # variable_names = []\n",
    "    for col in numeric_columns:\n",
    "        low_limit, up_limit = outlier_thresholds(dataframe, col)\n",
    "        if dataframe[(dataframe[col] > up_limit) | (dataframe[col] < low_limit)].any(axis=None):\n",
    "            number_of_outliers = dataframe[(dataframe[col] > up_limit) | (dataframe[col] < low_limit)].shape[0]\n",
    "            print(col, \" : \", number_of_outliers, \"outliers\")\n",
    "            #variable_names.append(col)\n",
    "            if plot:\n",
    "                sns.boxplot(x=dataframe[col])\n",
    "                plt.show()\n",
    "    #return variable_names"
   ]
  },
  {
   "cell_type": "code",
<<<<<<< HEAD
=======
   "execution_count": 50,
   "metadata": {},
   "outputs": [
    {
     "data": {
      "text/html": [
       "<div>\n",
       "<style scoped>\n",
       "    .dataframe tbody tr th:only-of-type {\n",
       "        vertical-align: middle;\n",
       "    }\n",
       "\n",
       "    .dataframe tbody tr th {\n",
       "        vertical-align: top;\n",
       "    }\n",
       "\n",
       "    .dataframe thead th {\n",
       "        text-align: right;\n",
       "    }\n",
       "</style>\n",
       "<table border=\"1\" class=\"dataframe\">\n",
       "  <thead>\n",
       "    <tr style=\"text-align: right;\">\n",
       "      <th></th>\n",
       "      <th>CustomerId</th>\n",
       "      <th>Surname</th>\n",
       "      <th>CreditScore</th>\n",
       "      <th>Geography</th>\n",
       "      <th>Gender</th>\n",
       "      <th>Age</th>\n",
       "      <th>Tenure</th>\n",
       "      <th>Balance</th>\n",
       "      <th>NumOfProducts</th>\n",
       "      <th>HasCrCard</th>\n",
       "      <th>IsActiveMember</th>\n",
       "      <th>EstimatedSalary</th>\n",
       "      <th>Exited</th>\n",
       "    </tr>\n",
       "    <tr>\n",
       "      <th>RowNumber</th>\n",
       "      <th></th>\n",
       "      <th></th>\n",
       "      <th></th>\n",
       "      <th></th>\n",
       "      <th></th>\n",
       "      <th></th>\n",
       "      <th></th>\n",
       "      <th></th>\n",
       "      <th></th>\n",
       "      <th></th>\n",
       "      <th></th>\n",
       "      <th></th>\n",
       "      <th></th>\n",
       "    </tr>\n",
       "  </thead>\n",
       "  <tbody>\n",
       "    <tr>\n",
       "      <th>1</th>\n",
       "      <td>15634602</td>\n",
       "      <td>Hargrave</td>\n",
       "      <td>619</td>\n",
       "      <td>France</td>\n",
       "      <td>Female</td>\n",
       "      <td>42</td>\n",
       "      <td>2</td>\n",
       "      <td>0.00</td>\n",
       "      <td>1</td>\n",
       "      <td>1</td>\n",
       "      <td>1</td>\n",
       "      <td>101348.88</td>\n",
       "      <td>1</td>\n",
       "    </tr>\n",
       "    <tr>\n",
       "      <th>2</th>\n",
       "      <td>15647311</td>\n",
       "      <td>Hill</td>\n",
       "      <td>608</td>\n",
       "      <td>Spain</td>\n",
       "      <td>Female</td>\n",
       "      <td>41</td>\n",
       "      <td>1</td>\n",
       "      <td>83807.86</td>\n",
       "      <td>1</td>\n",
       "      <td>0</td>\n",
       "      <td>1</td>\n",
       "      <td>112542.58</td>\n",
       "      <td>0</td>\n",
       "    </tr>\n",
       "    <tr>\n",
       "      <th>3</th>\n",
       "      <td>15619304</td>\n",
       "      <td>Onio</td>\n",
       "      <td>502</td>\n",
       "      <td>France</td>\n",
       "      <td>Female</td>\n",
       "      <td>42</td>\n",
       "      <td>8</td>\n",
       "      <td>159660.80</td>\n",
       "      <td>3</td>\n",
       "      <td>1</td>\n",
       "      <td>0</td>\n",
       "      <td>113931.57</td>\n",
       "      <td>1</td>\n",
       "    </tr>\n",
       "    <tr>\n",
       "      <th>4</th>\n",
       "      <td>15701354</td>\n",
       "      <td>Boni</td>\n",
       "      <td>699</td>\n",
       "      <td>France</td>\n",
       "      <td>Female</td>\n",
       "      <td>39</td>\n",
       "      <td>1</td>\n",
       "      <td>0.00</td>\n",
       "      <td>2</td>\n",
       "      <td>0</td>\n",
       "      <td>0</td>\n",
       "      <td>93826.63</td>\n",
       "      <td>0</td>\n",
       "    </tr>\n",
       "    <tr>\n",
       "      <th>5</th>\n",
       "      <td>15737888</td>\n",
       "      <td>Mitchell</td>\n",
       "      <td>850</td>\n",
       "      <td>Spain</td>\n",
       "      <td>Female</td>\n",
       "      <td>43</td>\n",
       "      <td>2</td>\n",
       "      <td>125510.82</td>\n",
       "      <td>1</td>\n",
       "      <td>1</td>\n",
       "      <td>1</td>\n",
       "      <td>79084.10</td>\n",
       "      <td>0</td>\n",
       "    </tr>\n",
       "  </tbody>\n",
       "</table>\n",
       "</div>"
      ],
      "text/plain": [
       "           CustomerId   Surname  CreditScore Geography  Gender  Age  Tenure  \\\n",
       "RowNumber                                                                     \n",
       "1            15634602  Hargrave          619    France  Female   42       2   \n",
       "2            15647311      Hill          608     Spain  Female   41       1   \n",
       "3            15619304      Onio          502    France  Female   42       8   \n",
       "4            15701354      Boni          699    France  Female   39       1   \n",
       "5            15737888  Mitchell          850     Spain  Female   43       2   \n",
       "\n",
       "            Balance  NumOfProducts  HasCrCard  IsActiveMember  \\\n",
       "RowNumber                                                       \n",
       "1              0.00              1          1               1   \n",
       "2          83807.86              1          0               1   \n",
       "3         159660.80              3          1               0   \n",
       "4              0.00              2          0               0   \n",
       "5         125510.82              1          1               1   \n",
       "\n",
       "           EstimatedSalary  Exited  \n",
       "RowNumber                           \n",
       "1                101348.88       1  \n",
       "2                112542.58       0  \n",
       "3                113931.57       1  \n",
       "4                 93826.63       0  \n",
       "5                 79084.10       0  "
      ]
     },
     "execution_count": 50,
     "metadata": {},
     "output_type": "execute_result"
    }
   ],
   "source": [
    "df.head()"
   ]
  },
  {
   "cell_type": "code",
>>>>>>> c1bd09d305199d2a762fcc762efee491142a3f2b
   "execution_count": 51,
   "metadata": {},
   "outputs": [
    {
     "name": "stdout",
     "output_type": "stream",
     "text": [
      "CreditScore has  None Outliers\n",
      "Age has  None Outliers\n",
      "Balance has  None Outliers\n",
      "EstimatedSalary has  None Outliers\n"
     ]
    }
   ],
   "source": [
    "for var in numeric_variables:\n",
    "    print(var, \"has \" , has_outliers(df, [var]),  \"Outliers\")"
   ]
  },
  {
   "cell_type": "code",
   "execution_count": 52,
<<<<<<< HEAD
=======
   "metadata": {},
   "outputs": [],
   "source": [
    "list = [\"Gender\", \"Geography\"]\n",
    "df = pd.get_dummies(df, columns=list,drop_first = False)"
   ]
  },
  {
   "cell_type": "code",
   "execution_count": 53,
   "metadata": {},
   "outputs": [
    {
     "data": {
      "text/html": [
       "<div>\n",
       "<style scoped>\n",
       "    .dataframe tbody tr th:only-of-type {\n",
       "        vertical-align: middle;\n",
       "    }\n",
       "\n",
       "    .dataframe tbody tr th {\n",
       "        vertical-align: top;\n",
       "    }\n",
       "\n",
       "    .dataframe thead th {\n",
       "        text-align: right;\n",
       "    }\n",
       "</style>\n",
       "<table border=\"1\" class=\"dataframe\">\n",
       "  <thead>\n",
       "    <tr style=\"text-align: right;\">\n",
       "      <th></th>\n",
       "      <th>CustomerId</th>\n",
       "      <th>Surname</th>\n",
       "      <th>CreditScore</th>\n",
       "      <th>Age</th>\n",
       "      <th>Tenure</th>\n",
       "      <th>Balance</th>\n",
       "      <th>NumOfProducts</th>\n",
       "      <th>HasCrCard</th>\n",
       "      <th>IsActiveMember</th>\n",
       "      <th>EstimatedSalary</th>\n",
       "      <th>Exited</th>\n",
       "      <th>Gender_Female</th>\n",
       "      <th>Gender_Male</th>\n",
       "      <th>Geography_France</th>\n",
       "      <th>Geography_Germany</th>\n",
       "      <th>Geography_Spain</th>\n",
       "    </tr>\n",
       "    <tr>\n",
       "      <th>RowNumber</th>\n",
       "      <th></th>\n",
       "      <th></th>\n",
       "      <th></th>\n",
       "      <th></th>\n",
       "      <th></th>\n",
       "      <th></th>\n",
       "      <th></th>\n",
       "      <th></th>\n",
       "      <th></th>\n",
       "      <th></th>\n",
       "      <th></th>\n",
       "      <th></th>\n",
       "      <th></th>\n",
       "      <th></th>\n",
       "      <th></th>\n",
       "      <th></th>\n",
       "    </tr>\n",
       "  </thead>\n",
       "  <tbody>\n",
       "    <tr>\n",
       "      <th>1</th>\n",
       "      <td>15634602</td>\n",
       "      <td>Hargrave</td>\n",
       "      <td>619</td>\n",
       "      <td>42</td>\n",
       "      <td>2</td>\n",
       "      <td>0.00</td>\n",
       "      <td>1</td>\n",
       "      <td>1</td>\n",
       "      <td>1</td>\n",
       "      <td>101348.88</td>\n",
       "      <td>1</td>\n",
       "      <td>1</td>\n",
       "      <td>0</td>\n",
       "      <td>1</td>\n",
       "      <td>0</td>\n",
       "      <td>0</td>\n",
       "    </tr>\n",
       "    <tr>\n",
       "      <th>2</th>\n",
       "      <td>15647311</td>\n",
       "      <td>Hill</td>\n",
       "      <td>608</td>\n",
       "      <td>41</td>\n",
       "      <td>1</td>\n",
       "      <td>83807.86</td>\n",
       "      <td>1</td>\n",
       "      <td>0</td>\n",
       "      <td>1</td>\n",
       "      <td>112542.58</td>\n",
       "      <td>0</td>\n",
       "      <td>1</td>\n",
       "      <td>0</td>\n",
       "      <td>0</td>\n",
       "      <td>0</td>\n",
       "      <td>1</td>\n",
       "    </tr>\n",
       "    <tr>\n",
       "      <th>3</th>\n",
       "      <td>15619304</td>\n",
       "      <td>Onio</td>\n",
       "      <td>502</td>\n",
       "      <td>42</td>\n",
       "      <td>8</td>\n",
       "      <td>159660.80</td>\n",
       "      <td>3</td>\n",
       "      <td>1</td>\n",
       "      <td>0</td>\n",
       "      <td>113931.57</td>\n",
       "      <td>1</td>\n",
       "      <td>1</td>\n",
       "      <td>0</td>\n",
       "      <td>1</td>\n",
       "      <td>0</td>\n",
       "      <td>0</td>\n",
       "    </tr>\n",
       "    <tr>\n",
       "      <th>4</th>\n",
       "      <td>15701354</td>\n",
       "      <td>Boni</td>\n",
       "      <td>699</td>\n",
       "      <td>39</td>\n",
       "      <td>1</td>\n",
       "      <td>0.00</td>\n",
       "      <td>2</td>\n",
       "      <td>0</td>\n",
       "      <td>0</td>\n",
       "      <td>93826.63</td>\n",
       "      <td>0</td>\n",
       "      <td>1</td>\n",
       "      <td>0</td>\n",
       "      <td>1</td>\n",
       "      <td>0</td>\n",
       "      <td>0</td>\n",
       "    </tr>\n",
       "    <tr>\n",
       "      <th>5</th>\n",
       "      <td>15737888</td>\n",
       "      <td>Mitchell</td>\n",
       "      <td>850</td>\n",
       "      <td>43</td>\n",
       "      <td>2</td>\n",
       "      <td>125510.82</td>\n",
       "      <td>1</td>\n",
       "      <td>1</td>\n",
       "      <td>1</td>\n",
       "      <td>79084.10</td>\n",
       "      <td>0</td>\n",
       "      <td>1</td>\n",
       "      <td>0</td>\n",
       "      <td>0</td>\n",
       "      <td>0</td>\n",
       "      <td>1</td>\n",
       "    </tr>\n",
       "  </tbody>\n",
       "</table>\n",
       "</div>"
      ],
      "text/plain": [
       "           CustomerId   Surname  CreditScore  Age  Tenure   Balance  \\\n",
       "RowNumber                                                             \n",
       "1            15634602  Hargrave          619   42       2      0.00   \n",
       "2            15647311      Hill          608   41       1  83807.86   \n",
       "3            15619304      Onio          502   42       8 159660.80   \n",
       "4            15701354      Boni          699   39       1      0.00   \n",
       "5            15737888  Mitchell          850   43       2 125510.82   \n",
       "\n",
       "           NumOfProducts  HasCrCard  IsActiveMember  EstimatedSalary  Exited  \\\n",
       "RowNumber                                                                      \n",
       "1                      1          1               1        101348.88       1   \n",
       "2                      1          0               1        112542.58       0   \n",
       "3                      3          1               0        113931.57       1   \n",
       "4                      2          0               0         93826.63       0   \n",
       "5                      1          1               1         79084.10       0   \n",
       "\n",
       "           Gender_Female  Gender_Male  Geography_France  Geography_Germany  \\\n",
       "RowNumber                                                                    \n",
       "1                      1            0                 1                  0   \n",
       "2                      1            0                 0                  0   \n",
       "3                      1            0                 1                  0   \n",
       "4                      1            0                 1                  0   \n",
       "5                      1            0                 0                  0   \n",
       "\n",
       "           Geography_Spain  \n",
       "RowNumber                   \n",
       "1                        0  \n",
       "2                        1  \n",
       "3                        0  \n",
       "4                        0  \n",
       "5                        1  "
      ]
     },
     "execution_count": 53,
     "metadata": {},
     "output_type": "execute_result"
    }
   ],
   "source": [
    "df.head()"
   ]
  },
  {
   "cell_type": "code",
   "execution_count": 54,
>>>>>>> c1bd09d305199d2a762fcc762efee491142a3f2b
   "metadata": {},
   "outputs": [
    {
     "data": {
      "text/html": [
       "<div>\n",
       "<style scoped>\n",
       "    .dataframe tbody tr th:only-of-type {\n",
       "        vertical-align: middle;\n",
       "    }\n",
       "\n",
       "    .dataframe tbody tr th {\n",
       "        vertical-align: top;\n",
       "    }\n",
       "\n",
       "    .dataframe thead th {\n",
       "        text-align: right;\n",
       "    }\n",
       "</style>\n",
       "<table border=\"1\" class=\"dataframe\">\n",
       "  <thead>\n",
       "    <tr style=\"text-align: right;\">\n",
       "      <th></th>\n",
       "      <th>CustomerId</th>\n",
       "      <th>Surname</th>\n",
       "      <th>CreditScore</th>\n",
       "      <th>Geography</th>\n",
       "      <th>Gender</th>\n",
       "      <th>Age</th>\n",
       "      <th>Tenure</th>\n",
       "      <th>Balance</th>\n",
       "      <th>NumOfProducts</th>\n",
       "      <th>HasCrCard</th>\n",
       "      <th>IsActiveMember</th>\n",
       "      <th>EstimatedSalary</th>\n",
       "      <th>Exited</th>\n",
       "    </tr>\n",
       "    <tr>\n",
       "      <th>RowNumber</th>\n",
       "      <th></th>\n",
       "      <th></th>\n",
       "      <th></th>\n",
       "      <th></th>\n",
       "      <th></th>\n",
       "      <th></th>\n",
       "      <th></th>\n",
       "      <th></th>\n",
       "      <th></th>\n",
       "      <th></th>\n",
       "      <th></th>\n",
       "      <th></th>\n",
       "      <th></th>\n",
       "    </tr>\n",
       "  </thead>\n",
       "  <tbody>\n",
       "    <tr>\n",
       "      <th>1</th>\n",
       "      <td>15634602</td>\n",
       "      <td>Hargrave</td>\n",
       "      <td>619</td>\n",
       "      <td>France</td>\n",
       "      <td>Female</td>\n",
       "      <td>42</td>\n",
       "      <td>2</td>\n",
       "      <td>0.00</td>\n",
       "      <td>1</td>\n",
       "      <td>1</td>\n",
       "      <td>1</td>\n",
       "      <td>101348.88</td>\n",
       "      <td>1</td>\n",
       "    </tr>\n",
       "    <tr>\n",
       "      <th>2</th>\n",
       "      <td>15647311</td>\n",
       "      <td>Hill</td>\n",
       "      <td>608</td>\n",
       "      <td>Spain</td>\n",
       "      <td>Female</td>\n",
       "      <td>41</td>\n",
       "      <td>1</td>\n",
       "      <td>83807.86</td>\n",
       "      <td>1</td>\n",
       "      <td>0</td>\n",
       "      <td>1</td>\n",
       "      <td>112542.58</td>\n",
       "      <td>0</td>\n",
       "    </tr>\n",
       "    <tr>\n",
       "      <th>3</th>\n",
       "      <td>15619304</td>\n",
       "      <td>Onio</td>\n",
       "      <td>502</td>\n",
       "      <td>France</td>\n",
       "      <td>Female</td>\n",
       "      <td>42</td>\n",
       "      <td>8</td>\n",
       "      <td>159660.80</td>\n",
       "      <td>3</td>\n",
       "      <td>1</td>\n",
       "      <td>0</td>\n",
       "      <td>113931.57</td>\n",
       "      <td>1</td>\n",
       "    </tr>\n",
       "    <tr>\n",
       "      <th>4</th>\n",
       "      <td>15701354</td>\n",
       "      <td>Boni</td>\n",
       "      <td>699</td>\n",
       "      <td>France</td>\n",
       "      <td>Female</td>\n",
       "      <td>39</td>\n",
       "      <td>1</td>\n",
       "      <td>0.00</td>\n",
       "      <td>2</td>\n",
       "      <td>0</td>\n",
       "      <td>0</td>\n",
       "      <td>93826.63</td>\n",
       "      <td>0</td>\n",
       "    </tr>\n",
       "    <tr>\n",
       "      <th>5</th>\n",
       "      <td>15737888</td>\n",
       "      <td>Mitchell</td>\n",
       "      <td>850</td>\n",
       "      <td>Spain</td>\n",
       "      <td>Female</td>\n",
       "      <td>43</td>\n",
       "      <td>2</td>\n",
       "      <td>125510.82</td>\n",
       "      <td>1</td>\n",
       "      <td>1</td>\n",
       "      <td>1</td>\n",
       "      <td>79084.10</td>\n",
       "      <td>0</td>\n",
       "    </tr>\n",
       "  </tbody>\n",
       "</table>\n",
       "</div>"
      ],
      "text/plain": [
       "           CustomerId   Surname  CreditScore Geography  Gender  Age  Tenure  \\\n",
       "RowNumber                                                                     \n",
       "1            15634602  Hargrave          619    France  Female   42       2   \n",
       "2            15647311      Hill          608     Spain  Female   41       1   \n",
       "3            15619304      Onio          502    France  Female   42       8   \n",
       "4            15701354      Boni          699    France  Female   39       1   \n",
       "5            15737888  Mitchell          850     Spain  Female   43       2   \n",
       "\n",
       "            Balance  NumOfProducts  HasCrCard  IsActiveMember  \\\n",
       "RowNumber                                                       \n",
       "1              0.00              1          1               1   \n",
       "2          83807.86              1          0               1   \n",
       "3         159660.80              3          1               0   \n",
       "4              0.00              2          0               0   \n",
       "5         125510.82              1          1               1   \n",
       "\n",
       "           EstimatedSalary  Exited  \n",
       "RowNumber                           \n",
       "1                101348.88       1  \n",
       "2                112542.58       0  \n",
       "3                113931.57       1  \n",
       "4                 93826.63       0  \n",
       "5                 79084.10       0  "
      ]
     },
     "execution_count": 52,
     "metadata": {},
     "output_type": "execute_result"
    }
   ],
   "source": [
    "df.head()"
   ]
  },
  {
   "cell_type": "markdown",
   "metadata": {},
   "source": [
    "# Here"
   ]
  },
  {
   "cell_type": "code",
   "execution_count": 53,
   "metadata": {},
   "outputs": [
    {
     "data": {
      "text/plain": [
       "Index(['CustomerId', 'Surname', 'CreditScore', 'Geography', 'Gender', 'Age',\n",
       "       'Tenure', 'Balance', 'NumOfProducts', 'HasCrCard', 'IsActiveMember',\n",
       "       'EstimatedSalary', 'Exited'],\n",
       "      dtype='object')"
      ]
     },
     "execution_count": 53,
     "metadata": {},
     "output_type": "execute_result"
    }
   ],
   "source": [
    "df.columns"
   ]
  },
  {
   "cell_type": "code",
   "execution_count": 54,
   "metadata": {},
   "outputs": [],
   "source": [
    "list = [\"Gender\", \"Geography\"]\n",
    "df = pd.get_dummies(df, columns=list,drop_first = False)"
   ]
  },
  {
   "cell_type": "code",
   "execution_count": 55,
   "metadata": {},
   "outputs": [
    {
     "data": {
      "text/html": [
       "<div>\n",
       "<style scoped>\n",
       "    .dataframe tbody tr th:only-of-type {\n",
       "        vertical-align: middle;\n",
       "    }\n",
       "\n",
       "    .dataframe tbody tr th {\n",
       "        vertical-align: top;\n",
       "    }\n",
       "\n",
       "    .dataframe thead th {\n",
       "        text-align: right;\n",
       "    }\n",
       "</style>\n",
       "<table border=\"1\" class=\"dataframe\">\n",
       "  <thead>\n",
       "    <tr style=\"text-align: right;\">\n",
       "      <th></th>\n",
       "      <th>CustomerId</th>\n",
       "      <th>Surname</th>\n",
       "      <th>CreditScore</th>\n",
       "      <th>Age</th>\n",
       "      <th>Tenure</th>\n",
       "      <th>Balance</th>\n",
       "      <th>NumOfProducts</th>\n",
       "      <th>HasCrCard</th>\n",
       "      <th>IsActiveMember</th>\n",
       "      <th>EstimatedSalary</th>\n",
       "      <th>Exited</th>\n",
       "      <th>Gender_Female</th>\n",
       "      <th>Gender_Male</th>\n",
       "      <th>Geography_France</th>\n",
       "      <th>Geography_Germany</th>\n",
       "      <th>Geography_Spain</th>\n",
       "    </tr>\n",
       "    <tr>\n",
       "      <th>RowNumber</th>\n",
       "      <th></th>\n",
       "      <th></th>\n",
       "      <th></th>\n",
       "      <th></th>\n",
       "      <th></th>\n",
       "      <th></th>\n",
       "      <th></th>\n",
       "      <th></th>\n",
       "      <th></th>\n",
       "      <th></th>\n",
       "      <th></th>\n",
       "      <th></th>\n",
       "      <th></th>\n",
       "      <th></th>\n",
       "      <th></th>\n",
       "      <th></th>\n",
       "    </tr>\n",
       "  </thead>\n",
       "  <tbody>\n",
       "    <tr>\n",
       "      <th>1</th>\n",
       "      <td>15634602</td>\n",
       "      <td>Hargrave</td>\n",
       "      <td>619</td>\n",
       "      <td>42</td>\n",
       "      <td>2</td>\n",
       "      <td>0.00</td>\n",
       "      <td>1</td>\n",
       "      <td>1</td>\n",
       "      <td>1</td>\n",
       "      <td>101348.88</td>\n",
       "      <td>1</td>\n",
       "      <td>1</td>\n",
       "      <td>0</td>\n",
       "      <td>1</td>\n",
       "      <td>0</td>\n",
       "      <td>0</td>\n",
       "    </tr>\n",
       "    <tr>\n",
       "      <th>2</th>\n",
       "      <td>15647311</td>\n",
       "      <td>Hill</td>\n",
       "      <td>608</td>\n",
       "      <td>41</td>\n",
       "      <td>1</td>\n",
       "      <td>83807.86</td>\n",
       "      <td>1</td>\n",
       "      <td>0</td>\n",
       "      <td>1</td>\n",
       "      <td>112542.58</td>\n",
       "      <td>0</td>\n",
       "      <td>1</td>\n",
       "      <td>0</td>\n",
       "      <td>0</td>\n",
       "      <td>0</td>\n",
       "      <td>1</td>\n",
       "    </tr>\n",
       "    <tr>\n",
       "      <th>3</th>\n",
       "      <td>15619304</td>\n",
       "      <td>Onio</td>\n",
       "      <td>502</td>\n",
       "      <td>42</td>\n",
       "      <td>8</td>\n",
       "      <td>159660.80</td>\n",
       "      <td>3</td>\n",
       "      <td>1</td>\n",
       "      <td>0</td>\n",
       "      <td>113931.57</td>\n",
       "      <td>1</td>\n",
       "      <td>1</td>\n",
       "      <td>0</td>\n",
       "      <td>1</td>\n",
       "      <td>0</td>\n",
       "      <td>0</td>\n",
       "    </tr>\n",
       "    <tr>\n",
       "      <th>4</th>\n",
       "      <td>15701354</td>\n",
       "      <td>Boni</td>\n",
       "      <td>699</td>\n",
       "      <td>39</td>\n",
       "      <td>1</td>\n",
       "      <td>0.00</td>\n",
       "      <td>2</td>\n",
       "      <td>0</td>\n",
       "      <td>0</td>\n",
       "      <td>93826.63</td>\n",
       "      <td>0</td>\n",
       "      <td>1</td>\n",
       "      <td>0</td>\n",
       "      <td>1</td>\n",
       "      <td>0</td>\n",
       "      <td>0</td>\n",
       "    </tr>\n",
       "    <tr>\n",
       "      <th>5</th>\n",
       "      <td>15737888</td>\n",
       "      <td>Mitchell</td>\n",
       "      <td>850</td>\n",
       "      <td>43</td>\n",
       "      <td>2</td>\n",
       "      <td>125510.82</td>\n",
       "      <td>1</td>\n",
       "      <td>1</td>\n",
       "      <td>1</td>\n",
       "      <td>79084.10</td>\n",
       "      <td>0</td>\n",
       "      <td>1</td>\n",
       "      <td>0</td>\n",
       "      <td>0</td>\n",
       "      <td>0</td>\n",
       "      <td>1</td>\n",
       "    </tr>\n",
       "  </tbody>\n",
       "</table>\n",
       "</div>"
      ],
      "text/plain": [
       "           CustomerId   Surname  CreditScore  Age  Tenure   Balance  \\\n",
       "RowNumber                                                             \n",
       "1            15634602  Hargrave          619   42       2      0.00   \n",
       "2            15647311      Hill          608   41       1  83807.86   \n",
       "3            15619304      Onio          502   42       8 159660.80   \n",
       "4            15701354      Boni          699   39       1      0.00   \n",
       "5            15737888  Mitchell          850   43       2 125510.82   \n",
       "\n",
       "           NumOfProducts  HasCrCard  IsActiveMember  EstimatedSalary  Exited  \\\n",
       "RowNumber                                                                      \n",
       "1                      1          1               1        101348.88       1   \n",
       "2                      1          0               1        112542.58       0   \n",
       "3                      3          1               0        113931.57       1   \n",
       "4                      2          0               0         93826.63       0   \n",
       "5                      1          1               1         79084.10       0   \n",
       "\n",
       "           Gender_Female  Gender_Male  Geography_France  Geography_Germany  \\\n",
       "RowNumber                                                                    \n",
       "1                      1            0                 1                  0   \n",
       "2                      1            0                 0                  0   \n",
       "3                      1            0                 1                  0   \n",
       "4                      1            0                 1                  0   \n",
       "5                      1            0                 0                  0   \n",
       "\n",
       "           Geography_Spain  \n",
       "RowNumber                   \n",
       "1                        0  \n",
       "2                        1  \n",
       "3                        0  \n",
       "4                        0  \n",
       "5                        1  "
      ]
     },
     "execution_count": 55,
     "metadata": {},
     "output_type": "execute_result"
    }
   ],
   "source": [
    "df.head()"
   ]
  },
  {
   "cell_type": "code",
   "execution_count": 56,
   "metadata": {},
   "outputs": [],
   "source": [
    "df = df.drop([\"CustomerId\",\"Surname\"], axis = 1)"
   ]
  },
  {
   "cell_type": "code",
   "execution_count": 57,
   "metadata": {},
   "outputs": [],
   "source": [
    "X = df.drop(\"Exited\",axis=1)\n",
    "y = df[\"Exited\"]\n",
    "# Train-Test Separation\n",
    "X_train, X_test, y_train, y_test = train_test_split(X, y, test_size=0.20, random_state=12345)\n"
   ]
  },
  {
   "cell_type": "code",
   "execution_count": 58,
   "metadata": {},
   "outputs": [
    {
     "name": "stdout",
     "output_type": "stream",
     "text": [
      "           CreditScore  Age  Tenure   Balance  NumOfProducts  HasCrCard  \\\n",
      "RowNumber                                                                 \n",
      "7868               640   46       3      0.00              1          1   \n",
      "1403               757   29       8 130306.49              1          1   \n",
      "8607               807   42       5      0.00              2          1   \n",
      "8886               668   45       4 102486.21              2          1   \n",
      "6495               699   28       7      0.00              2          1   \n",
      "\n",
      "           IsActiveMember  EstimatedSalary  Gender_Female  Gender_Male  \\\n",
      "RowNumber                                                                \n",
      "7868                    1        156260.08              1            0   \n",
      "1403                    0         77469.38              0            1   \n",
      "8607                    1         74900.90              0            1   \n",
      "8886                    1        158379.25              0            1   \n",
      "6495                    1         22684.78              0            1   \n",
      "\n",
      "           Geography_France  Geography_Germany  Geography_Spain  \n",
      "RowNumber                                                        \n",
      "7868                      0                  0                1  \n",
      "1403                      1                  0                0  \n",
      "8607                      0                  0                1  \n",
      "8886                      0                  0                1  \n",
      "6495                      1                  0                0  \n"
     ]
    }
   ],
   "source": [
    "print(X_test.head())"
   ]
  },
  {
   "cell_type": "code",
<<<<<<< HEAD
   "execution_count": 59,
=======
   "execution_count": 55,
>>>>>>> c1bd09d305199d2a762fcc762efee491142a3f2b
   "metadata": {},
   "outputs": [
    {
     "name": "stdout",
     "output_type": "stream",
     "text": [
      "LR: 0.789800 (0.006645)\n",
      "KNN: 0.765000 (0.009088)\n",
      "CART: 0.791200 (0.012488)\n",
      "RF: 0.859500 (0.007103)\n",
      "GB: 0.865100 (0.009628)\n",
      "LightGBM: 0.861300 (0.008075)\n"
     ]
    }
   ],
   "source": [
    "# Models for Classification\n",
    "models = [('LR', LogisticRegression(random_state=123456)),\n",
    "          ('KNN', KNeighborsClassifier()),\n",
    "          ('CART', DecisionTreeClassifier(random_state=123456)),\n",
    "          ('RF', RandomForestClassifier(random_state=123456)),\n",
    "          ('GB', GradientBoostingClassifier(random_state = 12345)),\n",
    "          (\"LightGBM\", LGBMClassifier(random_state=123456))]\n",
    "results = []\n",
    "names = []\n",
    "for name, model in models:\n",
    "    kfold = KFold(n_splits=10)\n",
    "    cv_results = cross_val_score(model, X, y, cv=kfold)\n",
    "    results.append(cv_results)\n",
    "    names.append(name)\n",
    "    msg = \"%s: %f (%f)\" % (name, cv_results.mean(), cv_results.std())\n",
    "    print(msg)"
   ]
  },
  {
   "cell_type": "code",
<<<<<<< HEAD
   "execution_count": 60,
=======
   "execution_count": 56,
>>>>>>> c1bd09d305199d2a762fcc762efee491142a3f2b
   "metadata": {},
   "outputs": [
    {
     "data": {
      "text/plain": [
       "array([[1516,  231],\n",
       "       [  57,  196]], dtype=int64)"
      ]
     },
<<<<<<< HEAD
     "execution_count": 60,
=======
     "execution_count": 56,
>>>>>>> c1bd09d305199d2a762fcc762efee491142a3f2b
     "metadata": {},
     "output_type": "execute_result"
    }
   ],
   "source": [
    "model_GB = GradientBoostingClassifier(random_state=12345)\n",
    "model_GB.fit(X_train, y_train)\n",
    "y_pred = model_GB.predict(X_test)\n",
    "conf_mat = confusion_matrix(y_pred,y_test)\n",
    "conf_mat"
   ]
  },
  {
   "cell_type": "code",
<<<<<<< HEAD
   "execution_count": 61,
=======
   "execution_count": 57,
>>>>>>> c1bd09d305199d2a762fcc762efee491142a3f2b
   "metadata": {},
   "outputs": [
    {
     "name": "stdout",
     "output_type": "stream",
     "text": [
      "True Positive :  196\n",
      "True Negative :  1516\n",
      "False Positive:  231\n",
      "False Negative:  57\n"
     ]
    }
   ],
   "source": [
    "print(\"True Positive : \", conf_mat[1, 1])\n",
    "print(\"True Negative : \", conf_mat[0, 0])\n",
    "print(\"False Positive: \", conf_mat[0, 1])\n",
    "print(\"False Negative: \", conf_mat[1, 0])"
   ]
  },
  {
   "cell_type": "code",
<<<<<<< HEAD
   "execution_count": 62,
=======
   "execution_count": 58,
>>>>>>> c1bd09d305199d2a762fcc762efee491142a3f2b
   "metadata": {},
   "outputs": [
    {
     "name": "stdout",
     "output_type": "stream",
     "text": [
      "              precision    recall  f1-score   support\n",
      "\n",
      "           0       0.96      0.87      0.91      1747\n",
      "           1       0.46      0.77      0.58       253\n",
      "\n",
      "    accuracy                           0.86      2000\n",
      "   macro avg       0.71      0.82      0.74      2000\n",
      "weighted avg       0.90      0.86      0.87      2000\n",
      "\n"
     ]
    }
   ],
   "source": [
    "print(classification_report(model_GB.predict(X_test),y_test))"
   ]
  },
  {
   "cell_type": "code",
<<<<<<< HEAD
   "execution_count": 63,
=======
   "execution_count": 59,
>>>>>>> c1bd09d305199d2a762fcc762efee491142a3f2b
   "metadata": {},
   "outputs": [],
   "source": [
    "def generate_auc_roc_curve(clf, X_test):\n",
    "    y_pred_proba = clf.predict_proba(X_test)[:, 1]\n",
    "    fpr, tpr, thresholds = roc_curve(y_test,  y_pred_proba)\n",
    "    auc = roc_auc_score(y_test, y_pred_proba)\n",
    "    plt.plot(fpr,tpr,label=\"AUC ROC Curve with Area Under the curve =\"+str(auc))\n",
    "    plt.legend(loc=4)\n",
    "    plt.show()\n",
    "    pass"
   ]
  },
  {
   "cell_type": "code",
<<<<<<< HEAD
   "execution_count": 64,
=======
   "execution_count": 60,
>>>>>>> c1bd09d305199d2a762fcc762efee491142a3f2b
   "metadata": {},
   "outputs": [
    {
     "data": {
<<<<<<< HEAD
      "image/png": "iVBORw0KGgoAAAANSUhEUgAAAYYAAAD4CAYAAADo30HgAAAAOXRFWHRTb2Z0d2FyZQBNYXRwbG90bGliIHZlcnNpb24zLjMuNCwgaHR0cHM6Ly9tYXRwbG90bGliLm9yZy8QVMy6AAAACXBIWXMAAAsTAAALEwEAmpwYAAAw50lEQVR4nO3deXgUZbr38e+TBRJIIOxgQtgSloQkGCKbAgFkWGRABxQRBbfBmSNux8Fx9Iy4vm4cZ46o46ggDioouKEgYUA2EYWwQ8ImSwhLIAkJWcjS6fv9o5OaNAkhQNKd5f5cV66ru+rp6ruqO/3rep7qKiMiKKWUUiU83F2AUkqpmkWDQSmllBMNBqWUUk40GJRSSjnRYFBKKeXEy90FVIWWLVtKx44d3V2GUkrVGlu2bEkVkVblzasTwdCxY0fi4+PdXYZSStUaxpijF5unXUlKKaWcaDAopZRyosGglFLKiQaDUkopJxoMSimlnLg0GIwxc40xp40xuy8y3xhj3jTGHDTG7DTGRLuyPqWUUq7fY5gHjKxg/iggtPhvGvAPF9SklFKqFJf+jkFE1hljOlbQZBzwL3GcC/xnY0yAMaadiJx0TYVKKVV5+bYiiuyVu3TBmax8vth6HKrwUgfGGB4b3rXKlleipv3ALRA4Vup+cvG0MsFgjJmGY6+C4OBglxSnlKr97Hbh5Lm8K378l1uSOZ2Vz+HUHH48mHpFyzDmip/eiZdH/QiGShOR94D3AGJiYvRqQ0rVQSLCr2eyySu0X7TNkbQcvt1xAm/PyvWMf7ezajogmvh4YQxM6deBawJ8K/WYwGa+jIm8pkqevzrVtGA4DrQvdT+oeJpSqh4QEXYmZ/LVtuMcOJ3FtqQMcguKKvXYwABfGnpfOhw6tWyMp4dh2sDOV1SjMTC0e2ta+DW8osfXBjUtGJYA040xC4G+QKaOLyhVe+UVFvHUl7tIPJWFRyW6T46l53Iuz2bdjw4OICvPxvShIfh6e170cW2a+BDVPqAKKlbg4mAwxiwAYoGWxphkYCbgDSAi7wLLgNHAQSAXuMeV9SmlKicpLZe1+08DsCIhhb2nsmhQTlfO8Yzz1u0be7S+5HLbNfXhfGERd/XrQO8OzWnlX3e/lddkrj4qadIl5gvwoIvKUarWExEKi6p2iC0rr5A/f7GLVXtT8Pb0wLucr/o55XTvTOgdVO7yPAz8dUwY/j7eVVqnqj41rStJKVWBvMIizp0vZN2BVPacyOTDDUeq9fnGRwfRuEH5XTihbfwY1qMNAP4+XjT0unhXj6pdNBiUqoHyCos4mpbLiczzLN6STANPD0SEr7efcGrn4+1Ba38fJl7X/iJLujIBjbyZdF0wHpUZGFB1jgaDUm6071QWM5fsxueCgdU1+8443W/q601TX286tmjEwNBWdG/nT7/OLejSys+V5ap6QoNBqWq0MzmDE8UDsHmFdt5cdQB/Hy8whpx8GwdPZ1tto4KaWrcjg5rS1NebSX2CaenXkD6dmru8dlV/aTAoVQ0e/HQr25MynI7KKeHX0IveHZoR4OtNS78G/C46iPHRQXhqt42qITQYlKpie0+dY2nxr2tvimzHyPC2hLR2dPk09PKgU8vGmKo6J4JS1UCDQakrkHw2l/kbj3LhgaLZ+TY+/SUJgNcnRHJrTNUOCivlChoMSlXCGyv2cTLTceK1lYkpnM0ttOaV/kWuze44p8+913fSUFC1lgaDUqXY7cLuE5kU2Bwf8P9OTGFRfDLpOQUAXNPUhwZeHjRq4MlLt/Tk5l6B2i2k6hwNBlXv2e3CxkNp/LD3NHN+PFxum/bNfVn0wADaNvVxcXVKuZ4Gg6qXViWmkJZTgIjw5y92Oc3r1T6AR4aF4uXp2BPo2safNk00EFT9ocGg6rztxzK4/6N4CovseHkY0oq7hUrz9DB8en9fOrfy0xO3qXpPg0HVWefyChn82mqngeI7+zmu9ldkh0l92tO8cQO8PDy0i0ipUjQYVJ0iIryyfC/nzheyMvE0Z3MLuaapD7NujaJ/lxY6UKxUJWgwqFpNRHh//SG2Hs0AHEcRlVycvaVfA3y9Pfnqwet1jECpy6DBoGqlExnn+enXNP60aIc1rVsbf7q0akxuQRFLHx5IU189/79SV0KDQdV4RXZh3k9HmLP+EH4+XhgM+1KyrPmNG3iy8vHBtGtauQuyK6UqpsGgaqT1B85wICWblKw8/rn2kDU9wq8pgQG+dGzZiG5tmzA2qh0hrf3dWKlSdY8Gg3K7hBPn+H73SQxwvrCI99eX/ZFZ7w7N+PvEXrRv3sj1BSpVz2gwKLf49Uw2c348zPakDBJOngPAGJDis9L17tCM/7mpB51b+uHtZWjUQN+qSrmK/rcpl8nOt7F23xmW7DhO3J4UAPwbOt6C797Zm5E927qzPKVUMQ0GVe12JWcyc8lutiZlWNPaNfUhKiiAd+/q7b7ClFLl0mBQVSozt5AfD6ZiF2HpzpPsOZnJsfT/XMXspsh2TBvYmaj2Ae4rUilVIQ0GVaX6vbyK84VFTtMGhrbk1pj2jIloh4devlKpGk+DQV211ftOsys5k8ST56xQWPnfgwBo19SXxg31baZUbaL/seqK5BUWkXm+kP/6ZCtbjp51mvfZtH762wKlajENBnXZEk+eY9T/rXeatvzRgYS29seAdhcpVctpMKhKOZKaw8nMPFYmplhXORvavTU39mjD9SEt6NCisZsrVEpVFQ0GVa6cfBv3zNtMfmERGMOOYxlO82+LCeK1CVHuKU4pVa00GJST+z/azL6ULKdDTAd3bcX1IS0YFNqKyKAAurRuTGt/PY21UnWVBoOybEs6y8rE0wDc3OsafBt48cK4cLw8PdxcmVLKlVweDMaYkcD/AZ7AByLyygXzg4GPgIDiNk+KyDJX11mfZJ4v5KWlCXwenwzAPyZHMyqinZurUkq5i0uDwRjjCbwNDAeSgc3GmCUiklCq2f8An4vIP4wxYcAyoKMr66xP5m04zLPf/mfzPzw0RENBqXrO1XsMfYCDInIIwBizEBgHlA4GAZoU324KnHBphfVEdr6NJxbvYNmuUwBcGxzAl38coNdEVkq5PBgCgWOl7icDfS9o8yywwhjzENAYuLG8BRljpgHTAIKDg6u80LrsRMZ5nvt2j3WG0zlTYxjWo42bq1JK1RQ1cfB5EjBPRP7XGNMfmG+M6Ski9tKNROQ94D2AmJgYcUOdtdL+lCx+87d11v31TwzRi98opZy4OhiOA+1L3Q8qnlbafcBIABHZaIzxAVoCp11SYR0TfySdP3y8FXvxFXDScwoAuOXaQGaM6MY1AXqdZKWUM1cHw2Yg1BjTCUcg3A7ccUGbJGAYMM8Y0wPwAc64tMpaLq+wiI9+OsLL3++1po2PDqJRA08AmjVuwKPDQvXUFUqpcrk0GETEZoyZDsThOBR1rojsMcY8D8SLyBLgceB9Y8xjOAai7xYR7SqqpPMFRfT9fys5l2cDYEi3VtzeJ5gR4Xp1NKVU5bh8jKH4NwnLLpj2TKnbCcD1rq6rtrPbhYST53h79UHO5dno3tafuXdfp11FSqnLVhMHn9UVGP/uT2wrdenMj+7tQ5smetoKpdTl02CoA7YcTbdCYe7dMfQObk7TRt7uLUopVWtpMNRyIsL9H8UD8O6dvRnaXX+PoJS6OhoMtZCIkFtQRE6BjT4vrbKmj+ypA8xKqaunwVDLZOfbGPTaauv3CADtm/vy9X/peL1SqmpoMNQyg0uFwlOju9PA04PxvYPw99ExBaVU1dBgqEVsRXbScgoIbt6Ibx+6gaa+GgZKqaqnV2CpRa5/9QfAcREdDQWlVHXRPYYaym4XvtlxnLTsAmat2EeRXSgscvwA/L+GhLi5OqVUXabBUEO9FrePd9f+at1v19SHvp2aM2Nkd3y8Pd1YmVKqrtNgqIG2H8uwQmHB7/sRdk0T7TpSSrmMBkMNkpadz6wV+1iwyXEto3cmR9O/Sws3V6WUqm908LkGWbApyQqFP8Z2YbRee1kp5Qa6x1CDvLv2EAC7nxuBX0N9aZRS7qGfPjWArcjO5A9+ITvfcQ0FDQWllDtpV1INsCM5k18OpwOw6alhbq5GKVXf6VdTN0rPKcAuwl+/3g3AJ/f3pbVeQ0Ep5WYaDC52Lq+QWXH7+GzzMfJtdqd5MR2buakqpZT6Dw0GF3ti0U6W7zkFQEAjbx4f3hUPD8Ponu1o6KU/XFNKuZ8Ggwv9sDfFCoVtfx1Os8YN3FyRUkqVpYPPLvTpL47fKLx7Z7SGglKqxtJgcJEVe06xMjGFxg08GdlTf7imlKq5NBhcoMguTJu/BYChPfSazEqpmk2DwQVe+T4RgDv7BTN70rVurkYppSqmwVDNlu48yfvrDwPw+PBubq5GKaUuTYOhmk1fsBWAf97VWweclVK1ggZDNcrJtyECXdv4MSK8rbvLUUqpStFgqCZr958hfGYcAH076TUVlFK1hwZDNTiRcZ6pczcBMLR7a/46JszNFSmlVOXpL5+rwdi3NgBwa+8gXr81ys3VKKXU5XHpHoMxZqQxZp8x5qAx5smLtLnNGJNgjNljjPnUlfVVhWPpuaRm5+Pf0EtDQSlVK7lsj8EY4wm8DQwHkoHNxpglIpJQqk0o8BfgehE5a4xp7ar6qkpJF9L9Azu7uRKllLoyrtxj6AMcFJFDIlIALATGXdDm98DbInIWQEROu7C+q5adb+NQag4ADw7p4uZqlFLqyrgyGAKBY6XuJxdPK60r0NUYs8EY87MxZuTFFmaMmWaMiTfGxJ85c6Yayr08IkKv51YAMG1QZ7w8dVxfKVU71bRPLy8gFIgFJgHvG2MCymsoIu+JSIyIxLRq1cp1FV5E8tnz2OwCwB8G696CUqr2cmUwHAfal7ofVDyttGRgiYgUishhYD+OoKjxXvjOMVQye9K1NNdfOCulajFXBsNmINQY08kY0wC4HVhyQZuvcewtYIxpiaNr6ZALa7widruwIiEFgCHda914uVJKOXFZMIiIDZgOxAGJwOcisscY87wxZmxxszggzRiTAKwGZohImqtqvFJbk84CEB0cgF9D/WmIUqp2c+mnmIgsA5ZdMO2ZUrcF+O/iv1qhyC5MeHcjAA8NqxW9XkopVaGaNvhc65RcawFgSDftRlJK1X4aDFdp6c6TAGx/ZribK1FKqaqhwXCVCooELw9DQCM9EkkpVTdoMFyFzNxCUrPzGapHIiml6hANhqvw/nrHkbTtmzdycyVKKVV1NBiu0L5TWby1+iAAjw3v6uZqlFKq6mgwXKF/rvsVgJsi2ulvF5RSdYoGwxX6cqvjbB6zJ13r5kqUUqpqaTBcgX2nsqzbHh7GjZUopVTV02C4AiP+vg6A/7u9l3sLUUqpaqDBcJkSTpwDoGsbP8b1uvByEkopVftpMFyGIrvwP1/vAmDaIL3mglKqbtJguAxzfjzE1qQMAMZEtnNvMUopVU00GC7DWz84frewbsYQfLw93VyNUkpVDw2Gy+BZfARScAv9pbNSqu7SYLgMdoHx0UHuLkMppaqVBkMlnS8oIvN8Ifm2IneXopRS1UqDoZK2H8sAoE0TH/cWopRS1UyDoZIKi+wADOuhp9hWStVtGgyXqaGXbjKlVN2mn3JKKaWcaDBU0hOLdxbf0pPmKaXqNg2GSsg8X8ipc3kARAQ2dXM1SilVvTQYKuH1uL0APD8unAY6xqCUquP0U+4SktJyOZCSDcCtvdu7uRqllKp+ek3KSxj0+moAwq9pgm8DPT+SUqru0z2GCtjtAkDbJj4smNbPzdUopZRraDBUYOmukwCMCG9DEx9vN1ejlFKuocFQgeW7TwFwV/+O7i1EKaVcSIOhAntOZAIQ0trPzZUopZTr6OBzBVr7+1BYJO4uQymlXMrlewzGmJHGmH3GmIPGmCcraDfeGCPGmBhX1udcBLRv7uu2p1dKKXdwaTAYYzyBt4FRQBgwyRgTVk47f+AR4BdX1leaiLDpcDp2u7sqUEop93D1HkMf4KCIHBKRAmAhMK6cdi8ArwJ5riyutOSz5wHIzre5qwSllHILVwdDIHCs1P3k4mkWY0w00F5Ella0IGPMNGNMvDEm/syZM1Ve6OksRyb9flCnKl+2UkrVZDXqqCRjjAfwBvD4pdqKyHsiEiMiMa1ataryWqbO3QxAs0YNqnzZSilVk7k6GI4DpU84FFQ8rYQ/0BNYY4w5AvQDlrh6APpfG49YXUix3fSKbUqp+sXVwbAZCDXGdDLGNABuB5aUzBSRTBFpKSIdRaQj8DMwVkTiXVnkuv2pAHz6+76ufFqllKoRXBoMImIDpgNxQCLwuYjsMcY8b4wZ68paKrI/JYse7ZowoEtLd5eilFIu5/IfuInIMmDZBdOeuUjbWFfUVNqhM9kkpefi76O//VNK1U81avC5Jpj43s8APDW6h5srUUop99BguICPt2OT3No7yM2VKKWUe2gwXMDLw4OxUdfg5ambRilVP+mnXyl2u3A4NQc9bZ5Sqj7TYCjldFY+8J8rtymlVH2kwVDKzCW7ARjctep/Sa2UUrWFBkMpfg0dl++87br2l2iplFJ1lwZDKfFH07mmqY+7y1BKKbfSX3GVcjIzD+PuIpRSys10j6HYwdPZFNjsxHRs5u5SlFLKrTQYiuUUn031thgdX1BK1W8aDMUWbk4CoHED7V1TStVvGgzF4o+cBSCqfYB7C1FKKTfTYCh24HQ2fTo2p5V/Q3eXopRSbqXBUErrJhoKSimlwVDMy8PQoUUjd5ehlFJup8EAZOUVYrMLoqdIUkopDQaAExl5ADT08nRzJUop5X4aDMDZ3AIAQtv4ubkSpZRyPw0GICktFwDfBrrHoJRSGgzARxuPANClpe4xKKWUBgOO3zCAHq6qlFKgwQBAgc3OfTd0wsdbu5KUUqreB8OJjPMAZOQWurkSpZSqGep9MBws7ka6PqSFmytRSqmaod4Hw48HUwHo0KKxmytRSqmaod4Hg6eHoYGnB7076AV6lFIKNBiUUkpdQINBKaWUk3ofDEdScygosru7DKWUqjFcGgzGmJHGmH3GmIPGmCfLmf/fxpgEY8xOY8wqY0yH6q4pLbugup9CKaVqFZcFgzHGE3gbGAWEAZOMMWEXNNsGxIhIJLAYeK2662ro7UFEYNPqfhqllKo1XLnH0Ac4KCKHRKQAWAiMK91ARFaLSG7x3Z+BIFcU5uVpXPE0SilVK7gyGAKBY6XuJxdPu5j7gO8vNtMYM80YE2+MiT9z5kwVlaiUUqpGDj4bY+4EYoDXL9ZGRN4TkRgRiWnVqpXrilNKqTrOy4XPdRxoX+p+UPE0J8aYG4GngcEiku+i2pRSShVz5R7DZiDUGNPJGNMAuB1YUrqBMeZa4J/AWBE57cLalFJKFXNZMIiIDZgOxAGJwOcisscY87wxZmxxs9cBP2CRMWa7MWbJRRanlFKqmriyKwkRWQYsu2DaM6Vu3+jKepRSSpVVIweflVJKuY8Gg1JKKScaDEoppZxoMCillHKiwaCUUsqJBoNSSiknGgxKKaWcaDAopZRyosGglFLKSb0PhvUHUrGLu6tQSqmao94HQ1Nfb+yaDEopZan3weDlYYhqr5f2VEqpEvU6GOx2IS2nwN1lKKVUjVKvgyElKw+AApvdzZUopVTNUa+DoUR0cDN3l6CUUjWGBoNSSiknGgxKKaWcaDAopZRyosGglFLKiQaDUkopJxoMSimlnBiRi58OYsuWLa29vLw+AHpSg0MkLS2tQ7t27S77cbYiO6fO5dOskTeNG3pVQ2VKKeVePj4+BAUF4e3t7TTdGLNFRGLKe0yFn4ZeXl4ftG3btkerVq3Oenh41NgTCiUkJHTo0aPHZT8u83whkpZDYIAvLfwaVkNlSinlPiJCWloaycnJdOrUqdKPu9ReQM9WrVqdq8mhcDVyC2wANGrg6eZKlFKq6hljaNGiBXl5eZf1uEsFg0ddDQUAD2MA8PHWYFBK1U2m+HPuctTYcQOllFLuUSuCYf78+QHGmN7btm3zKZn23Xff+Q8ZMiSkdLu7776bxYsXA1BYWMiTTz5JaGgo0dHR9O/fn++//95pubYiO/fdOobu3bsTFRXFddddx/bt2635mZmZTJkyhZCQELp06cKUKVPIzMy05u/fv5/Ro0dbz3HbbbeRkpJSpv7KtnOXd999l3/9618AzJs3jxMnTljzOnbsSGpqaqWW8+ijjxIYGIjdXj0nJVyzZg1jxoxxmlb6Na+sy1mn8lzNNqpt0tPTGT58OKGhoQwfPpyzZ8+W2+6JJ54gPDycHj168PDDDyMiZGVl0atXL+uvZcuWPProowA89thj1vSuXbsSEBBgLeujjz4iNDSU0NBQPvroI2v6008/Tfv27fHz83N67qSkJIYMGcK1115LZGQky5Yts+bt3LmT/v37Ex4eTkREhNWlEhsbS7du3awaTp8+DcDRo0cZNmwYkZGRxMbGkpyc7PRc586dIygoiOnTp1vTRo4cSVRUFOHh4fzhD3+gqKgIgBkzZtC9e3ciIyO55ZZbyMjIAKCgoIB77rmHiIgIoqKiWLNmjbWsgoICpk2bRteuXenevTtffPGFNe/zzz8nLCyM8PBw7rjjDmu6p6entR5jx44t9/W5bCJy0b/t27cfEZF4d/+NHj06PTo6OuvRRx89UTLt22+/3RcbG5shIvF79uwREZGpU6fKokWLRETkz3/+s0yZMkXy8vJEROTUqVPy2WefSWkHT2dJTL/rZdOmTSIiMnfuXLnxxhut+ePHj5eZM2da95955hmZMGGCiIicP39eQkJCZMmSJdb81atXy65du5yeo7LtKmKz2Srd9moNHjxYNm/ebN3v0KGDnDlz5pKPKyoqkuDgYOnbt6/88MMP5bYpLCy8qtpWr14tN910k9O00q95ZVV2nUpcuP2vdBtVtavdnpUxY8YMefnll0VE5OWXX5YnnniiTJsNGzbIgAEDxGazic1mk379+snq1avLtIuOjpa1a9eWmf7mm2/KPffcIyIiaWlp0qlTJ0lLS5P09HTp1KmTpKeni4jIxo0b5cSJE9K4cWOnx//+97+Xd955R0RE9uzZIx06dBARx/aJiIiQ7du3i4hIamqq9Vpe+BqWmDBhgsybN09ERFatWiV33nmn0/yHH35YJk2aJA8++KA1LTMzU0RE7Ha7/O53v5MFCxaIiEhcXJz1Gj3xxBPWtnvrrbfk7rvvFhGRlJQUiY6OlqKiIhFxfMY8/fTTIuL4nyp5X+3fv1969eplbYuUlBTr+S/cHuVJSEgoMw2Il4t89lf6GM0Zi3e0338qq1HVxJFD17b+ua9PiDpWUZvMzEyPzZs3+61cuXLf2LFjQ//2t7+dqKg9QG5uLu+//z6HDx+mYUPH0UZt2rThtttuc2rnaQym+A+gf//+vP766wAcPHiQLVu28Nlnn1ntn3nmGUJCQvj1119Zu3Yt/fv357e//a01PzY2tkwtn3766UXbzZs3j/j4eN566y0AxowZw5/+9CdiY2Px8/PjgQceYOXKldx6663s2LGDRYsWAY5vzrNmzeK7775jxYoVzJw5k/z8fLp06cKHH37o9I3q9OnTjBo1ii1btrBjxw569erF0aNHCQ4OpkuXLuzatYvXXnsNPz8/OnbsSHx8PJMnT8bX15eNGzcCMHv2bL799lsKCwtZtGgR3bt3L7Oea9asITw8nIkTJ7JgwQKGDBkCwLPPPsuvv/7KoUOHCA4O5s033+QPf/gDSUlJAPz973/n+uuvZ9OmTTzyyCPk5eXh6+vLhx9+SLdu3S71Ujvp2LEjU6dOLVNrWloakyZN4vjx4/Tv3x8pdYj2xx9/zJtvvklBQQF9+/blnXfewdPT02n7v/3229xwww0ALF68uNLbKCcnh4ceeojdu3dTWFjIs88+y7hx48rU/eqrr/Lxxx/j4eHBqFGjeOWVV4iNjWXWrFnExMSQmppKTEwMR44cYd68eXz55ZdkZ2dTVFREu3btuOuuu7jpppsAxx7UmDFjuOWWW3jyySdZs2YN+fn5PPjggzzwwAOXtT0BvvnmG+sb7dSpU4mNjeXVV191amOMIS8vj4KCAkSEwsJC2rRp49Rm//79nD59moEDB5Z5jgULFvDcc88BEBcXx/Dhw2nevDkAw4cPZ/ny5UyaNIl+/fqVW6MxhnPnzgGOvfxrrrkGgBUrVhAZGUlUVBQALVq0uOT6JiQk8MYbbwAwZMgQbr75Zmveli1bSElJYeTIkcTHx1vTmzRpAoDNZqOgoMD6PPnNb35jtenXr5+1Z5uQkMDQoUMBaN26NQEBAcTHx9OnTx/mzp3L3r17AfDw8KBly5YAvP/++zz44IM0a9bMelx1qvFdSZ9++mlAbGxsZmRkZH6zZs1s69evv2Q4HTx4kODgYOsFq0jpYZnly5dbb4SEhAR69eqFp+d/BqZLdtn27NnD7t276d279yWXX9l2F8rJyaFv377s2LGDJ598kl9++YWcnBwAPvvsM26//XZSU1N58cUXWblyJVu3biUmJsZ6U5do3bo1eXl5nDt3jvXr1xMTE8P69es5evQorVu3plGj/2zOCRMmEBMTwyeffML27dvx9fUFoGXLlmzdupU//vGPzJo1q9x6FyxYwKRJk7jllltYunQphYWF1ryEhARWrlzJggULeOSRR3jsscfYvHkzX3zxBffffz8A3bt3Z/369Wzbto3nn3+ep5566rK32cVqfe6557jhhhvYs2cPt9xyixVKiYmJfPbZZ2zYsIHt27fj6enJJ598Umb7l4TC5W6jl156iaFDh7Jp0yZWr17NjBkzrNewxPfff88333zDL7/8wo4dO3jiiScuuY5bt25l8eLFrF27lokTJ/L5558Djm6IVatWcdNNNzFnzhyaNm3K5s2b2bx5s/VF6UIDBw506u4p+Vu5ciUAKSkplPxGqG3btuV2gfbv358hQ4bQrl072rVrx4gRI7jw8PGFCxcyceLEMgOhR48e5fDhw9YH5fHjx2nfvr01PygoiOPHj1e4PZ599lk+/vhjgoKCGD16NLNnzwYcYWSMYcSIEURHR/Paa685Pe6ee+6hV69evPDCC9aXhaioKL788ksAvvrqK7KyskhLS8Nut/P4449f9P0/YsQIWrdujb+/PxMmTCgzf+7cuYwaNcp6jiVLlmCz2Th8+DBbtmzh2LFjVlfTX//6V6Kjo7n11lut7b1//37279/P9ddfT79+/Vi+fLm17Ly8PGJiYujXrx9ff/11hduqsiq9x3Cpb/bV5fPPP2/+8MMPnwYYP358+vz585sPHDgw1xhT7tFSVzICP3nyZAoKCsjOznYaY3AnT09Pxo8fD4CXlxcjR47k22+/ZcKECSxdupTXXnuNtWvXkpCQwPXXXw84Phj69+9fZlkDBgxgw4YNrFu3jqeeeorly5cjIuV+eyvP7373OwB69+5t/dOUVlBQwLJly3jjjTfw9/enb9++xMXFWeMBY8eOtT5AV65cSUJCgvXYc+fOkZ2dTWZmJlOnTuXAgQMYY5yCpcTFXtvS08urdd26ddbtm266yfrWtWrVKrZs2cJ1110HwPnz561vYqW3f2WU97wrVqxgyZIl1odJXl4eSUlJTh+aK1eu5J577rECuuSbckVKf6MeNWoUjzzyCPn5+SxfvpxBgwbh6+vLihUr2Llzp/UtNTMzkwMHDpQ5ln39+vWVXsfSe9elHTx4kMTERKs/fvjw4axfv97p/bVw4ULmz59f5rELFy5kwoQJTl/ALteCBQu4++67efzxx9m4cSN33XUXu3fvxmaz8eOPP7J582YaNWrEsGHD6N27N8OGDeOTTz4hMDCQrKwsxo8fz/z585kyZQqzZs1i+vTpzJs3j0GDBhEYGIinpyfvvPMOo0ePJigoqNwa4uLiyMvLY/Lkyfzwww8MHz7cmvfSSy/h5eXF5MmTAbj33ntJTEwkJiaGDh06MGDAADw9PbHZbCQnJzNgwADeeOMN3njjDf70pz8xf/58bDYbBw4cYM2aNSQnJzNo0CB27dpFQEAAR48eJTAwkEOHDjF06FAiIiLo0qXLFW9PuIxgqCrp6elNkpOTgwGaN2+eGhQUdKr0fLvdbn799ddO58+fb5SVlWXbuHFjo3379vlOnz6doqIiY4wRu92e3Lp1a1tmZqbXBcumZcuWhISEkJSUxLlz5yrcayiyO7Llk08+oXfv3syYMYOHHnqIL7/8krCwMLZv347dbsfDw6OkNrZv305YWBhnzpxh7dq1l1zf8PDwi7bz8vJyGqgtfayxj4+P0z/L7bffzltvvUXz5s2JiYnB398fEWH48OEsWLCgwhoGDRpk7SWMGzeOV199FWOM1f1wKSXdcSVv3gvFxcWRkZFBREQE4OjK8/X1tYKhcePGVlu73c7PP/+Mj4+P0zKmT5/OkCFD+Oqrrzhy5Ei53XItWrQoM/hZ8ppXttbSRISpU6fy8ssvl5l34fa/lPKeV0T44osvLrtLDJzfGxceg156e/r4+BAbG0tcXJy1J1ny3LNnz2bEiBEVPs/AgQPJysoqM33WrFnceOONtGnThpMnT9KuXTtOnjxZbhfGV199Rb9+/awuzFGjRrFx40YrGHbs2IHNZit3z3nhwoW8/fbb1v3AwECnwdjk5ORy3wulzZkzx/oG3b9/f/Ly8khNTSUoKIhBgwZZ74/Ro0ezdetWhg0bRmBgIAD+/v7ccccdbNq0iSlTpnDNNddYwZ6dnc0XX3xBQEAAGzduZP369bzzzjtkZ2dTUFCAn58fr7zyilWHj48P48aN45tvvrGCYd68eXz33XesWrXKClUvLy/+9re/WY8bMGAAXbt2pUWLFjRq1Mj6knHrrbcyZ84cwLHn1LdvX7y9venUqRNdu3blwIEDXHfddda6dO7cmdjYWLZt23bVweDSriQRITk5OTg0NHR/z54992RkZDTPyclx+oRISUlp6enpaYuMjNy9Zs2a3DFjxhScOHFi1/Hjx3edOnVqZ1BQUEFcXJxfz54981NSUry3bt3qA45d0pI+9EaNGnHffffxyCOPUFDguKbzmTNnrD76ErmFRZTsdhhjeOGFF/j555/Zu3cvISEhXHvttbz44otW+xdffJHo6GhCQkK44447+Omnn1i6dKk1f926dezevdvpOSpq17FjRyt8jh07xqZNmy667QYPHszWrVt5//33rX/+fv36sWHDBg4ePAg4uj/2799f5rEDBw7k448/JjQ0FA8PD5o3b86yZcucukhK+Pv7l/tBUZEFCxbwwQcfcOTIEY4cOcLhw4f597//TW5ubpm2v/nNb6xdfcDaQ8vMzLTe4PPmzSv3eUJDQzlx4gSJiYmA82tekUGDBvHpp58Cjq6bknAZNmwYixcvto5ISU9P5+jRo5dc38puoxEjRjB79myrm2Lbtm1l2gwfPpwPP/zQ2lbp6emAY7xky5YtAJc86mrixIl8+OGHrF+/npEjR1rP/Y9//MPa89q/f3+Zbixw7DFs3769zN+NN94IOPb2So4M+uijj8odIwkODmbt2rXYbDYKCwtZu3at015RSTfjhfbu3cvZs2ed9nJHjBjBihUrOHv2LGfPnmXFihWXDLfg4GBWrVoFOLoH8/LyaNWqFSNGjGDXrl3k5uZis9lYu3YtYWFh2Gw26yiywsJCvvvuO3r27AlAamqqFcgvv/wy9957L+D48piUlMSRI0eYNWsWU6ZM4ZVXXiE7O5uTJ08CjjGGpUuXWmNwy5cv57XXXmPJkiVOXba5ubnWa/Hvf/8bLy8vwsLCMMbw29/+1grGVatWERYWBsDNN99sTU9NTWX//v107tyZs2fPkp+fb03fsGGD9ZircrFRaamGo5IyMzMTExMTM0vuHzt2LPnYsWPJpdskJiZmZmZmJopI/HXXXXdu9uzZNrvdbs1/4YUXku64447TIhIfFxeXGBkZmd2tWzeJiYmRFStWWCPu+fn5MmPGDOnSpYuEh4dLnz59ZPny5c4j9Scype+AG5yOTpg1a5bce++9IiKSnp4ukydPls6dO0vnzp1l8uTJcvbsWattYmKijBgxQkJCQqRHjx4yceJEOXXqVJnR/4u1s9vtcscdd0i3bt3k5ptvlsGDB1tHc5R3pMGDDz4ojRs3lpycHGvaqlWrJCYmRiIiIiQiIkK++eabMo8TEQkKCpJ//vOfIiLy0ksvSUREhDVv5syZ8vrrr4uIyOLFi6Vr164SFRUlubm5TkfcbN68WQYPHuy03JycHGnWrJl1ZEaJW265RRYuXOi0bBGRM2fOyG233SYRERHSo0cPeeCBB0RE5KeffpLQ0FDp1auXPP3009aRJRf68ccfpW/fvhIVFVXmNb9YrampqTJ8+HAJCwuT+++/X4KDg612CxculKioKImIiJDo6GjZuHGjiFR8pEdlt1Fubq5MmzZNevbsKWFhYWWOqCrx8ssvS48ePSQqKkr+8pe/iIjjPRMREVFme3z44YdOR8SIiBQUFEizZs2sI11EHEe0/OUvf5GePXtKeHi4xMbGSkZGxkXX6WJSU1Nl6NChEhISIsOGDZO0tDRrPe+77z4RcRy1NW3aNOnevbv06NFDHnvsMadldOrUSRITE8sse+bMmfLnP/+5zPQ5c+ZIly5dpEuXLjJ37lxr+owZMyQwMFCMMRIYGGgdMbhnzx4ZMGCAREZGSlRUlMTFxVmPmT9/voSFhUl4eLjMmDFDRESys7MlOjpaIiIiJCwsTB5++GHraKVFixZJSEiIhIaGyn333Wcd1Vha6dfg1KlT1v9feHi4TJ8+3ToSqUuXLhIUFCRRUVESFRVlvdcPHz4sXbt2le7du8uwYcPkyJEj1rKPHDkiAwcOlIiICBk6dKgcPXpURBxHPD322GPSo0cP6dmzp3Xk04YNG6Rnz54SGRkpPXv2lA8++KDc1/Fyj0qq8CR6O3bsOBIVFVVlB2inpqY2y8zMbNKlS5ejAKdPn26ek5Pj16lTp6SSNrt27Qrv2rXr/oYNGxYC7Ny5s2ePHj32ent7O/ULnDp1qmVqamorALvd3igyMvKy6zl+Nhcfb089T5JSqk5LTEwsc0DAFZ9EryZr27Ztatu2bVMBEhISLv+wHyCwWZUefauUUnWCS8cYGjRoUFBYWNig5H5BQUEDb2/vgtJtvL29C/Lz8xuAY6CyqKjI08vLq+JRRKWUUlXmUsFgt9vtl3/850X4+fnl5Ofn+5w/f76B3W43GRkZzZs1a5ZRuk3Tpk0zUlNTWwCkpaU18/Pzy7qSQ1CVUkpBRcMFF3OpYNh95syZplUVDh4eHrRv3z7pwIEDXXfv3h0eEBCQ3rhx47ykpKRr0tLSmgK0bt061Wazee3cubPn6dOn2wYFBSVfarlKKaXKkuLrMVx4ePil1OsruCmlVF13JVdwqzAYaouYmBgpfe4SpZRSFasoGGrsXoBSSin30GBQSinlRINBKaWUkzoxxmCMOQNc+iQ35WsJ1M3Lb12crnPdV9/WF3SdL1cHEWlV3ow6EQxXwxgTf7EBmLpK17nuq2/rC7rOVUm7kpRSSjnRYFBKKeVEgwHec3cBbqDrXPfVt/UFXecqU+/HGJRSSjnTPQallFJONBiUUko5qTfBYIwZaYzZZ4w5aIx5spz5DY0xnxXP/8UY09ENZVaZSqzvfxtjEowxO40xq4wxHdxRZ1W61DqXajfeGCPGmFp/aGNl1tkYc1vxa73HGPOpq2usapV4bwcbY1YbY7YVv79Hu6POqmKMmWuMOW2M2X2R+cYY82bx9thpjIm+6ie92DU/69If4An8CnQGGgA7gLAL2vwX8G7x7duBz9xddzWv7xCgUfHtP9bm9a3sOhe38wfWAT8DMe6u2wWvcyiwDWhWfL+1u+t2wTq/B/yx+HYYcMTddV/lOg8CooHdF5k/GvgeMEA/4Jerfc76ssfQBzgoIodEpABYCIy7oM044KPi24uBYab2XiHokusrIqtFJLf47s9AkItrrGqVeY0BXgBeBfJcWVw1qcw6/x54W0TOAojIaRfXWNUqs84CNCm+3RQ44cL6qpyIrAPSK2gyDviXOPwMBBhjruo6BPUlGAKBY6XuJxdPK7eNiNiATKCFS6qrepVZ39Luw/GNoza75DoX72K3F5GlriysGlXmde4KdDXGbDDG/GyMGemy6qpHZdb5WeBOY0wysAx4yDWluc3l/r9fktdVlaNqPWPMnUAMMNjdtVQnY4wH8AZwt5tLcTUvHN1JsTj2CtcZYyJEJMOdRVWzScA8EflfY0x/YL4xpqeI2N1dWG1RX/YYjgPtS90PKp5WbhtjjBeOXdA0l1RX9SqzvhhjbgSeBsaKSL6Laqsul1pnfxxXIlxjjDmCoy92SS0fgK7M65wMLBGRQhE5DOzHERS1VWXW+T7gcwAR2Qj44DjZXF1Vqf/3y1FfgmEzEGqM6WSMaYBjcHnJBW2WAFOLb08AfpDikZ1a6JLra4y5FvgnjlCo7f3OcIl1FpFMEWkpIh1FpCOOcZWxIlKbL/1Xmff11zj2FjDGtMTRtXTIhTVWtcqscxIwDMAY0wNHMJxxaZWutQSYUnx0Uj8gU0ROXs0C60VXkojYjDHTgTgcRzXMFZE9xpjngXgRWQLMwbHLeRDHQM/t7qv46lRyfV8H/IBFxWPsSSIy1m1FX6VKrnOdUsl1jgN+Y4xJAIqAGSJSW/eEK7vOjwPvG2MewzEQfXct/pKHMWYBjnBvWTxuMhPwBhCRd3GMo4wGDgK5wD1X/Zy1eHsppZSqBvWlK0kppVQlaTAopZRyosGglFLKiQaDUkopJxoMSimlnGgwKKWUcqLBoJRSysn/B8aaKYTabGwQAAAAAElFTkSuQmCC\n",
=======
      "image/png": "iVBORw0KGgoAAAANSUhEUgAAAYcAAAD4CAYAAAAHHSreAAAAOXRFWHRTb2Z0d2FyZQBNYXRwbG90bGliIHZlcnNpb24zLjMuMiwgaHR0cHM6Ly9tYXRwbG90bGliLm9yZy8vihELAAAACXBIWXMAAAsTAAALEwEAmpwYAAAwUElEQVR4nO3deVyVdf7//8ebTUQQRVFMRFQwERA13MoFMzW0SSvLbHPKPtZnbJnmN5UtUzNT/ZrKmWZapqYaNVvUSk0tUz+mqbkC7si4pSLiAi6A7Ifz+v5x4AxwQFHhHJbX/XbjduO6rve5zut9DlzPa7+MiKCUUkqV5+bqApRSStU/Gg5KKaUcaDgopZRyoOGglFLKgYaDUkopBx6uLqA2tG3bVkJDQ11dhlJKNShJSUmZIhJY1bRGEQ6hoaEkJia6ugyllGpQjDFHq5umu5WUUko50HBQSinlQMNBKaWUAw0HpZRSDjQclFJKOXB6OBhjZhpjThtj9lQz3Rhj3jHGHDTG7DLG9HV2jUop1dS5YsthNnDzRabHA+GlP1OBD5xQk1JKqXKcfp2DiKwzxoRepMk4YI7Y7iW+2RjTyhjTQUROOKdCpZSquYLiEqw1fPTBrrQsNhzMxNTi+4e0acGE64JrcY429fEiuI7AsXLDaaXjKoSDMWYqti0LQkJCnFacUqrhKygu4Uxu0RW9tthiZeaGw4jAiuSTnM4pvOx5mFpMh8FhbZtMOFT1sTnEsoh8BHwEEBsbq08sUqqRKi6xsv9UDhdbOV+7P4O9J7JrvEb+3a7a2RHR0tu2CH0uvkeNXxMbGsB1nVvXyvvXpfoYDmlAp3LDwUC6i2pRSjlZoaWEbUfPM3PDYfKLSvj5YGaNX9s1sEWN2oW28aFzmxaMje5wRTU293Ln5qggPN0b7wmf9TEclgCPGWPmAQOALD3eoFTDdTqngEc+S6Kw2Fqj3SnJ6dkVhvuGtMLT3Y0pg7tc9HURHVrSKcDnakpV5Tg9HIwxc4E4oK0xJg14GfAEEJEPgWXAGOAgkAc86OwalVKXlnDkLP85YVuQz9pwhLyiEtzdHJf+x8/n23+/KaLdJefbwd8bq8Bv4roR1dEfb0/32ita1ZgrzlaadInpAkxzUjlKNXglVqHEWruH3Q5lXOCRz5I4kZWPVzW7TnKLShzGVXdgtGOr5jx+YxgejXg3TGNTH3crKaUuIrugmIKiEuYnHCM9q4C5W1Pr9P0mD6r6bECrwIiIdlwb5AdAgI8XblVsOaiGScNBqXrqXG4Rp3MK2XL4DElHz+FmDFn5xaz+z+kK7TzdDdd3a0v/LgG1+v49r2lJXPdATG2ed6kaDA0HpVzIahW+232CL7ccddi3/tO+jArDIaUHW7u0bcGdscG0aeHF6MggWvl4Oa1e1XRoOChVh0qsws8HM8kvsgCQciKH5XtO4u3pBsaw89h5e9uQAB9a+3jahyOvaUmv4FYMCW9L9/Z+hLXzdXb5qgnTcFCqDpzNLeKBmVvYczy7yunXdW6NbzMPhnUPJL+ohD/c0pPoYH8nV6lU9TQclKoDby7/D3uOZ9PKx5MburXlocFd8PGy7TYKaOFF+5beLq5QqYvTcFDqClitQuLRc6xMPulwhk7S0XMkHT0HwMqnhtLOT4NANTwaDkrVQH5RCS9+u4eyHPg6Kc0+rXmlA8nFJVYAvnh4gAaDarA0HJSqJL+ohOT0LPvwp5uOsnTnf2/vdY2/N+1bNqNFMw9eHR/F9d3auqJMpeqUhoNSwIVCC1t+OcP8hGOs3Huqyjb9QwP48n8G6FW+qknQcFBNUl6RhZXJpygqsZJ2No93Vh+sMH10ZHvuG9gZADdj6BPSCh8v/XdRTYf+tasmYcnOdJ6Yux3/5p54uJkqH/RyQ1gbnouPoGtgCw0C1eTpf4Bq1DYdOsOkjzfbh1v5eDIk3HaMwMvdnQdvCMUYaOHlQesWeqWxUmU0HFSjcy63iNd/SMHdzTB3q+2Js5P6h/DosK50blOzh8Eo1dRpOKgGr8hi5eUleziXWwzA8uST9mltfb1o7ePF67dHu6o8pRokDQfVYCWnZ7Fs9wneX3MIAG9PNzoHtKB7e1/at/RmzkP99Y6iSl0hDQfVIGTlFfOnpcnsTDuPh5sbBZYSjp7Js08f1j2Qmb/uV+WTyJRSl0/DQdVLVquwcPtxsvOLWX8ggzXlbl99c2QQAN0CfRkb3YEbwtoS5K9XIitVmzQcVL2wIvkkycdtVyXvTMti7f4MhzaPDOvKY8PD8PP2dJimlKpdGg7KZVYmn2TdgQy+Tkyj0GK7H5ExIKWPQ548qDNTh3XD18uD5l7ueHnolclKOYuGg3KqU9kFLNiWRnJ6Nt/vOgFAS28PvDzcWPSbG/SBNkrVExoOqs6VWIUF29L4cksqO8o9+axzGx/u6R/CI8O6ua44pVSVNBxUrTucmcue0uMHH6//hV1p/73Daec2PoyN7sDd/UIIaePjqhKVUpeg4aBq1fm8IobP+Mlh/OCwtvzhlp5cG+Tn/KKUUpdNw0FdNatVmJuQypkLRby/xnZ302HdA/nDLRGAoUvbFnr9gVINjIaDumLZBcXkF5Uw4P//0WHae/f00VNOlWrANBzUFZn582H+/N3eCuOSXryJVj5euBn0thVKNXAaDqpGRIQ9x7O5UGhhzqYj/LDHdnO7qUO7EtbOl5ujgmipWwpKNRoaDqpav2RcYMqnibT09uBQRi4XCi0Vpr8yLpL7B4W6pjilVJ3ScFAVnMou4MFZCeQUFnPsbD4Avs08uK5za/KLSnhocBda+XgSE9yK5l7uLq5WKVVXNBxUBS8vTmbviWyu8fdmfO9r6HlNS/5nSFc9hqBUE+P0cDDG3Az8A3AHPhGRv1Sa7g98DoSU1jdDRGY5u86mJjk9i2e+2UVyejYAy58aqscQlGrCnBoOxhh34H1gJJAGJBhjlohI+dNepgF7ReRXxphAYJ8x5gsRcXwivLpqVqvwx6XJzNl01D5u4W+u12BQqolz9pZDf+CgiPwCYIyZB4wDyoeDAH7Gth/DFzgLWCrPSF29venZ3PWvTfYDzf8zpAsvjO3p4qqUUvWBs8OhI3Cs3HAaMKBSm/eAJUA64AdMFBFr5RkZY6YCUwFCQkLqpNjGbM/xLMa/vwGLVQhu3ZzF026gjW8zV5ellKonnH2D/KqOakql4dHADuAaoDfwnjGmpcOLRD4SkVgRiQ0MDKztOhu1RdvTuOXdn7FYbR/9+meGazAopSpw9pZDGtCp3HAwti2E8h4E/iIiAhw0xhwGegBbnVNi4/PRukN8tO4XSrOAs7m2wzd/uyuGERHt9UwkpZQDZ4dDAhBujOkCHAfuBu6p1CYVGAGsN8a0B64FfnFqlY1ATkExU+cksemXM/Zx9w/sbP+9d6dW3N432BWlKaUaAKeGg4hYjDGPASuwnco6U0SSjTGPlk7/EHgFmG2M2Y1tN9SzIpLpzDobuoQjZ7nzw0324alDuzK+d0d6XuOwd04ppark9OscRGQZsKzSuA/L/Z4OjHJ2XY1BflEJe09k8+hnSQA8MrQrT43sjrenXsmslLo8eoV0I1FoKSHipeX24UC/Zjx7cw/c9DkKSqkroOHQSLzxwz77718+PIB+XQI0GJRSV0zDoRHILihm5obDAOx8eRT+zfXqZqXU1dFwaKBKrEJBcQmJR88xeabtLN/4qCANBqVUrdBwaICOnc1jyJtrKoybPKgzf7w10kUVKaUaGw2HBubAqRxGvr0OAL9mHjw+Iow2LZpxe9+OejGbUqrWaDg0MEfP5AG2C9r+dGukHnRWStUJZ99bSV2FguISHp6TCMCdscEaDEqpOqNbDvXY+bwivt99gpQT2SzZkU52ge3W2i29PYju6O/i6pRSjZmGQz1VZLFy63sbSD2bZx83/NpAOrRqzqvjovT4glKqTmk41FOvfr/XHgxbXxiBbzMPfLz061JKOYcubeqZncfO89qyFLYePgvAuqeH087P28VVKaWaGg2HeubFb/ew+3gWAS28eOfuPoS08XF1SUqpJkjDoR4pLrGy+3gWANv+MNLF1SilmjI9lbWeOJdbRPgLPwAwJLyti6tRSjV1Gg71xJdbUwHwb+7J7Af7u7gapVRTp7uVXMhSYuV8fjH5RSW8tcJ2y+3tfxipF7cppVxOw8EFUk5kM2vDYb5KTKswfmBXfQaDUqp+0HBwMhEh/h/rAQhq6U1ACy8m9e+Er7cHt8Z0dHF1Sillo+HgZI9+nmT/ffPzI1xYiVJKVU8PSDvZxoNnAEh44SYXV6KUUtXTLQcnsZRYeWvlPnIKLYzq2Z5Av2auLkkppaqlWw5OsirlNP9a+wsAt/a+xsXVKKXUxemWg5M89uU2AJY+NpjoYL3dtlKqftMtByeYsWIfFqsAaDAopRoEDYc6ll9UwntrDgLw4/83zMXVKKVUzWg41LHFO44D8NjwMLoF+rq4GqWUqhk95lCHXvluL//++TCgB6GVUg2LbjnUkfkJqfZgeHFsBN3b+7m4IqWUqjndcqgDBcUlPLtgNwBzHurP0O6BLq5IKaUuj9O3HIwxNxtj9hljDhpjplfTJs4Ys8MYk2yMWevsGq/WiuSTAIzvfY0Gg1KqQXLqloMxxh14HxgJpAEJxpglIrK3XJtWwD+Bm0Uk1RjTzpk1Xi0R4cl5OwCYfH2oS2tRSqkr5ewth/7AQRH5RUSKgHnAuEpt7gEWikgqgIicdnKNV2XBNtvZSR1bNadPSGsXV6OUUlfG2eHQEThWbjitdFx53YHWxpifjDFJxpgHqpqRMWaqMSbRGJOYkZFRR+VenmNn8/j91zsBmDNFn+amlGq4nB0OVT3JRioNewDXAWOB0cAfjDHdHV4k8pGIxIpIbGBg/divv/o/to2c/l0C6Nq2hYurUUqpK+fss5XSgE7lhoOB9CraZIpILpBrjFkHxAD7nVPilXt5STIA79/TF2P0iW5KqYbL2VsOCUC4MaaLMcYLuBtYUqnNYmCIMcbDGOMDDABSnFznZTuZVWD/XW/HrZRq6Jy65SAiFmPMY8AKwB2YKSLJxphHS6d/KCIpxpjlwC7ACnwiInucWeeVeGvFPgBeGR/l4kqUUurqOf0iOBFZBiyrNO7DSsNvAW85s66rkXmhkAXb0gC487pgF1ejlFJXT2+fUQuGvrkGgBE92uHt6e7iapRS6uppONSCvKISAD6ZHOviSpRSqnZoOFyl0zm2A9FjooP0DCWlVKOh4XCVvtt5AoABXdq4uBKllKo9Gg5XadZG2225b+zRoG4BpZRSF6XhcBWW7Ezn2Nl8ADoF+Li4GqWUqj0aDlfhD9/aLr94845eLq5EKaVql4bDFSqyWMnKL6adXzPu6tfp0i9QSqkGRMPhCv31/2xXRMeG6m25lVKNj4bDFUg/n8+/1v4CwNOje7i4GqWUqn0aDlfgnR8PADA9vgdd9NbcSqlGSMPhMl0otDAvwfa8osmDQl1bjFJK1RENh8v0wL+3ANDax5PmXnofJaVU46ThcBlEhG2p5wH4+dkbXVuMUkrVIQ2Hy5Be+kCf7u19adHM6Xc7V0opp9FwuAyWEisAjw7r5uJKlFKqbmk4XIY9x7MBKC4NCaWUaqw0HC7Dpl8yAegbohe+KaUaNw2Hy9DS2xOA8PZ+Lq5EKaXqlobDZfJ01wf6KKUaPw2HyyCAVVxdhVJK1T09H7OGcgqK+eCnQ64uQymlnEK3HGrox5TTALTza+biSpRSqu5pONTQS4ttD/b5/OEBLq5EKaXqnoZDDWxPPYebm6FTQHPC2/m6uhyllKpzeszhEtLP53PbPzcCcEffYIzRs5WUUo2fbjlcwp7jWQBMHtSZ6fH6YB+lVNOg4XAJn20+CsCE6zrh6a4fl1KqadCl3SVs+eUsANHB/i6uRCmlnEfD4SJEhKISq56+qpRqcjQcamBERHtXl6CUUk7l9HAwxtxsjNlnjDlojJl+kXb9jDElxpgJzqyvKu1b6paDUqppcWo4GGPcgfeBeKAnMMkY07Oadm8AK5xZX2WHM3MBsOoNlZRSTYyztxz6AwdF5BcRKQLmAeOqaPc4sAA47cziKttw0Pb8hg6tmruyDKWUcjpnh0NH4Fi54bTScXbGmI7AbcCHF5uRMWaqMSbRGJOYkZFR64UCpJzMASDu2sA6mb9SStVXzg6Hqi4vrrzP5u/AsyJScrEZichHIhIrIrGBgbW/8BYRvtySCkBrH69an79SStVnzr59RhrQqdxwMJBeqU0sMK/0NhVtgTHGGIuIfOuUCkuV3TLDv7kn3p7uznxrpZRyOWeHQwIQbozpAhwH7gbuKd9ARLqU/W6MmQ185+xgAPjPyWwA1j0z3NlvrZRSLufUcBARizHmMWxnIbkDM0Uk2RjzaOn0ix5ncBYRoaDYykM3dMG/uaery1FKKadz+l1ZRWQZsKzSuCpDQUR+7YyaKvv3z4cBuFBY7Iq3V0opl9MrpCsREV79PgWA58dEuLgapZRyDQ2HSjJyCgEIaulNKz1LSSnVRGk4VFJ2Xu0TI8JdWodSSrmShkMlJ7MKABCHyy+UUqrp0HCoJOGI7fkNrZrrLiWlVNOl4VBJ2cHomE76cB+lVNPl9FNZ67tr/L3xcHcjuLWPq0tRSimX0S2HckSE9KwC+oUGuLoUpZRyKQ2HcjIvFAGQX2xxcSVKKeVaGg7lLN5xHIDBYXqLbqVU06bhUE5J6RPfbonp4OJKlFLKtTQcyvnL8v8A4OmmH4tSqmnTpWCpQksJUnrdW3MvfX6DUqpp03AodfRMHgBP6m0zlFJKw6FMdr7t9txh7XxdXIlSSrmehkMlrXz04T5KKaXhUGr/qQsA9uMOSinVlGk4lCousQIQEqC3zVBKKQ2HUgdP27YcWuozo5VSSsOhTG6h7ZYZLZrpaaxKKaXhABQUl7Bw+3Hat2xGMw8NB6WU0nDgv7uU2vl5u7gSpZSqHzQcgPziEkCfG62UUmU0HICUE9kAeLgbF1eilFL1g4YDsOPYeQB6BPm5thCllKonNByAA6UXwPnraaxKKQVoOAC23UlDwtvi46WP1FZKKdBwUEopVQUNB6WUUg40HPjvMQellFI2Tg8HY8zNxph9xpiDxpjpVUy/1xizq/RnozEmpq5rulBo4XR2YV2/jVJKNRhODQdjjDvwPhAP9AQmGWN6Vmp2GBgmIr2AV4CP6rouNwNxPQLr+m2UUqrBcPaWQ3/goIj8IiJFwDxgXPkGIrJRRM6VDm4Gguu6KA83N9yMXgCnlFJlnB0OHYFj5YbTSsdVZwrwQ1UTjDFTjTGJxpjEjIyMWixRKaWUs8OhqtXzKp+9ZowZji0cnq1quoh8JCKxIhIbGKi7hJRSqjY5+6qvNKBTueFgIL1yI2NML+ATIF5EzjipNqWUUqWcveWQAIQbY7oYY7yAu4El5RsYY0KAhcD9IrLfyfUppZTCyVsOImIxxjwGrADcgZkikmyMebR0+ofAS0Ab4J/GdpDYIiKxzqxTKaWaOqffTEhElgHLKo37sNzvDwMPO7supZRS/6VXSCullHKg4aCUUsqBhoNSSikHGg5KKaUcaDgopZRyoOGglFLKgYaDUkopBxoOSimlHGg4KKWUctDkwyG7oJiiEitWqfLmsEop1SQ1+XA4lVUAgK+X0+8kopRS9VaTD4cyXQJbuLoEpZSqN5p8OJzMLnB1CUopVe80+XDIyCkEoKW3p4srUUqp+qPJh4MpfXBpSICPawtRSql6pMmHg1JKKUcaDkoppRxoOCillHKg4aCUUsqBhoNSSikHGg5KKaUcGLnIPYWSkpLaeXh4fAJEUY+D5MyZM507dOhwRa/NKSgmK99CUMtmeLjX2y4qpdQV8/b2Jjg4GE/PitdzGWOSRCS2qtdc9IZCHh4enwQFBUUEBgaec3Nzq7d3ptu7d2/niIiIK3rt8XN5eOcWEdGhpYaDUqrRERHOnDlDWloaXbp0qfHrLrU0jAoMDMyuz8FwtS4UlgBoMCilGiVjDG3atKGg4PJuFXSpJaJbYw4GAA93g3vZZdJKKdUImStYxunqMuDt5e7qEpRSql5pEOEwZ86cVsaY67Zv3+5dNu67777zGz58eFj5dr/+9a/55ptvACguLmb69OmEh4cTFRVF//79+eGHHxzmPWlcPCMH9SEmJoZ+/fqxY8cO+7SsrCweeOABunXrRrdu3XjggQfIysqyT9+/fz9jxowhLCyMiIgI7rrrLk6dOuXwHjVt5yoffvghc+bMAWD27Nmkp6fbp4WGhpKZmVmj+Tz55JN07NgRq9VaJ3X+9NNP3HLLLRXGlf/Oa+py+lSVq/mMGpqzZ88ycuRIwsPDGTlyJOfOnauy3dtvv01kZCRRUVFMmjTJvgtj4sSJ9O7dm969exMaGkrv3r0B+OKLL+zje/fujZubm/1/LykpiejoaMLCwnjiiScoO2lm3bp19O3bFw8PD4fv/JlnniEyMpKIiIgKrxERXnjhBbp3705ERATvvPMOYPtb8vf3t7//n//8Z/u8/vGPfxAVFUVkZCR///vfHfo6Y8YMjDH273zr1q32+cTExLBo0SIA8vLyGDt2LD169CAyMpLp06fb53H06FFGjBhBr169iIuLIy0tzT4tNTWVUaNGERERQc+ePTly5MgV9+WqiEi1Pzt27DgiIomu/omPjz/bt2/fnKeeeiq9bNzSpUv3xcXFnReRxOTkZBERmTx5snz99dciIvLss8/KAw88IAUFBSIicvLkSZk/f75UFjvwBvn6h59ERGTmzJly00032afdcccd8vLLL9uHX3rpJZkwYYKIiOTn50tYWJgsWbLEPn316tWye/fuCvOvabuLsVgsNW57tYYNGyYJCQn24c6dO0tGRsYlX1dSUiKdOnWSAQMGyJo1a6psU1xcfFW1rVmzRsaOHVthXPnvvKZq2qcylT//K/2MatvVfp418fTTT8vrr78uIiKvv/66PPPMMw5t0tLSJDQ0VPLy8kRE5M4775RZs2Y5tPvd734nf/rTnxzG79q1S7p06WIf7tevn2zcuFGsVqvcfPPNsmzZMhEROXz4sOzcuVPuv//+Ct/5hg0b5PrrrxeLxSIWi0UGDhxo/xucOXOm3H///VJSUiIiIqdOnRKRqv+WRER2794tkZGRkpubK8XFxTJixAjZv3+/fXpqaqqMGjVKQkJC7N95WVsRkfT0dAkMDJTi4mLJzc2V1atXi4hIYWGhDB482N6XCRMmyOzZs0VE5Mcff5T77rvP/h7Dhg2TlStXiohITk6O5ObmXlFfKtu7d6/DOCBRqln+1/jxZ09/s7PT/pM5tXrr0u5BfnlvTYg5drE2WVlZbomJib6rVq3aN27cuLC//e1v6RdrD7bE/vjjjzl8+DDNmjUDoH379tx1111Vtm9eultp0KBBvPXWWwAcPHiQpKQk5s+fb2/30ksvERYWxqFDh1i7di2DBg3iV7/6lX368OHDHeb95ZdfVttu9uzZJCYm8t577wFwyy238Pvf/564uDh8fX353e9+x4oVK7jlllvYvXs3X331FWBbU/jrX//K0qVLWblyJS+//DKFhYV069aNWbNm4evra3+v06dPEx8fT1JSEjt37qR3794cPXqUkJAQunXrxu7du3nzzTfx9fUlNDSUxMRE7r33Xpo3b86mTZsAePfdd1m6dCnFxcV8/fXX9OjRw6Gfa9asISoqiokTJzJ37lzi4uIA+OMf/0h6ejpHjhyhbdu2/OMf/+DRRx8lNTUVgL///e/ccMMNbN26ld/+9rfk5+fTvHlzZs2axbXXXlvtd1yV0NBQJk+e7FDrmTNnmDRpEhkZGfTv39++Vgnw+eef884771BUVMSAAQP45z//ibu7e4XP/69//SuDBw8G4JtvvqnxZ5Sbm8vjjz/O7t27sVgs/PGPf2TcuHEOdb/55pt89tlnuLm5ER8fz1/+8hfi4uKYMWMGsbGxZGZmEhsby5EjR5g9ezbff/89BQUF5ObmEhgYyOTJkxkzZgxg25L61a9+xfjx45k+fTo//fQThYWFTJs2jUceeeSyPk+AxYsX89NPPwEwefJk4uLieOONNxzaWSwW8vPz8fT0JC8vj2uuuabCdBHhq6++YvXq1Q6vnTt3LpMmTQLgxIkTZGdnM2jQIAAeeOABvv32W+Lj4wkNDQXAza3iDg9jDAUFBRQVFSEiFBcX0759ewA++OADvvzyS/tr2rVrd9H+pqSkMHDgQHx8bIu6YcOGsWjRIp555hkAnnrqKd58880K32NZW4CCggL7/n0fHx/7/7qXlxd9+/a1byHs3buXt99+G7AtD8aPH28fb7FYGDlyJECF/+XL7cvVqve7lb744otWcXFxWb169Sps1apVyc8//3zJgDp48CAhISG0bNny0m9gwK30WM3y5csrfEm9e/fG3f2/xyPc3d3p3bs3ycnJ7Nmzh+uuu+6Ss69pu8pyc3OJiopiy5YtPPfcc2zevJnc3FwA5s+fz8SJE8nMzOTVV19l1apVbNu2jdjYWP72t79VmE+7du0oKCggOzub9evXExsby/r16zl69Cjt2rWr8Ic9YcIEYmNj+eKLL9ixYwfNmzcHoG3btmzbto3//d//ZcaMGVXWW/YPftttt/Hdd99RXFxsn5aUlMTixYv58ssvefLJJ3nqqadISEhgwYIFPPzwwwD06NGDdevWsX37dv785z/z/PPPX/ZnVl2tf/rTnxg8eDDbt2/n1ltvtQdTSkoK8+fPZ8OGDezYsQN3d3e++OILh8+/LBgu9zN67bXXuPHGG0lISGDNmjU8/fTT9u+wzA8//MC3337Lli1b2Llzp30hdDGbNm3i008/ZfXq1dx99932FZiioiJ+/PFHxowZw7///W/8/f1JSEggISHBvrJU2ZAhQyrs3in7WbVqFQCnTp2i7BqiDh06cPr0aYd5dOzYkd///veEhITQoUMH/P39GTVqVIU269evp3379oSHhzu8fv78+fZwOH78OMHBwfZpwcHBHD9+/KKfx6BBgxg+fDgdOnSgQ4cOjB49mrJT2w8dOsT8+fOJjY0lPj6eAwcOVPgcY2JiiI+PJzk5GYCoqCjWrVvHmTNnyMvLY9myZRw7Zlt/XbJkCR07diQmJsahhi1bthAZGUl0dDQffvghHh4V17vPnz/P0qVLGTFiBAAxMTEsWLAAgEWLFpGTk8OZM2fYv38/rVq14vbbb6dPnz48/fTTlJSUXFFfrlaNtxwutYZfV7766quAJ5988jTAHXfccfazzz4LGDx4cJ4xpsqzqK7kqPxjUx+iMD+PkpIStm3bBtjWdKqaV3Xja5u7uzt33HEHAB4eHtx8880sXbqUCRMm8P333/Pmm2+ydu1a9u7dyw033ADYFg5la1zlXX/99WzYsIF169bx/PPPs3z5ckSEIUOG1KiW22+/HYDrrruOhQsXOkwvKipi2bJlvP322/j5+TFgwABWrlzJ2LFjAbj11lvtC9FVq1axd+9e+2uzs7PJyckhKyuLyZMnc+DAAYwxFcKlTHWfe/nxVdW6bt06++9jx46ldevWAPz4448kJSXRr18/APLz8+1rY+U//5qo6n1XrlzJkiVL7GFRUFBAamoq5a/JWbVqFQ8++KA9pAMCAi75XiNHjrS3i4+P54knnqCwsJDly5czdOhQmjdvzsqVK9m1a5d933xWVhYHDhxwOM99/fr1Ne5jdc6dO8fixYs5fPgwrVq14s477+Tzzz/nvvvus7cpv3VQ3pYtW/Dx8SEqKgqgwlZdmUv9vx08eJCUlBT7WvnIkSNZt24dQ4cOpbCwEG9vbxITE1m4cCEPPfQQ69evp2/fvhw9ehRfX1+WLVvG+PHjOXDgABERETz77LOMHDkSX19fYmJi8PDwIC8vj9dee42VK1dWWcOAAQNITk4mJSWFyZMnEx8fj7e37RCpxWJh0qRJPPHEE3Tt2hWwHbd47LHHmD17NkOHDqVjx454eHhgsVhYv34927dvJyQkhIkTJzJ79mymTJly2X25WjUOh9py9uzZlmlpaSEAAQEBmcHBwSfLTxcRjhw50iknJ8f//Pnz1s2bN3vv37+/+WOPPUZJSYkxxsgHH3yQ1q5dO0tWVpZHpXnTtm1bwsLCSE1NJScnBz8/v4sXJPDeRzO5afAApk+fzrRp01i4cCGRkZFs374dq9Vq34yzWq3s3LmTiIgITp8+zdq1ay/Z38jIyGrbeXh4VDh4W/48ZG9v7wpbLRMnTuT9998nICCAfv364efnh4gwcuRI5s6de9EahgwZYt9aGDduHG+88QbGGIeDu9Up2zXn7u6OxWJxmL58+XKysrKIjo4GbLv1fHx87OHQosV/n89ttVrZtGmTPSzKPP744wwfPpxFixZx5MgR+26p8tq0aeNwQLTsO79UrdUF/eTJk3n99dcdplX+/C+lqvcVERYsWHDR3WPVrWyU/9uofH56+c/T29ubuLg4VqxYUWENXER49913GT169EXrHjJkCDk5OQ7jZ8yYwU033UT79u05ceIEHTp04MSJE1Xuyli1ahVdunQhMDAQsAXlxo0b7eFgsVhYuHAhSUlJDq+dN29ehdAIDg6ucHA2LS3NYRdVZYsWLWLgwIH2XTDx8fFs3ryZoUOHEhwcbA/52267jQcffBCgwl6FMWPG8Jvf/IbMzEzatm3LlClTmDJlCgDPP/88wcHBHDp0iMOHD9u3GtLS0ujbty9bt24lKCjIPq+IiAhatGjBnj17iI21XXg8depUwsPD+e1vf2tvd80119hXIi5cuMCCBQvw9/cnODiYPn362ENk/PjxbN68mSlTplxRX66GU3criQhpaWkh4eHh+6OiopLPnz8fkJub612+zblz5/wLCwu9o6Oj9/z8889ZY8eOLUlPT999/Pjx3SdPntwVHBxctHLlSt+oqKjCU6dOeW7bts0bbEf/y/ap+/j4MGXKFJ544gmKiooA277Mzz//vEI9xSW2f74SK3h6evLqq6+yefNmUlJSCAsLo0+fPrz66qv29q+++ip9+/YlLCyMe+65h40bN/L999/bpy9fvpzdu3dXeI+LtQsNDWXHjh1YrVaOHTvG1q1bq/3s4uLi2LZtGx9//DETJ04EYODAgWzYsIGDBw8CtoXy/v37HV47dOhQPv/8c8LDw3FzcyMgIIBly5bZtzjK8/Pzq3JhcTFz587lk08+4ciRIxw5coTDhw+zcuVK8vLyHNqOGjXKfowFsJ+hkpWVRceOHQHbsZiqhIeHk56eTkpKClDxO7+YoUOH2ncX/fDDD/aAGTFiBN988419V8nZs2c5evToJftb089o9OjRvPvuu/a14e3btzu0GTVqFDNnzrR/VmfPngVsx0/KFqaXOhvr7rvvZtasWaxfv94eBqNHj+aDDz6wb4Ht37/fYZcW2LYcduzY4fBz0003Abatvk8//RSATz/9tMpjJiEhIWzevJm8vDxEhB9//NFh66hHjx4VdheBbUXh66+/5u6777aP69ChA35+fmzevBkRYc6cOVW+Z+X3X7t2LRaLheLiYtauXWt///Hjx9uPc6xdu5bu3bsDcPLkSfv3snXrVqxWK23atAGw/z2kpqaycOFCJk2aRHR0NKdPn7b/jQcHB7Nt2zaCgoI4fPiwfYXg6NGj7Nu3z3585MUXXyQrK8vhrKfMzEx7+L/++us89NBDAPTr149z586RkZEBwOrVq+nZs+cV9+WqVHekWurgbKWsrKyUlJSUrLLhY8eOpR07diytfJtDhw5lnD59+hcRSezXr1/Oe++9V1RQULCzbPorr7ySes8995wWkcQVK1ak9OrV68K1114rsbGx9iP8IrazA55++mnp1q2bREZGSv/+/WX58uUVjtQXFFskduAN8n9rN9jHzZgxQx566CERETl79qzce++90q1bN+natavce++9cu7cOXvblJQUGT16tISFhUlERIRMnDhRTp486XBGQHXtrFar3HPPPdKzZ0+56667ZNiwYfazLFq0aOEwn2nTpkmLFi3sZy+I2M50iI2NlejoaImOjpbFixc7vE5EpFOnTvKvf/1LRERee+01iY6Otk97+eWX5a233hIRkW+++Ua6d+8uMTExkpeXV+FMnISEBBk2bFiF+ebm5krr1q0lKyurwvjbbrtN5s2bV2HeIiIZGRly1113SXR0tERERMgjjzwiIiIbN26U8PBwuf766+XFF1+Uzp07V9mPn3/+WQYMGCAxMTEO33l1tWZmZsrIkSOlT58+8tvf/rbCmSbz5s2TmJgYiY6Olr59+8qmTZtEpOrPv0xNP6O8vDyZOnWqREVFSWRkZLVnlLz++usSEREhMTEx8txzz4mI7W8mOjpaBg0aJC+88IL985g1a5ZMmzatwuuLiookICBAfv3rX9vHlZSUyHPPPWd/77i4ODl//ny1fapOZmam3HjjjRIWFiY33nijnDlzRkREjh8/LvHx8fZ2L730klx77bUSGRkp9913n/0sQRHbGWUffPCBw7zXrFkjAwYMcBifkJAgkZGR0rVrV5k2bZpYrVYREdm6dat07NhRfHx8JCAgQHr27CkitrPJpk6dKj169JCIiAh56qmn7PM6d+6cjBkzRqKiomTgwIGyY8cOERF59913pWfPntKrVy8ZMGCAbNjw32XA4MGDJSIiQnr16iWrVq2q8nMp/53PmTNHevbsKTExMdKnTx9ZtGiRiIgcO3ZMAOnRo4fExMRITEyMfPzxxyIi8vXXX0tYWJiEh4fLlClTKnxeK1eulOjoaImKipLJkydLYWHhFfelvMs9W+miN97buXPnkZiYmFo7gTszM7N1VlZWy27duh0FOH36dEBubq5vly5dUsva7Nu3LywoKOikv7//BYCUlJTuwcHBaX5+fhVWQ0+ePNk2MzMzEMBqtfr06tXrsuspLrGSfj6fNr7N8G3m9D1sSinlNCkpKVS+B90V33jPSa7o9hxBQUGZQUFBmQB79+69/NOBAE93Nzq3aXHphkop1cQ49ZiDl5dXUXFxsVfZcFFRkZenp2eF01I8PT2Li4qK7G2Ki4u9vLy8HE9dUUopVWcuFQ5Wq9Vaa+dt+vr65hYWFnrn5+d7Wa1Wc/78+YDWrVufL9+mVatW58+cOdNGRMjOzm7h7u5e0qxZMw0HpZS6Qhc7fFCdS+1W2pORkdEzMDAwqzbuzurm5kanTp1SDxw40B1sp7K2aNGi4OTJk4EAQUFBGa1bt87Kysry3717d5QxxhoaGnrkat9XKaWaKil9nkPZdRc11eSfBKeUUo3dlTwJ7qLh0FDExsZKYmKiq8tQSqkG5WLhUG+3BpRSSrmOhoNSSikHGg5KKaUcNIpjDsaYDODSN8WpXlugcT7Kq2pNrb+gfW4qtM+Xp7OIBFY1oVGEw9UyxiRWd1CmMWpq/QXtc1Ohfa49ultJKaWUAw0HpZRSDjQcbD5ydQFO1tT6C9rnpkL7XEv0mINSSikHuuWglFLKgYaDUkopB00mHIwxNxtj9hljDhpjplcx3Rhj3imdvssY09cVddamGvT53tK+7jLGbDTGxLiiztp0qT6Xa9fPGFNijJngzPrqQk36bIyJM8bsMMYkG2PWOrvG2laDv21/Y8xSY8zO0j4/6Io6a4sxZqYx5rQxZk8102t/+VXd80Mb0w/gDhwCugJewE6gZ6U2Y4AfAAMMBLa4um4n9Pl6oHXp7/FNoc/l2q0GlgETXF23E77nVsBeIKR0uJ2r63ZCn58H3ij9PRA4C3i5uvar6PNQoC+wp5rptb78aipbDv2BgyLyi4gUAfOAcZXajAPmiM1moJUxpiHfB/ySfRaRjSJyrnRwMxDs5BprW02+Z4DHgQXAaWcWV0dq0ud7gIUikgogIg293zXpswB+xhgD+GILB4tzy6w9IrIOWx+qU+vLr6YSDh2BY+WG00rHXW6bhuRy+zMF25pHQ3bJPhtjOgK3AR86sa66VJPvuTvQ2hjzkzEmyRjzgNOqqxs16fN7QASQDuwGnhQRq3PKc4laX35d6klwjUVVjzqtfA5vTdo0JDXujzFmOLZwGFynFdW9mvT578CzIlJiW6ls8GrSZw/gOmAE0BzYZIzZLCL767q4OlKTPo8GdgA3At2A/zPGrBeR7DquzVVqffnVVMIhDehUbjgY2xrF5bZpSGrUH2NML+ATIF5EzjiptrpSkz7HAvNKg6EtMMYYYxGRb51SYe2r6d92pojkArnGmHVADNBQw6EmfX4Q+IvYdsgfNMYcBnoAW51TotPV+vKrqexWSgDCjTFdjDFewN3AkkptlgAPlB71HwhkicgJZxdaiy7ZZ2NMCLAQuL8Br0WWd8k+i0gXEQkVkVDgG+A3DTgYoGZ/24uBIcYYD2OMDzAASHFynbWpJn1OxbalhDGmPXAt8ItTq3SuWl9+NYktBxGxGGMeA1ZgO9NhpogkG2MeLZ3+IbYzV8YAB4E8bGseDVYN+/wS0Ab4Z+matEUa8B0ta9jnRqUmfRaRFGPMcmAXYAU+EZEqT4lsCGr4Pb8CzDbG7Ma2y+VZEWmwt/I2xswF4oC2xpg04GXAE+pu+aW3z1BKKeWgqexWUkopdRk0HJRSSjnQcFBKKeVAw0EppZQDDQellFIONByUUko50HBQSinl4P8Bohk2LpVzaz4AAAAASUVORK5CYII=\n",
>>>>>>> c1bd09d305199d2a762fcc762efee491142a3f2b
      "text/plain": [
       "<Figure size 432x288 with 1 Axes>"
      ]
     },
     "metadata": {
      "needs_background": "light"
     },
     "output_type": "display_data"
    }
   ],
   "source": [
    "generate_auc_roc_curve(model_GB, X_test)\n"
   ]
  },
  {
   "cell_type": "code",
<<<<<<< HEAD
   "execution_count": 65,
=======
   "execution_count": 61,
>>>>>>> c1bd09d305199d2a762fcc762efee491142a3f2b
   "metadata": {},
   "outputs": [],
   "source": [
    "lgb_model = LGBMClassifier()\n",
    "# Model Tuning\n",
    "lgbm_params = {'colsample_bytree': 0.5,\n",
    " 'learning_rate': 0.01,\n",
    " 'max_depth': 6,\n",
    " 'n_estimators': 500}\n",
    "\n",
    "lgbm_tuned = LGBMClassifier(**lgbm_params).fit(X, y)"
   ]
  },
  {
   "cell_type": "code",
<<<<<<< HEAD
   "execution_count": 66,
=======
   "execution_count": 62,
>>>>>>> c1bd09d305199d2a762fcc762efee491142a3f2b
   "metadata": {},
   "outputs": [],
   "source": [
    "gbm_model = GradientBoostingClassifier()\n",
    "# Model Tuning\n",
    "gbm_params = {'learning_rate': 0.1, 'max_depth': 3, 'n_estimators': 200, 'subsample': 1}\n",
    "gbm_tuned = GradientBoostingClassifier(**gbm_params).fit(X,y)"
   ]
  },
  {
   "cell_type": "code",
<<<<<<< HEAD
   "execution_count": 67,
=======
   "execution_count": 63,
>>>>>>> c1bd09d305199d2a762fcc762efee491142a3f2b
   "metadata": {},
   "outputs": [
    {
     "name": "stdout",
     "output_type": "stream",
     "text": [
      "LightGBM: 0.865400 (0.008616)\n",
      "GB: 0.864900 (0.008479)\n"
     ]
    }
   ],
   "source": [
    "models = [(\"LightGBM\", lgbm_tuned),\n",
    "          (\"GB\",gbm_tuned)]\n",
    "results = []\n",
    "names = []\n",
    "for name, model in models:\n",
    "    kfold = KFold(n_splits=10)\n",
    "    cv_results = cross_val_score(model, X, y, cv=10, scoring=\"accuracy\")\n",
    "    results.append(cv_results)\n",
    "    names.append(name)\n",
    "    msg = \"%s: %f (%f)\" % (name, cv_results.mean(), cv_results.std())\n",
    "    print(msg)"
   ]
  },
  {
   "cell_type": "code",
<<<<<<< HEAD
   "execution_count": 68,
=======
   "execution_count": 64,
>>>>>>> c1bd09d305199d2a762fcc762efee491142a3f2b
   "metadata": {},
   "outputs": [
    {
     "data": {
<<<<<<< HEAD
      "image/png": "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\n",
=======
      "image/png": "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\n",
>>>>>>> c1bd09d305199d2a762fcc762efee491142a3f2b
      "text/plain": [
       "<Figure size 432x288 with 1 Axes>"
      ]
     },
     "metadata": {
      "needs_background": "light"
     },
     "output_type": "display_data"
    },
    {
     "data": {
<<<<<<< HEAD
      "image/png": "iVBORw0KGgoAAAANSUhEUgAAAdwAAAEWCAYAAADM0CYnAAAAOXRFWHRTb2Z0d2FyZQBNYXRwbG90bGliIHZlcnNpb24zLjMuNCwgaHR0cHM6Ly9tYXRwbG90bGliLm9yZy8QVMy6AAAACXBIWXMAAAsTAAALEwEAmpwYAAAzhUlEQVR4nO3deZgcVbnH8e+PENaQsIoRkEBkETAJIaDIFhZxYQsQBEQliiKIuF3EBVSWewVBRS6CgFwMCrILRETDvoqEJGQhYRPCKmsIgSAkkLz3j3Maapqenp6tu2fm93meeaar6lTVWx2Yt8+p6vMqIjAzM7PutVSjAzAzM+sLnHDNzMzqwAnXzMysDpxwzczM6sAJ18zMrA6ccM3MzOrACdfMzKwOnHDNrClJOkDSPZJel/RCfv11JeMlLZK0QNJrkqZI2qHRMZtV44RrZk1H0n8BpwOnAu8H1gQOA7YBlsnNTomIAcBA4LfAnyX1a0C4ZjWRZ5oys2YiaRDwb+CLEXFlK23GA09HxLF5eQXgdWCtiPh3vWI1aw/3cM2s2WwNLAtcU0vj3Kv9IjAHeL4b4zLrlKUbHYCZWZnVgZci4u3SCkn/ADYhJeJP5tVHSfpGXifgkIhYXO9gzWrlHq6ZNZu5wOqS3ukQRMTHI2LlvK30d+sXed0KwCjgVEmfrnOsZjVzwjWzZnM3sBDYq5bGkdwP3AXs1p2BmXWGE66ZNZWIeAU4HjhL0lhJK0laStIIYMVK+0jaGNgWmFW3QM3ayU8pm1lTknQQ8C1gM9ITyI8B/weMB84FPgcsIt2/nQtcCBwbEUsaEa9ZW5xwzczM6sBDymZmZnXghGtmZlYHTrhmZmZ14IRrZmZWB55pyipaffXVY8iQIY0Ow8ysR5kyZcpLEbFGpW1OuFbRkCFDmDx5cqPDMDPrUSQ90do2J1yr6O0XX+bF317Y6DDMzOpqjcM/323H9j1cMzOzOnDCNTMzqwMnXDMzszpwwu2hJI2RFHnSdjMza3JOuD3XgcCd+beZmTU5J9weSNIAUimyQ4AD8rqlJJ0l6UFJN0i6TtLYvG0LSbdJmiJpoqTBDQzfzKxPcsLtmfYC/h4RDwNzJW0B7AMMATYBvgBsDSCpP3AGMDYitgDOB/6n0kElHSppsqTJcxe82v1XYWbWh/h7uD3TgcDp+fUleXlp4PJcC/Q5Sbfk7RuR6oneIAmgH/BspYNGxLmkOqOMWHd91200M+tCTrg9jKRVgZ2Aj0gKUgIN4KrWdgFmRcTWdQrRzMwq8JByzzMW+GNErBsRQyJiHWAO8DKwb76XuyYwOrd/CFhD0jtDzJI2bUTgZmZ9mRNuz3Mg7+3NXgm8H3gamA1cCEwF5kfEIlKS/rmk6cA04ON1i9bMzAAPKfc4EbFjhXX/C+np5YhYIGk1YBIwM2+fBmxfzzjNzKwlJ9ze5VpJKwPLACdGxHMdPdDSa6zarZN4m5n1NU64vUhEjG50DGZmVpnv4ZqZmdWBE66ZmVkdeEjZKlr0wuM8/ZsvNzoMM+uAtb9xfqNDsArcwzUzM6sDJ1wzM7M66DUJN9eG/WVh+ShJx3Xh8Q/NlXgelDRJ0raFbdtJmiVpmqQPS3ojv54t6WxJHX6fJT0uafUO7DdE0uc6el4zM+tavSbhAguBfTqSnNoiaXfga8C2EbExcBjwJ0nvz00OAk6KiBHAG8Cj+fUwUvWeMWXHq8e98yGAE66ZWZPoTQn3bVKlm++Ub5A0vlQbNi8vyL9H5zqx10h6TNLJkg7KPdiZkobmXb4PfC8iXgKIiKnABcARkr4CfBY4UdJFxfNGxNvAP4APSRonaYKkm4GbJK0q6WpJMyT9U9KwHNNqkq7PPebzSMUHSj3W+wvX8E4PXtKHJN0oabqkqTnuk4Htck/7O5I2zdc1LZ9zg06/42ZmVrPelHABzgQOkjSoHfsMJ/VYP0yqI7thRGwFnAccmdtsCkwp228ysGlEnAdMICXkg4oNJK0A7EyeYhEYSapLuwNwPHBfRAwDfgT8Ibf5KXBnRGxKmjP5gzVcw0XAmRExnDRP8rPAD4A7ImJERJyWr/H03PMeRZp3uYViPdyXF7xZw2nNzKxWvSrhRsSrpMT1zXbsdm9EPBsRC4FHgevz+pmkYdmOGCppGnAX8NeI+Ftef0NEvJxfbwv8Mcd9M7CapIGkOY8vzOv/CsyrdiJJKwFrRcRVeZ83I+I/FZreDfxI0veBdSPijfIGEXFuRIyKiFGrDliufVdsZmZV9aqEm/0aOARYsbDubfK15geYlilsW1h4vaSwvIR3v6c8G9ii7DxbALNaieHR3LPcPCKOK6x/vbZLqOida8jalREj4k/AnqR7zNdJ2qkTsZiZWTv1uoSbe5CXkZJuyeO8mzD3BPq387CnkMrbrQYgaQQwDjirE6HeQXrYCkmjgZdyD/128sNOkj4NrJLbPw+8L9/jXRbYHSAiXgOeljQm77NsHsp+DVipdDJJ6wOP5cpC15Ae6DIzszrprTNN/RL4RmH5d8A1uR7s32lnTzMiJkhaC/iHpCAls89HxLOdiPE44HxJM4D/AAfn9ccDF0uaRXrg6skcw1uSTiCV3XsGeLBwrC8A5+TtbwH7ATOAxfmaxwPLAl+Q9BbwHPCzTsRuZmbtpIhodAzWhIZ9cPW47ug9Gx2GmXWAp3ZsHElTImJUpW29bkjZzMysGfXWIWXrpGXeN8Sfks3MupB7uGZmZnXghGtmZlYHHlK2il576RFuOW+3RofR5+34lb82OgQz6yLu4ZqZmdWBE66ZmVkdOOGamZnVQY9PuKVSe220GZEL1H+qhrbjJH2gsHyepE06GNvjku4oWzetWGavM8rLDpqZWfPq8Qm3RgcCd+bfbRkHvJNwI+IrETG7E+deSdI6AJI+3InjdClJfmDOzKyOek3ClTRY0u2lHqSk7fJ6keYWHgd8QtJyhX2+nwvNT8/F58eSasVelI+zvKRbJY2SdJikUwv7jpP0m/z684Xi7udI6lcI7TJg//z6QODiwjH6STpV0r25KPzX8vrRkm6TdI2kx3JsB+VzzMwF5kt2yTVsH5a0ew3HvUPSBFIFJDMzq5Nek3BJFXYm5gLrw4Fpef3HgTkR8ShwK7AbvFOJZy/go7lw+ykRcQWpsPxBubxesWbslcDeheX9gUtyr3V/YJt87sXkKkCF/fbJr/cA/lLYdggwPyK2BLYEvippvbxtOKlo/IdJxQk2jIitgPOAIwvHGAJsla/r7PyBotpxRwLfiogNy9/AYgH6+a8tKt9sZmad0JuGFe8lVd/pD1wdEdPy+gOBS/LrS4AvkpLgLsDvS8XaC4XhK4qIF3Nv82PAI8DGpALzR5BK/92bOtMsD7xQ2HUuME/SAcADpMpAJbsCwwr3YQcBGwCLgHtL1YgkPQpcn9vMBHYsHOOyiFgCPCLpsRxXteNOiog5rVzjucC5ABsNGeSqFmZmXajXJNyIuF3S9qSe3nhJvwIuAvYF9pJ0DCBgNUkrVTlUNZcAnyWVxrsqIiIPWV8QET+sst+lwJmkYe0iAUdGxMQWK1N93IWFVUsKy0to+e9WnhijjeO2qzShmZl1jV4zpCxpXeD5iPgdadh1JLAzMCMi1omIIRGxLu8ODd8AfCkXa0fSqvlQLQq3l7mKNAxd7DXfBIyV9L7ScXIs5fudAkwsWz8RODz3ypG0oaQV23np+0laKt/XXR94qIuOa2ZmXajX9HCB0cD3coH1BaSh45+Qkl3RlcDhEfFpSSOAyZIWAdcBPyIVaz9b0hvA1sUdI2KepAeATSJiUl43W9KxwPWSliIVgD8CeKKw32vAzwHysHPJeaR7sFNzT/lFYEw7r/tJUlH6gcBhEfGmpK44rpmZdSEXoLeKNhoyKM4+dttGh9HneS5ls57FBejNzMwarDcNKVsXWmn1Ddy7MjPrQu7hmpmZ1YETrpmZWR14SNkqmjv3YcZfsGujw+h1xh18fduNzKxXcg/XzMysDpxwzczM6sAJ18zMrA6ccLuZpMW5bN90SVMlfbyGfRbUIzYzM6sfPzTV/d7IZfuQ9EngJGCHhkZkZmZ15x5ufQ0E5gFIGiDpptzrnSlpr/LGrbWRNETSA5J+J2mWpOslLZ+3fUjSjYUe9dC8/nuFgvTH1/GazcwM93DrYXlJ04DlgMHATnn9m8DeEfGqpNWBf0qaEC0nt67YJm/bADgwIr4q6TJSGcILSSUJT46Iq3Ix+qUk7Zrbb0Uq3TdB0vYRcXsxUEmHAocCrLbacl39PpiZ9WlOuN2vOKS8NfAHSZuREt/Pcg3fJcBawJrAc4V9W2sDMCcipuXXU4Ahuc7vWhFxFUBEvJnPuyupKP19uf0AUgJukXCLBejXW2+gq1qYmXUhJ9w6ioi7c091DeAz+fcWEfGWpMdJveCig6q0KRaoXwwsX+XUAk6KiHM6fxVmZtYRvodbR5I2BvoBc4FBwAs5ke4IlBetp8Y278h1d5+WNCafb1lJK5AK0n9Z0oC8fi1J7+uq6zIzs7a5h9v9SvdwIfU0D46IxZIuAv4iaSYwGXiwwr61tCn3BeAcSScAbwH7RcT1kj4M3J3q0bMA+DzwQieuy8zM2sEJt5tFRL9W1r8EbN3KtgFttQE2K7T/ReH1I7z7YFbxmKcDp9ccuJmZdSkPKZuZmdWBe7hW0WqrbejKNmZmXcg9XDMzszpwwjUzM6sDDylbRc/Me4RjLv9Uo8Oo2f/s9/dGh2BmVpV7uGZmZnXghGtmZlYHTrhmZmZ10K0JV9Kakv4k6TFJUyTdLWnv7jxne0kaJ+k3XXCcpr9WMzNrnG5LuEpzCF4N3B4R60fEFsABwNrdeM6Kszp1t664Vkl+gM3MrBfrzh7uTsCiiDi7tCIinoiIMyT1k3RqoSD61yAlrrz+/lxwff+8filJZ0l6UNINkq6TNDZve1zSzyVNBfaT9NV83OmSrsyT9yNpvKSzJU2W9LCk3QuxfkDS3yU9IumU3P7Lkn5dapCPe1p7rzXv29r1jpZ0R65xOzsv3ybpmtxTPlnSQZIm5fejVEx+D0n3SLovF5tfM68/TtL5km7N+38zrz9B0rcL1/I/kr7V/n9SMzPrqO5MuJsCU1vZdggwPyK2BLYEvippPWAfYAQwHNgFOFXS4Lx+CLAJaXL+8vmF50bEyIi4BPhzRGwZEcOBB/K5SoaQirDvBpydC7STz7k/8BFgf0nrAJcBe0jqn9t8CTi/A9da7XoBRgLfiogN8/Jw4DDgw/laN4yIrYDzgCNzmzuBj0XE5sAlwNGFc20MfDJf509z/OcDX4T04YXU+76wPEhJh+YPJJP/8+qiKpdjZmbtVbdhTElnAtsCi4AngGGlXiqpDN0GefvFEbEYeF7SbaQEtS1weUQsAZ6TdEvZ4S8tvN5M0n8DK5MKrU8sbLssH+MRSY+RkhPATRExP8c5G1g3Ip6SdDOwu6QHgP4RMbO915qT7K6tXO8iYFJEzCnsfm9EPJuP8yhQml9xJrBjfr02cGn+MLIMUNz/rxGxEFgo6QVgzYh4XNJcSZuTCtjfFxFzy+MuFqAfPHSQC9CbmXWh7ky4s4B9SwsRcYRS8fXJwJPAkRFRTIZI+nQHz/V64fV4YExETJc0Dhhd2FaeRErL5cXcS+/LecCPSGXxfl/l/NWuFVJZvkrXO7os9vJYlhSWlxTiOgP4VURMyMc4rpX9y69lHPB+Wu+pm5lZN+nOIeWbgeUkHV5Yt0L+PRE4vDRcK2lDSSsCd5CGdPtJWgPYHpgE3AXsm+/lrknLJFpuJeDZfOyDyrbtl48xFFgfeKjaBUTEPcA6wOeAizt4rdWut6MGAc/k1wfXuM9VwKdIIwYT22hrZmZdrNt6uBERksYAp0k6GniR1Jv7PnA56X7q1PyE74vAGFJS2BqYTup9Hh0Rz0m6EtgZmA08RbpfOr+VU/8YuCcf8x5SAi55kpTABwKHRcSb6fRVXQaMiIh5HbxWSL3LStfbUccBl0uaR0r261VvDhGxKA/Fv5KH7M3MrI4U0TNu1UkaEBELJK1GSprbRMRz7dh/PHBtRFzRzvNeC5wWETe1K+Amkx+Wmgrsl4vUVzV46KD48snlz6Y1L8+lbGbNQNKUiBhVaVtP+u7ntZJWJj0kdGJ7km1H5HNNAqb3gmS7CXAtcFUtyRZgrVU2cBIzM+tCPSbhRsToTu4/rp3tXwE2LK7LvetKyXfnSk/9NouImE26Z21mZg3SYxJuM8hJdUSj4zAzs57HxQvMzMzqwD1cq+iRV57hM1f/qNFhvOO6MT9rdAhmZp3iHq6ZmVkdOOGamZnVQZsJV9KK+TucpRmS9ixM6N8wkhZLmlb4+UGVtmPyV2NKyydI2qULYlhZ0tc7sN9xko7Krz+WK/9Mk/SApOPa2Hd0/m6wmZn1ILXcw70d2E7SKqSJ9O8lVdYpnzax3t6IiBE1th1D+h7qbICI+EkXxbAy8HXgrE4c4wLgs3nu537ARl0RWImkpSPi7a48ppmZtV8tQ8qKiP+QSuSdFRH7kcrRNaVcQ3a2Ut3ZX0j6OLAnqdTfNElDlWrjFuvpnpS3TZY0UtJESY9KOiy3GSDpJklTlerS7pVPdzIwNO97am77Pb1b9/b4QlzHKNXhvZOWSfV9wLMAEbE4f2cWSVtJulup5u0/JL0nEbfWRtI4SRNytaObJP0hTz1Z2u+iwjWYmVkd1NLDlaStST3aUm3Zft0XUs2WlzStsHwScCOwN7Bxnt945Yh4RanA+zvTOlaYP/nJiBihVGB+PLANsBxwP3A28Cawd0S8mqsA/TMf8wfAZqWetqRdSWX3tiJVCJogaXvSvMoHkL7DuzRpisUp+dynAQ9JuhX4O3BBRLxJqlC0XUS8nYe/f0ahIlFWrc1IYFhEvCxpB+A7wNWSBgEfp0LRA0mHAocCLLfGwApvuZmZdVQtCffbwA9J0wLOkrQ+UF6PthHeM6QsaWlScvy/fJ+z1nudE/LvmcCAiHgNeE3SwjzF4+vAz3LyXAKsRaorW27X/HNfXh5ASsArkd6//+Q4S+cjIk6QdFHe73PAgaRqSIOACyRtQCrkUOm+ebU2N0TEy/kct0k6S6kC077AlZWGmYv1cAd9aHDPmGTbzKyHaHNIOSJui4g9STVYiYjHIuKb3R5ZB+QkshVwBbA7qcdYi2LN2fJ6tEuTevdrAFvkJP88qQdcTsBJETEi/3woIv6vhrgfjYjfkioiDc9TSJ4I3BIRmwF7tHK+am3K6+z+Afg88CVcD9fMrO5qeUp5a0mzScOXSBouqTMPCXUbSQOAQRFxHWkIdXje9Boty/S11yDghYh4S9KOwLqtHHci8OUcB5LWkvQ+0oNnYyQtL2klUnIsxbyb3h3j3oBUNP4VWta8HVclrrbalIwnjVaU5lY2M7M6quWhqV8DnwTmAkTEdFJh+EZbvuxrQSeTkt+1kmYAdwLfzW0vAb6XHy4a2oFzXQSMkjQT+CL5w0eeW/kuSfdLOjUirgf+BNyd214BrBQRU4FLSXV+/0Z60rvkC6R7uNOAPwIH5Xq1pwAnSbqP1of+a2lDjvV54AHg9+2+ejMz67Q26+FKuiciPirpvojYPK+bHhHDq+5oTUXSCqR71CMjYn5b7Qd9aHBs84svdX9gNfLUjmbWE6hKPdxaerhP5a/WhKT+ecKGB7o0QutW+QnmB4Azakm2ZmbW9Wrp4a4OnA7sQnoo6HrgW81c/9U6b9SoUTF58uRGh2Fm1qNU6+G2+bWgiHiJxs8qZWZm1qO1mnAlnUH6bmdFzfrVIDMzs2ZUrYfr8cQ+7JF5L7Hblb/r9vP8dd+vdvs5zMyaQasJNyIuKC5LGphWx2vdHpWZmVkvU8vEF6Xvn84A7pc0XdIW3R+amZlZ71HLXMrnA1+PiDsAJG1LmjxhWHcGZmZm1pvU8j3cxaVkCxARdwJ9or6qpPdLuiSX6psi6TpJG3bwWMWSgOdJ2iS//lFZu2Mkzcrl/aZJ+mjnr8TMzBqt2lPKI/PL2ySdA1xMemp5f+DW7g+tsfL8xleRyuUdkNcNJ1UJejgvd6i4e0R8pbD4I1JZPXIZxN1Js0EtzN+BXqaT1+EC9GZmTaDakPIvy5Z/WnjdF0q37Qi8FRFnl1ZExHRJoyXdAcwDNpb0YVIh+tHAssCZEXFOTthnAJ8AngIWlY6Ta98eBYzl3bq+s4ArgZciYmE+30uFfbYkTUCyIqmi0c7AW8BvgVGkUYfvRsQtksYB+5DKA/aT9Jkcy2akEn7HRcQ1XfZOmZlZm6o9pbxjPQNpQpvxbpH4ciNJhefn5KLt8yNiS0nLkooZXA9sDmwEbELqFc+mrCxeRPxA0jcKBewHAD+R9DBwI3BprmW7DKn4wf4RcW9+YvwN4FvpMPERSRsD1xeGvIsF6H8G3BwRX871fSdJujEiWpTwa1GAfvVVO/i2mZlZJbU8NIWk3YBNKdRbjYgTuiuoHmBSRMzJr3cFhpXuz5JK5m1Aqqh0ca78829JN7d10IhYkJ8A347Uw75U0g9Iif/ZiLg3t3sV3nmArVSn+EFJTwClhPtOAfoc4555HmxI/44fpGxO7BYF6IcO6QujGGZmddNmwpV0NrACKQGcRxoGndTNcTWDWaRrraTYMxRwZERMLDbIw7jtlhP0rcCt+etYB9N6T7ua8hj3jYiHOhKTmZl1Xi1PKX88Ir4IzIuI44GtebcX1ZvdDCybh1kBkDSM1PssmggcLql/brOhpBVJRef3l9RP0mDSB5ZK3irsu5GkDQrbRgBPAA8Bg/N9XCStJGlp4A7yPNd5KPmDuW25icCRpUL3kjav8T0wM7MuUsuQ8hv5938kfYBUiH5w94XUHCIiJO0N/FrS94E3gceBq8uangcMAabmhPYiMIb0hPNOpHu3TwJ3t3Kqc4EZkqYCvwLOyPdZ3wb+BRwaEYsk7Z+3LU/6N9kFOAv4be4Jvw2My083l5/jRODX+TxLAXNIT0ObmVmd1FKe78ek+4Q7A2eSnlA+LyJ+3P3hWaMMGjoktj3lmG4/j+dSNrPepLPl+U7ML6+UdC2wnIuYm5mZtU+1iS92ioibJe1TYRsR8efuDc0aaYNVVnfv08ysC1Xr4e5AenBojwrbAnDCNTMzq1G1iS9+mh+w+VtEXFbHmMzMzHqdqvdwI2KJpKMBJ9w+5l/zXmGPK66quO0vY/euczRmZj1fLd/DvVHSUZLWkbRq6afbIzMzM+tFavke7v759xGFdQGs3/XhmJmZ9U61fC1ovXoEYmZm1pvVWrxgM1LVm2Lxgj90V1BmZma9TZv3cCX9lDTT1Bmk+YBPAfbs5rg6RNKakv4k6TFJUyTdnadn7OxxR+dJPzp7nCGS3pA0rfDTqQLzbZxvQXcd28zM2qeWHu5YYDhwX0R8SdKawIXdG1b75XmMrwYuiIjP5XXr0oAPB5KWjoi3W9n8aKn+rZmZ9R21PKX8ZkQsAd7Ohc9fANbp3rA6ZCdgUUScXVoREU9ExBm5Ys+pku6VNEPS1+Cdnuutkq6Q9KCkiwoVdT6V100F3pltS9KKks6XNEnSfZL2yuvHSZqQ697e1J7AJe2ae+NTJV2eC9Ej6XFJJ+We8GRJIyVNlPSopMNymwGSbsr7zizFU+Ec3ytc//GttDk0n2fyoldfbc8lmJlZG1pNuJLOzAXOJ+XqNb8j1WWdSuuVbxppU1JslRwCzI+ILYEtga9KKj0MtjnwbdI96vWBbSQtR7rePYAtgPcXjnUMcHNEbEUaYj81l+MDGAmMjYgdqsQ5tDCcfKak1YFjgV0iYiQwGfhuof2TuUd8BzCeNOLwMaCUNN8E9s777gj8svShoUTSrsAGwFakkn9bSNq+PLCIODciRkXEqGUGDqxyCWZm1l7VhpQfBk4FPkAqZn4x8AlgYETMqENsnSLpTGBbYBGppuwwSaWC8oNICWgRMCkins77TCOV2lsAzImIR/L6C4FSXdxdgT0lHZWXlyPVoQW4ISJebiO0FkPKknYnJfu7cp5chpYfaCbk3zOBARHxGvCapIX5g9DrwM9yAl0CrAWsCTxXOMau+ee+vDwgX//tbcRqZmZdpNrUjqcDp+f7oAcA5wPLAxdLeqOUjJrILGDf0kJEHJF7j5NJ9WiPjIiJxR0kjQYWFlYtpu372gL2jYgWhd4lfZSU/NpLpER9YCvbS/EtKYt1SY71IGANYIuIeEvS4xSeJi+c46SIOKcD8ZmZWRdo8x5uvg/684jYHDiQVFz9we4OrANuBpaTdHhh3Qr590TgcEn9ASRtWBgGruRBYIikoXm5mAwnAkcW7vVu3sm4/0kaxv5QPt6KkjZsx/6DgBdyst0RWLdCm4nAlwv3hteS9L5Oxm1mZu1Qy9eClpa0h6SLgL8BD1F4iKhZRESQPgzsIGmOpEnABcD3gfOA2cBUSfcD51C9d/8maQj5r/mhqRcKm08E+gMzJM3Ky52J+0VgHGnkYAZpOHnjdhziImCUpJnAF6nwYSgirgf+BNyd210BrNSZuM3MrH2U8lSFDdInSD27zwCTgEuAayKiI8Om1sOMGjUqJk+e3OgwzMx6FElTImJUpW3V7lf+kNQr+q+ImNctkZmZmfUR1YZVd6pnIL2JpI8AfyxbvTAiPtqIeMzMrPFqmkvZ2iciZpK+72pmZgY44VorHp33OvteOanitiv33arO0ZiZ9Xy1TO1oZmZmneSEa2ZmVgceUm4QSavxbpGD95NmuXoxL28VEYsaEpiZmXULJ9wGiYi55AerJB0HLIiIX3THuST1i4jF3XFsMzOrjYeUm4ikLSTdJmlKLsM3OK+/VdLPc0nAhyVtl9ePk/Sbwv7X5vmhkbRA0i8lTQe2lvT5vP80SedI6teASzQz67OccJuHgDNI5f22IBWL+J/C9qVzScBvAz+t4XgrAvdExHBgLrA/sE2uVLSYVPTAzMzqxEPKzWNZYDPghlwXoR/wbGH7n/PvKaQSgm1ZDFyZX+9Mqut7bz728rScHxpIBejJZQiXX/395ZvNzKwTnHCbh4BZEbF1K9tLpfmKJQTfpuUoRbEs35uF+7YCLoiIH1YLICLOBc4FWGXohytPsm1mZh3iIeXmsRBYQ9LWAJL6S9q0jX0eB0ZIWkrSOkBrM1LcBIwtleSTtGquc2xmZnXiHm7zWAKMBf5X0iDSv82vgVlV9rkLmEMqPfgAMLVSo4iYLelY4HpJSwFvAUcAT3RZ9GZmVpUTbhOIiOMKi9tX2D668Pol8j3cXAO44sNPETGgbPlS4NJOB2tmZh3iIWUzM7M6cA/XKhq6yoouUmBm1oXcwzUzM6sDJ1wzM7M6cMI1MzOrA9/DtYqef+UtfnXVcy3WfXdvzz5lZtZR7uGamZnVgROumZlZHTjhmpmZ1UGfTriS1pT0J0mP5Rq0d0vauwuOO1rStV1wnCGSQtJ/F9atLumtYh3cVvYd11YbMzOrnz6bcJXq1F0N3B4R6+catAcAazcglmoPr80Bdiss70f1+ZXNzKwJ9dmEC+wELIqIs0srIuKJiDhDUj9Jp0q6V9IMSV+Dd3qut0q6QtKDki7KiRtJn8rrpgL7lI4paUVJ50uaJOk+SXvl9eMkTZB0M6maT2v+AzwgaVRe3h+4rHD8PSTdk499o6Q1yw8gaQ1JV+bruVfSNpVOJOlQSZMlTX791bk1vo1mZlaLvpxwN6WV6jrAIcD8iNgS2BL4qqT18rbNgW8DmwDrA9tIWg74HbAHqdB78fszxwA3R8RWwI7AqZJWzNtGAmMjYoc2Yr0EOCCX4FsM/Luw7U7gYxGxeW53dIX9TwdOy9ezL3BepZNExLkRMSoiRq04cLU2QjIzs/bw93AzSWcC2wKLSGXrhkkamzcPAjbI2yZFxNN5n2mkyj0LgDkR8UhefyFwaN53V2BPSUfl5eWAD+bXN0TEyzWE93fgROB53lvxZ23gUkmDgWVIQ9DldgE2yZ1xgIGSBkTEghrObWZmXaAvJ9xZpN4eABFxhKTVgcnAk8CRETGxuIOk0aRC8SWLafs9FLBvRDxUdqyPAq/XEmhELJI0BfgvUs96z8LmM4BfRcSEHN9xFQ6xFKkX/GYt5zMzs67Xl4eUbwaWk3R4Yd0K+fdE4HBJ/QEkbVgYBq7kQWCIpKF5+cDCtonAkYV7vZt3MN5fAt+v0CMeBDyTXx/cyr7XA0eWFiSN6GAMZmbWQX024ebi7WOAHSTNkTQJuAD4Puke52xgqqT7gXOo0pPNPcdDgb/mh6ZeKGw+EegPzJA0Ky93JN5ZEXFBhU3HAZfnHvBLrez+TWBUfgBsNnBYR2IwM7OOU8o7Zi2t86Hh8Z1TW4yoey5lM7M2SJoSEaMqbevL93CtijVX7u8Ea2bWhZxwm4CkjwB/LFu9MCI+2oh4zMys6znhNoGImAmMaHQcZmbWffrsQ1NW3Wsvv82tF77Y6DDMzHoNJ1wzM7M6cMI1MzOrAydcMzOzOnDCNTMzq4OmSrjdVRC+K3VVYXdJiyVNK/wM6YLwzMysSTXN14IKBeEviIjP5XXr0nKi/q4+Z7+IWNxdx2/DGxExotKG/F4oIpbUNyQzM+suzdTD7UhBeOX190uaKWn/vH4pSWflgvA3SLquVGpP0uOSfp7nPN5P0lfzcafnIu0r5HbjJZ2dC7I/LGn3QqwfkPR3SY9IOiW3/7KkX5ca5OOeVuvFSxoi6SFJfwDuB9aR9Nt8/lmSji+0fVzS8ZKm5uveOK8fIOn3ed0MSfvm9bvm0YKpki6XNKCVGN4pQD/fBejNzLpUMyXcjhSE34c0YcRwUs3XU3Nd2H1IdWo3Ab4AbF12vLkRMTIiLgH+HBFbRsRw4IF8rpIhwFbAbsDZudA8+Zz7Ax8B9s+F4S8D9ihVGAK+BJxf5XqXLwwnX5XXbQCcFRGbRsQTwDF5Ts5hpCILwwr7vxQRI4HfAqVauz/O79NHImIYcHMuOXgssEtuPxn4bqWAigXoB7kAvZlZl2qaIeVyNRaE3xa4OA8LPy/pNlJC3ha4PA/JPifplrLDF4u4bybpv4GVgQGkcnoll+VjPCLpMWDjvP6miJif45wNrBsRT0m6Gdhd0gNA/zyDVGtaDCnne7hPRMQ/C20+K+lQ0r/TYNIHiBl525/z7ymkDxiQPnQcUNo5IublnvkmwF25QuAywN1V4jIzs27QTAm3IwXhP93BcxULv48HxkTEdEnjgNGFbeWllErLrRWhPw/4Eak+7u87E1fuwR8FbJkT53hguULbUgzF81ci4IaIOLBKGzMz62bNNKTckYLwd5CGdPtJWgPYHpgE3AXsm+/lrknLJFpuJeDZfOyDyrbtl48xFFgfeKjaBUTEPcA6wOeAi9u84uoGkhLw/HwNtXy4uAE4orQgaRXgn8A2kj6U160oacNOxmZmZu3UND3ciAhJY4DTJB0NvEhKON8HLifdT52an+B9kVQ8/irS/dnppN7n0RHxnKQrgZ1JReSfIt0bnt/KqX8M3JOPeQ8pAZc8SUrgA4HDIuLNPCxbzWXAiIiYV+u1V5J73PeRestPkT5EtOW/gTMl3U/q+R4fEX/OPfeLJS2b2x0LPNyZ+MzMrH16bQF6SQMiYoGk1UhJc5uIeK4d+48Hro2IK9p53muB0yLipnYF3GQ2Wn9EnHPCDYz+/BqNDsXMrMdQHy1Af62klUkPCZ3YnmTbEflck4DpPT3ZAqy06tJOtmZmXajXJtyIGN3J/ce1s/0rQIt7o7l3XSn57hwR/qKrmVkf0msTbjPISXVEo+MwM7PGa6anlK2JvPXcW40OwcysV3HCNTMzqwMnXDMzszpwwjUzM6uDHpFw1bfq5B6TqwPNyIUNPtrB4+wp6QedjcfMzLpG0z+lnGeWupo+UCdX0tbA7sDIiFiY55JepiPHiogJwISujM/MzDquJ/Rw+1Kd3MGksnsL83W+FBH/LsR3Sr6eSYW5kfeQdI+k+yTdmOddbtHjzjH/r6R/5FGCsa2c38zMuklPSLh9qU7u9aTC8w/nDwY7lG2fHxEfAX4D/DqvuxP4WERsDlwCHN3KsQeTyhbuDpxcqYEKBejnvu55OczMulLTDymXUy+uk5vnft4C2A7YEbhU0g8iYnxucnHhd6mXvHZuN5g0/Dynlbfu6hzz7FIvuML5zwXOBRi+9vDeOcm2mVmD9IQe7ixgZGkhIo4gVQJag1Tr9ciIGJF/1ouI6ztxrvI6ud/IPcrjaVmLtiN1cseRerdV6+RGxOKIuDUifgp8g0KN4LLzll6fAfwmx/m1sjiLirG1WfLIzMy6Vk9IuH2mTq6kjSRtUFg1gtSLL9m/8Pvu/HoQ8Ex+fXC1OMzMrHGafki5j9XJHQCckSsPvQ38Czi0sH0VSTNIvdUD87rjgMslzSN9OFmvrUDMzKz+em093Naoh9bJlfQ4MCoiXurI/u01fO3hMf3p6fU4lZlZr6E+Wg+3Na6TW4P+7+/fdiMzM6tZn0u4PbVObkQMac95zcysufS5hNsMXCfXzKzv6QlPKZuZmfV4TrhW0VsvLGh0CGZmvYoTrpmZWR044ZqZmdWBE247SFpQttzhGrh5VqzrcmWhqZIua22O4/a0rfHc410xyMysvvyUcgPk6kJ/Bb4bEX/J60aT5od+vtBuadK/UZttq5xr6Yh4u0svwMzM2s0Jt4tI2gM4ljShxlzgoIh4PpfYOz03C9K8zvsBd5cSKEBE3JqPM45URnAA0A+4oErbIcAfgRXzpm9ExD9yQj4RmAdsLGkjUpGDT5CmtFzUldduZmZtc8Jtn+UlTSssrwpMyK9LdWlD0ldIdWn/CzgKOCIi7pI0AHgT2AyYUuU8I4FhEfGypF9VafsC8Ik8l/MGpMIIowrH2Cwi5kjaB9iIVAd4TdJc0u+pySvpUPLczWuv0uERazMzq8AJt33eiIgRpYXcGy0luNbq0t4F/ErSRaSi9k/XUOjghoh4uYZ4+gO/kTSCVA6wOKPVpIgoxbA979YH/neuz/seLerhfnDjvjXJtplZN/NDU12nYl3aiDgZ+AqwPHCXpI1JNX63qHKsYl3eam2/Q7qPO5yU+Jdp5RhmZtZgTrhdp2JdWklDI2JmRPwcuBfYGPgT8HFJuxXabS9pswrHrdZ2EPBsRCwBvkC651vJ7bxbH3gwsGOHr9LMzDrECbfrHEeqSzsFKJbQ+7ak+3Md27eAv0XEG8DuwJH5qz6zga+Tau+20Ebbs4CDJU0nJfLWerVXAY+Q7t3+gXeL15uZWZ30uXq4VpvhH9w4pj/5YKPDMDPrUarVw3UP18zMrA6ccK2i/u8b0OgQzMx6FSdcMzOzOvA9XKtI0mvAQ42Oox1Wp+XDas2sJ8UKPSvenhQr9Kx4e1Ks0Lh4142INSpt8MQX1pqHWrvx34wkTe4p8fakWKFnxduTYoWeFW9PihWaM14PKZuZmdWBE66ZmVkdOOFaa85tdADt1JPi7UmxQs+KtyfFCj0r3p4UKzRhvH5oyszMrA7cwzUzM6sDJ1wzM7M6cMLtgyR9StJDkv4l6QcVti8r6dK8/R5JQwrbfpjXPyTpk80aq6Qhkt6QNC3/nN3dsdYY7/aSpkp6W9LYsm0H5wIVj0g6uHzfJot1ceG9ndDdsdYY73clzZY0Q9JNktYtbGu297ZarM343h4maWaO6U5JmxS2NdvfhIqxNupvQgsR4Z8+9EMq4fcosD6pfu50YJOyNl8Hzs6vDwAuza83ye2XBdbLx+nXpLEOAe5vwvd2CDCMVLVpbGH9qsBj+fcq+fUqzRhr3ragCd/bHYEV8uvDC/8tNON7WzHWJn5vBxZe7wn8Pb9uxr8JrcVa978J5T/u4fY9WwH/iojHImIRcAmwV1mbvYAL8usrgJ0lKa+/JCIWRsQc4F/5eM0YayO0GW9EPB4RM4AlZft+ErghIl6OiHnADcCnmjTWRqgl3lsi4j958Z/A2vl1M763rcXaCLXE+2phcUWg9LRt0/1NqBJrwznh9j1rAU8Vlp/O6yq2iYi3gfnAajXu25U6EyvAepLuk3SbpO26Mc73xJK15/1pxve2muUkTZb0T0ljujSyytob7yHA3zq4b2d1JlZo0vdW0hGSHgVOAb7Znn27UGdihfr/TWjBUztab/Us8MGImCtpC+BqSZuWffq1jls3Ip6RtD5ws6SZEfFoo4MCkPR5YBSwQ6NjaUsrsTblexsRZwJnSvoccCzQ7ffCO6qVWBv+N8E93L7nGWCdwvLaeV3FNpKWBgYBc2vctyt1ONY8xDUXICKmkO77bNiNsdYab3fs2xGdOl9EPJN/PwbcCmzelcFVUFO8knYBjgH2jIiF7dm3C3Um1qZ9bwsuAcZ0cN/O6nCsDfqb0FIjbyD7p/4/pFGNx0gPOJQeOti0rM0RtHwQ6bL8elNaPiDxGN37gERnYl2jFBvpAYtngFUb/d4W2o7nvQ9NzSE91LNKft1t8XYy1lWAZfPr1YFHKHtwpUH/LWxO+iO6Qdn6pntvq8TarO/tBoXXewCT8+tm/JvQWqx1/5vwnvjreTL/NMcP8Bng4fw//DF53QmkT9oAywGXkx6AmASsX9j3mLzfQ8CnmzVWYF9gFjANmArs0STv7Zak+06vk0YNZhX2/XK+jn8BX2rWWIGPAzPzH7uZwCFN8t7eCDyf/82nAROa+L2tGGsTv7enF/5/uoVCkmvCvwkVY23U34Tij6d2NDMzqwPfwzUzM6sDJ1wzM7M6cMI1MzOrAydcMzOzOnDCNTMzqwMnXDOriaRbyqvBSPq2pN+24xgn5AkfqrW5VdKoCuvHSfpNO841WtL8QnWYG2vdt8oxV5b09c4ex/omJ1wzq9XFpMlFig7I69skqV9E/CQiOp342uGOiBiRf1ok+jwzWXutTKpQZdZuTrhmVqsrgN0kLQOpvijwAeAOSb/NE+7PknR8aQdJj0v6uaSpwH6Sxpdq60r6iaR7Jd0v6dyyKk9fyL3S+yW9p/qMpDUkXZn3v1fSNrVcQO4lT5B0M3CTpFUlXZ3r0v5T0rDc7jhJ5+fe9mOSShPgnwwMzbGd2u530Po0Fy8ws5pExMuSJgGfBq7h3ak0Q9IxeXs/UiIbFqm0H6S5rUdCKh5eOORvIuKEvP6PwO7AX/K2FSJihKTtgfOBzcrCOR04LSLulPRBYCLw4QphbydpWn59OWk6v5HAsBzvGcB9ETFG0k6k2r8jcvuNSXVrVwIeykPnPwA2i4gRmLWTE66ZtUdpWLmUcA/J6z8r6VDS35TBpMLkpYR7aSvH2lHS0cAKpPmOZ/Fuwr0YICJulzRQ0spl++4CbFLoFA+UNCAiFpS1uyMidi8tSBpHro2bV21LmvKPiLhZ0mqSBuZtf41UVGChpBeANVu5DrOaOOGaWXtcA5wmaSSpFzpF0nrAUcCWETFP0njSHNclr5cfRNJywFnAqIh4StJxZfuUzzlbvrwU8LGIeLMD1/CeeFqxsPB6Mf57aZ3ke7hmVrPcg7yFNMxbelhqICmJzZe0JmnIuS2l5PqSpAHA2LLt+wNI2haYHxHzy7ZfDxxZWpA0oh2XUXQHcFA+xmjgpaheH/U10hCzWbv5E5uZtdfFwFXkJ5YjYrqk+4AHgaeAu9o6QES8Iul3wP3Ac8C9ZU3ezMfsT6r0U+6bpALjM0h/x24HDuvAtRwHnJ+P8x/aKKoeqXj5XZLuB/4WEd/rwDmtj3K1IDMzszrwkLKZmVkdOOGamZnVgROumZlZHTjhmpmZ1YETrpmZWR044ZqZmdWBE66ZmVkd/D9Po1Z7RCEc+gAAAABJRU5ErkJggg==\n",
=======
      "image/png": "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\n",
>>>>>>> c1bd09d305199d2a762fcc762efee491142a3f2b
      "text/plain": [
       "<Figure size 432x288 with 1 Axes>"
      ]
     },
     "metadata": {
      "needs_background": "light"
     },
     "output_type": "display_data"
    }
   ],
   "source": [
    "for name, model in models:\n",
    "        base = model.fit(X_train,y_train)\n",
    "        y_pred = base.predict(X_test)\n",
    "        acc_score = accuracy_score(y_test, y_pred)\n",
    "        feature_imp = pd.Series(base.feature_importances_,\n",
    "                        index=X.columns).sort_values(ascending=False)\n",
    "\n",
    "        sns.barplot(x=feature_imp, y=feature_imp.index)\n",
    "        plt.xlabel('Variable Front')\n",
    "        plt.ylabel('Variables')\n",
    "        plt.title(name)\n",
    "        plt.show()"
   ]
  },
  {
   "cell_type": "code",
<<<<<<< HEAD
   "execution_count": 69,
=======
   "execution_count": 67,
>>>>>>> c1bd09d305199d2a762fcc762efee491142a3f2b
   "metadata": {},
   "outputs": [],
   "source": [
    "import pickle\n",
    "file = open('Customer_Churn_Prediction.pkl', 'wb')\n",
    "pickle.dump(base, file)"
<<<<<<< HEAD
   ]
  },
  {
   "cell_type": "code",
   "execution_count": 70,
   "metadata": {},
   "outputs": [
    {
     "data": {
      "text/html": [
       "<div>\n",
       "<style scoped>\n",
       "    .dataframe tbody tr th:only-of-type {\n",
       "        vertical-align: middle;\n",
       "    }\n",
       "\n",
       "    .dataframe tbody tr th {\n",
       "        vertical-align: top;\n",
       "    }\n",
       "\n",
       "    .dataframe thead th {\n",
       "        text-align: right;\n",
       "    }\n",
       "</style>\n",
       "<table border=\"1\" class=\"dataframe\">\n",
       "  <thead>\n",
       "    <tr style=\"text-align: right;\">\n",
       "      <th></th>\n",
       "      <th>CreditScore</th>\n",
       "      <th>Age</th>\n",
       "      <th>Tenure</th>\n",
       "      <th>Balance</th>\n",
       "      <th>NumOfProducts</th>\n",
       "      <th>HasCrCard</th>\n",
       "      <th>IsActiveMember</th>\n",
       "      <th>EstimatedSalary</th>\n",
       "      <th>Gender_Female</th>\n",
       "      <th>Gender_Male</th>\n",
       "      <th>Geography_France</th>\n",
       "      <th>Geography_Germany</th>\n",
       "      <th>Geography_Spain</th>\n",
       "    </tr>\n",
       "    <tr>\n",
       "      <th>RowNumber</th>\n",
       "      <th></th>\n",
       "      <th></th>\n",
       "      <th></th>\n",
       "      <th></th>\n",
       "      <th></th>\n",
       "      <th></th>\n",
       "      <th></th>\n",
       "      <th></th>\n",
       "      <th></th>\n",
       "      <th></th>\n",
       "      <th></th>\n",
       "      <th></th>\n",
       "      <th></th>\n",
       "    </tr>\n",
       "  </thead>\n",
       "  <tbody>\n",
       "    <tr>\n",
       "      <th>7868</th>\n",
       "      <td>640</td>\n",
       "      <td>46</td>\n",
       "      <td>3</td>\n",
       "      <td>0.00</td>\n",
       "      <td>1</td>\n",
       "      <td>1</td>\n",
       "      <td>1</td>\n",
       "      <td>156260.08</td>\n",
       "      <td>1</td>\n",
       "      <td>0</td>\n",
       "      <td>0</td>\n",
       "      <td>0</td>\n",
       "      <td>1</td>\n",
       "    </tr>\n",
       "    <tr>\n",
       "      <th>1403</th>\n",
       "      <td>757</td>\n",
       "      <td>29</td>\n",
       "      <td>8</td>\n",
       "      <td>130306.49</td>\n",
       "      <td>1</td>\n",
       "      <td>1</td>\n",
       "      <td>0</td>\n",
       "      <td>77469.38</td>\n",
       "      <td>0</td>\n",
       "      <td>1</td>\n",
       "      <td>1</td>\n",
       "      <td>0</td>\n",
       "      <td>0</td>\n",
       "    </tr>\n",
       "    <tr>\n",
       "      <th>8607</th>\n",
       "      <td>807</td>\n",
       "      <td>42</td>\n",
       "      <td>5</td>\n",
       "      <td>0.00</td>\n",
       "      <td>2</td>\n",
       "      <td>1</td>\n",
       "      <td>1</td>\n",
       "      <td>74900.90</td>\n",
       "      <td>0</td>\n",
       "      <td>1</td>\n",
       "      <td>0</td>\n",
       "      <td>0</td>\n",
       "      <td>1</td>\n",
       "    </tr>\n",
       "    <tr>\n",
       "      <th>8886</th>\n",
       "      <td>668</td>\n",
       "      <td>45</td>\n",
       "      <td>4</td>\n",
       "      <td>102486.21</td>\n",
       "      <td>2</td>\n",
       "      <td>1</td>\n",
       "      <td>1</td>\n",
       "      <td>158379.25</td>\n",
       "      <td>0</td>\n",
       "      <td>1</td>\n",
       "      <td>0</td>\n",
       "      <td>0</td>\n",
       "      <td>1</td>\n",
       "    </tr>\n",
       "    <tr>\n",
       "      <th>6495</th>\n",
       "      <td>699</td>\n",
       "      <td>28</td>\n",
       "      <td>7</td>\n",
       "      <td>0.00</td>\n",
       "      <td>2</td>\n",
       "      <td>1</td>\n",
       "      <td>1</td>\n",
       "      <td>22684.78</td>\n",
       "      <td>0</td>\n",
       "      <td>1</td>\n",
       "      <td>1</td>\n",
       "      <td>0</td>\n",
       "      <td>0</td>\n",
       "    </tr>\n",
       "  </tbody>\n",
       "</table>\n",
       "</div>"
      ],
      "text/plain": [
       "           CreditScore  Age  Tenure   Balance  NumOfProducts  HasCrCard  \\\n",
       "RowNumber                                                                 \n",
       "7868               640   46       3      0.00              1          1   \n",
       "1403               757   29       8 130306.49              1          1   \n",
       "8607               807   42       5      0.00              2          1   \n",
       "8886               668   45       4 102486.21              2          1   \n",
       "6495               699   28       7      0.00              2          1   \n",
       "\n",
       "           IsActiveMember  EstimatedSalary  Gender_Female  Gender_Male  \\\n",
       "RowNumber                                                                \n",
       "7868                    1        156260.08              1            0   \n",
       "1403                    0         77469.38              0            1   \n",
       "8607                    1         74900.90              0            1   \n",
       "8886                    1        158379.25              0            1   \n",
       "6495                    1         22684.78              0            1   \n",
       "\n",
       "           Geography_France  Geography_Germany  Geography_Spain  \n",
       "RowNumber                                                        \n",
       "7868                      0                  0                1  \n",
       "1403                      1                  0                0  \n",
       "8607                      0                  0                1  \n",
       "8886                      0                  0                1  \n",
       "6495                      1                  0                0  "
      ]
     },
     "execution_count": 70,
     "metadata": {},
     "output_type": "execute_result"
    }
   ],
   "source": [
    "X_test.head()"
   ]
  },
  {
   "cell_type": "code",
   "execution_count": 71,
   "metadata": {},
   "outputs": [
    {
     "data": {
      "text/plain": [
       "RowNumber\n",
       "7868    0\n",
       "1403    0\n",
       "8607    0\n",
       "8886    0\n",
       "6495    0\n",
       "Name: Exited, dtype: int64"
      ]
     },
     "execution_count": 71,
     "metadata": {},
     "output_type": "execute_result"
    }
   ],
   "source": [
    "y_test.head()"
=======
>>>>>>> c1bd09d305199d2a762fcc762efee491142a3f2b
   ]
  },
  {
   "cell_type": "code",
   "execution_count": 75,
   "metadata": {},
   "outputs": [],
   "source": [
    "f = open('Customer_Churn_Prediction.pkl','rb')\n",
    "model = pickle.load(f)\n",
    "f.close()\n"
   ]
  },
  {
   "cell_type": "code",
   "execution_count": 81,
   "metadata": {},
   "outputs": [
    {
     "name": "stdout",
     "output_type": "stream",
     "text": [
      "[757.0, 29.0, 8.0, 130306.49, 1.0, 1.0, 0.0, 77469.38, 0.0, 1.0, 1.0, 0.0, 0.0]\n",
      "\n",
      "\n",
      "\n",
      "\n",
      "[0]\n"
     ]
    }
   ],
   "source": [
    "print(X_test.iloc[1,:].tolist())\n",
    "print('\\n\\n\\n')\n",
    "print(model.predict([X_test.iloc[1,:].tolist()]))"
   ]
  },
  {
   "cell_type": "code",
   "execution_count": 74,
   "metadata": {},
   "outputs": [
    {
     "name": "stdout",
     "output_type": "stream",
     "text": [
      "churn.csv\n",
      "Customer churn prediction.ipynb\n",
      "Customer_Churn_Prediction.pkl\n",
      "test.py\n"
     ]
    }
   ],
   "source": []
  }
 ],
 "metadata": {
  "kernelspec": {
   "display_name": "Python 3",
   "language": "python",
   "name": "python3"
  },
  "language_info": {
   "codemirror_mode": {
    "name": "ipython",
    "version": 3
   },
   "file_extension": ".py",
   "mimetype": "text/x-python",
   "name": "python",
   "nbconvert_exporter": "python",
   "pygments_lexer": "ipython3",
   "version": "3.9.1"
  }
 },
 "nbformat": 4,
 "nbformat_minor": 4
}
